{
  "cells": [
    {
      "cell_type": "markdown",
      "metadata": {
        "id": "view-in-github",
        "colab_type": "text"
      },
      "source": [
        "<a href=\"https://colab.research.google.com/github/Vrittigyl/stock-prediction/blob/main/Stock_analysis.ipynb\" target=\"_parent\"><img src=\"https://colab.research.google.com/assets/colab-badge.svg\" alt=\"Open In Colab\"/></a>"
      ]
    },
    {
      "cell_type": "markdown",
      "source": [
        "# 📈 Stock Price Prediction using Numerical Trends and News Sentiment\n",
        "A machine learning project to predict stock price trends (up/down) using historical stock data and sentiment analysis of financial news headlines.\n",
        "\n",
        "Features:-\n",
        "- Predicts stock price trends using historical data and news sentiment.\n",
        "- Integrates LSTM and ARIMA models for time-series forecasting.\n",
        "- Uses NLP to analyze sentiment from financial news via the NewsAPI.\n",
        "- Combines technical analysis with sentiment scores for improved accuracy.\n",
        "\n"
      ],
      "metadata": {
        "id": "WDq9fwe7xg9a"
      }
    },
    {
      "cell_type": "code",
      "source": [
        "!pip install -r /content/drive/MyDrive/requirements.txt"
      ],
      "metadata": {
        "id": "MWiyNTDvu0iU"
      },
      "execution_count": null,
      "outputs": []
    },
    {
      "cell_type": "markdown",
      "source": [
        "#Sentiment Analysis"
      ],
      "metadata": {
        "id": "xRDE4rF-L9O4"
      }
    },
    {
      "cell_type": "markdown",
      "source": [
        "##Dataset\n",
        "\n"
      ],
      "metadata": {
        "id": "ezH_OQPTLiRZ"
      }
    },
    {
      "cell_type": "code",
      "source": [
        "#optional\n",
        "import os\n",
        "os.kill(os.getpid(),9)"
      ],
      "metadata": {
        "id": "qiBzQzDltSnN"
      },
      "execution_count": null,
      "outputs": []
    },
    {
      "cell_type": "code",
      "execution_count": 1,
      "metadata": {
        "colab": {
          "base_uri": "https://localhost:8080/"
        },
        "id": "m0G6-tN04U17",
        "outputId": "daca4914-3655-4796-86e5-84769528ba54"
      },
      "outputs": [
        {
          "output_type": "stream",
          "name": "stdout",
          "text": [
            "These are the headlines\n",
            "['Why Google could help Alphabet win the AI race', 'Alphabet (GOOG) Fell Along with Peers', 'Alphabet: Buy More The Best AI Play At A Reasonable Valuation', 'Two Prominent Investors Are Bearish on Alphabet Inc. (GOOG) Stock', 'KeyBanc Keeps an Overweight Rating on Alphabet Inc. (GOOG)']\n",
            "DatetimeIndex(['2025-05-22', '2025-05-07', '2025-05-18', '2025-05-10',\n",
            "               '2025-05-22'],\n",
            "              dtype='datetime64[ns]', freq=None)\n"
          ]
        }
      ],
      "source": [
        "from newsapi import NewsApiClient\n",
        "import pandas as pd\n",
        "from datetime import datetime\n",
        "\n",
        "newsapi = NewsApiClient(api_key='b4f8ba43db3d416c942e6f26984d3262')\n",
        "\n",
        "# Fetch news\n",
        "all_articles = newsapi.get_everything(q='GOOG', language='en', sort_by='relevancy')\n",
        "\n",
        "headlines = [article['title'] for article in all_articles['articles']]\n",
        "dates = [article['publishedAt'] for article in all_articles['articles']]\n",
        "dates = [datetime.strptime(date, '%Y-%m-%dT%H:%M:%SZ').date() for date in dates]\n",
        "\n",
        "# Convert dates to pandas datetime format\n",
        "dates = pd.to_datetime(dates)\n",
        "print(\"These are the headlines\")\n",
        "print(headlines[:5])\n",
        "print(dates[:5])"
      ]
    },
    {
      "cell_type": "markdown",
      "source": [
        "##Data Preprocessing\n",
        "\n"
      ],
      "metadata": {
        "id": "zFfGBVK30FRV"
      }
    },
    {
      "cell_type": "code",
      "execution_count": 5,
      "metadata": {
        "colab": {
          "base_uri": "https://localhost:8080/"
        },
        "id": "NIF4uCCVbztz",
        "outputId": "2ff633b7-edf5-4b70-e42a-281c87f429b2"
      },
      "outputs": [
        {
          "output_type": "stream",
          "name": "stdout",
          "text": [
            "['google could help alphabet win ai race', 'alphabet goog fell along peers', 'alphabet buy best ai play reasonable valuation', 'two prominent investors bearish alphabet inc goog stock', 'keybanc keeps overweight rating alphabet inc goog']\n"
          ]
        },
        {
          "output_type": "stream",
          "name": "stderr",
          "text": [
            "[nltk_data] Downloading package stopwords to /root/nltk_data...\n",
            "[nltk_data]   Unzipping corpora/stopwords.zip.\n"
          ]
        }
      ],
      "source": [
        "from transformers import pipeline\n",
        "import re\n",
        "import nltk\n",
        "from nltk.corpus import stopwords\n",
        "from transformers import pipeline\n",
        "\n",
        "# Download stopwords\n",
        "nltk.download('stopwords')\n",
        "stop_words = set(stopwords.words('english'))\n",
        "\n",
        "# Function to process headlines\n",
        "def process_headline(text):\n",
        "\n",
        "    text = text.lower()\n",
        "\n",
        "    text = re.sub(r'[^a-zA-Z\\s]', '', text)\n",
        "\n",
        "    words = text.split()\n",
        "    words = [word for word in words if word not in stop_words]\n",
        "    return ' '.join(words)\n",
        "\n",
        "\n",
        "processed_headlines = [process_headline(headline) for headline in headlines]\n",
        "print(processed_headlines[:5])"
      ]
    },
    {
      "cell_type": "markdown",
      "source": [
        "##Model Training"
      ],
      "metadata": {
        "id": "4bEr4QxkbJfq"
      }
    },
    {
      "cell_type": "code",
      "execution_count": null,
      "metadata": {
        "colab": {
          "base_uri": "https://localhost:8080/",
          "height": 49,
          "referenced_widgets": [
            "ce1e0f2d989d46c5a733da2802109cf9",
            "4c41251c49f2419784e180863ff65ab2",
            "078cf2022d404c829998e56d65403d46",
            "d9d8f36c4b9e4111ae6ec7836a02ef0d",
            "271efb4414494fd3813e4f323ca41f57",
            "b1e4b40b7e6b4eec98cd01e75775bc48",
            "6a9315a60a894143bbf88d69d6fe90f2",
            "034c938ec2d44d76bcd4b6b9cfe67ceb",
            "6a3a3c07112e4f4989b056ac3a2080fb",
            "a878e33dd6b64954838328da8c0c1d95",
            "2b6f9a023a234a5fbafb1f5eef0bb2d7"
          ]
        },
        "id": "ASwmC8gHb7D6",
        "outputId": "4d5a9438-80f3-4cf9-f3a1-2c8b8fd8cb98"
      },
      "outputs": [
        {
          "output_type": "display_data",
          "data": {
            "text/plain": [
              "Map:   0%|          | 0/4845 [00:00<?, ? examples/s]"
            ],
            "application/vnd.jupyter.widget-view+json": {
              "version_major": 2,
              "version_minor": 0,
              "model_id": "ce1e0f2d989d46c5a733da2802109cf9"
            }
          },
          "metadata": {}
        }
      ],
      "source": [
        "from datasets import load_dataset,Dataset\n",
        "import pandas as pd\n",
        "\n",
        "dataset=pd.read_csv(\"/content/drive/MyDrive/all-data.csv\")\n",
        "\n",
        "dataset = Dataset.from_pandas(dataset)\n",
        "\n",
        "\n",
        "label_mapping = {\"negative\": 0, \"neutral\": 1, \"positive\": 2}\n",
        "dataset = dataset.map(lambda x: {\"Label\": label_mapping[x[\"Label\"]]})\n",
        "\n",
        "# 80% train and 20% validation\n",
        "dataset = dataset.train_test_split(test_size=0.2)\n",
        "train_dataset = dataset[\"train\"]\n",
        "validation_dataset = dataset[\"test\"]"
      ]
    },
    {
      "cell_type": "code",
      "execution_count": null,
      "metadata": {
        "colab": {
          "base_uri": "https://localhost:8080/",
          "height": 208,
          "referenced_widgets": [
            "71c4a0ab02294c758056ceaab704cf6d",
            "2318beaa535f4f6d82d39e003c0b6dfb",
            "86e0b888bad04fa9b3ff2b88c9153b8e",
            "13a819cca62c4ca1b48f2b7f77d8e36c",
            "3ef34cb98f554c4f99f354b85d687d22",
            "1027c54a71334412b2630895d27014ac",
            "476c01bfe5094aafbb920328491bd4aa",
            "e4b1ed57e6c04c2bab1d27a7f8b08c17",
            "8971b7eec4f94c9a9250f79bc13a69cc",
            "2671460f0fab47acadfd221506e0aa62",
            "6d1e3416bc7b4d8bb15757b83ec37d7f",
            "7c126e1fbc3742f1a4a38212a0b23728",
            "5d9b131220e84f4d885d8d9fbd4be19e",
            "9900da48d0bc4e5f81af0f82c6fd7994",
            "09ad6cbcecf243fabcc52374b81aade7",
            "b1d820e50a1c43818e2b022593dce594",
            "907efeccf035408a8f7c5784f70f1d7b",
            "4822a46390c94aff9627daf79ffb4817",
            "95f30d9dcf1c4c8b92766b232e4fb1eb",
            "02a56be89e32446293301f9d59472118",
            "e1f1fb8d17644a36a468fd37bfa2ce39",
            "b0fc5e63e5de42e398270afc6784250e"
          ]
        },
        "id": "QYxcVVRWeU2z",
        "outputId": "132eaf7d-41c5-4f98-9808-7c283d26484d"
      },
      "outputs": [
        {
          "output_type": "stream",
          "name": "stderr",
          "text": [
            "/usr/local/lib/python3.11/dist-packages/huggingface_hub/utils/_auth.py:94: UserWarning: \n",
            "The secret `HF_TOKEN` does not exist in your Colab secrets.\n",
            "To authenticate with the Hugging Face Hub, create a token in your settings tab (https://huggingface.co/settings/tokens), set it as secret in your Google Colab and restart your session.\n",
            "You will be able to reuse this secret in all of your notebooks.\n",
            "Please note that authentication is recommended but still optional to access public models or datasets.\n",
            "  warnings.warn(\n"
          ]
        },
        {
          "output_type": "display_data",
          "data": {
            "text/plain": [
              "Map:   0%|          | 0/3876 [00:00<?, ? examples/s]"
            ],
            "application/vnd.jupyter.widget-view+json": {
              "version_major": 2,
              "version_minor": 0,
              "model_id": "71c4a0ab02294c758056ceaab704cf6d"
            }
          },
          "metadata": {}
        },
        {
          "output_type": "display_data",
          "data": {
            "text/plain": [
              "Map:   0%|          | 0/969 [00:00<?, ? examples/s]"
            ],
            "application/vnd.jupyter.widget-view+json": {
              "version_major": 2,
              "version_minor": 0,
              "model_id": "7c126e1fbc3742f1a4a38212a0b23728"
            }
          },
          "metadata": {}
        }
      ],
      "source": [
        "from transformers import AutoTokenizer,DefaultDataCollator\n",
        "\n",
        "tokenizer = AutoTokenizer.from_pretrained(\"yiyanghkust/finbert-tone\")\n",
        "\n",
        "def tokenize(batch):\n",
        "    return tokenizer(batch[\"Headlinesexample\"], padding=\"max_length\", truncation=True,max_length=64)\n",
        "\n",
        "train_dataset = train_dataset.map(tokenize, batched=True)\n",
        "validation_dataset = validation_dataset.map(tokenize, batched=True)"
      ]
    },
    {
      "cell_type": "code",
      "execution_count": null,
      "metadata": {
        "colab": {
          "base_uri": "https://localhost:8080/"
        },
        "id": "iTdYjjsjdFh8",
        "outputId": "eef6477b-d8a7-4ed0-c3aa-adb97b8f4f45"
      },
      "outputs": [
        {
          "output_type": "stream",
          "name": "stdout",
          "text": [
            "Training dataset type: <class 'tensorflow.python.data.ops.prefetch_op._PrefetchDataset'>\n",
            "Validation dataset type: <class 'tensorflow.python.data.ops.prefetch_op._PrefetchDataset'>\n"
          ]
        }
      ],
      "source": [
        "# Set up data collator to batch the input correctly\n",
        "data_collator = DefaultDataCollator(return_tensors=\"tf\")\n",
        "\n",
        "train_dataset = train_dataset.to_tf_dataset(\n",
        "    columns=[\"input_ids\", \"attention_mask\"],\n",
        "    label_cols=\"Label\",\n",
        "    shuffle=True,\n",
        "    batch_size=4,\n",
        ")\n",
        "\n",
        "validation_dataset = validation_dataset.to_tf_dataset(\n",
        "    columns=[\"input_ids\", \"attention_mask\"],\n",
        "    label_cols=\"Label\",\n",
        "    shuffle=False,\n",
        "    batch_size=4,\n",
        ")\n",
        "# Verify dataset type\n",
        "print(f\"Training dataset type: {type(train_dataset)}\")\n",
        "print(f\"Validation dataset type: {type(validation_dataset)}\")\n"
      ]
    },
    {
      "cell_type": "code",
      "execution_count": null,
      "metadata": {
        "colab": {
          "base_uri": "https://localhost:8080/",
          "height": 140,
          "referenced_widgets": [
            "f7f6fed6b3904edcb71dab428d8b80b1",
            "5aba10dbb22a45a099d382c801031608",
            "1844779e8c7441468447497bf0406048",
            "fac4c993d66944278ddda8a884649ab2",
            "877021ac6a4546c5b80e3d9b9e08bcf7",
            "f9aa7f5a8346412a87e6583dd31185aa",
            "843ec77eb41b47c48635e44fdbb99b59",
            "954587acd84740a6b55aa3fa5f79a3b3",
            "d1a02a22ff174bf58cae06cdd25dfe39",
            "2097d717ec504a59ba3bcea26d76bb2d",
            "b2916a6f5dc94f3098047be53e277008"
          ]
        },
        "id": "XKgUJN9rmVLu",
        "outputId": "731af221-ab9f-42ab-b9ca-b1a2711b36aa"
      },
      "outputs": [
        {
          "output_type": "display_data",
          "data": {
            "text/plain": [
              "tf_model.h5:   0%|          | 0.00/439M [00:00<?, ?B/s]"
            ],
            "application/vnd.jupyter.widget-view+json": {
              "version_major": 2,
              "version_minor": 0,
              "model_id": "f7f6fed6b3904edcb71dab428d8b80b1"
            }
          },
          "metadata": {}
        },
        {
          "output_type": "stream",
          "name": "stderr",
          "text": [
            "All model checkpoint layers were used when initializing TFBertForSequenceClassification.\n",
            "\n",
            "All the layers of TFBertForSequenceClassification were initialized from the model checkpoint at yiyanghkust/finbert-tone.\n",
            "If your task is similar to the task the model of the checkpoint was trained on, you can already use TFBertForSequenceClassification for predictions without further training.\n"
          ]
        }
      ],
      "source": [
        "from transformers import TFAutoModelForSequenceClassification\n",
        "\n",
        "model = TFAutoModelForSequenceClassification.from_pretrained(\"yiyanghkust/finbert-tone\", num_labels=3)"
      ]
    },
    {
      "cell_type": "code",
      "execution_count": null,
      "metadata": {
        "id": "J0eS_GEpmZHp"
      },
      "outputs": [],
      "source": [
        "import tensorflow as tf\n",
        "\n",
        "optimizer = tf.keras.optimizers.Adam(learning_rate=2e-5)\n",
        "loss = tf.keras.losses.SparseCategoricalCrossentropy(from_logits=True)\n",
        "metrics = [tf.keras.metrics.SparseCategoricalAccuracy()]\n",
        "\n",
        "model.compile(optimizer=optimizer, loss=loss, metrics=metrics)"
      ]
    },
    {
      "cell_type": "code",
      "execution_count": null,
      "metadata": {
        "colab": {
          "base_uri": "https://localhost:8080/"
        },
        "id": "b6bt8gVNmchL",
        "outputId": "6e0beb85-9328-4364-e835-469d7b74dd6d"
      },
      "outputs": [
        {
          "output_type": "stream",
          "name": "stdout",
          "text": [
            "969/969 [==============================] - 4511s 5s/step - loss: 0.6817 - sparse_categorical_accuracy: 0.7650 - val_loss: 0.3557 - val_sparse_categorical_accuracy: 0.8596\n"
          ]
        },
        {
          "output_type": "execute_result",
          "data": {
            "text/plain": [
              "<tf_keras.src.callbacks.History at 0x784935bd9910>"
            ]
          },
          "metadata": {},
          "execution_count": 10
        }
      ],
      "source": [
        "# Train the model\n",
        "#a tf model\n",
        "model.fit(\n",
        "    train_dataset,\n",
        "    validation_data=validation_dataset,\n",
        "    epochs=1\n",
        ")"
      ]
    },
    {
      "cell_type": "code",
      "execution_count": null,
      "metadata": {
        "id": "xh-UzpMf3_vO",
        "colab": {
          "base_uri": "https://localhost:8080/"
        },
        "outputId": "fcf2c45d-2524-474c-9fbe-c34b7499b896"
      },
      "outputs": [
        {
          "output_type": "stream",
          "name": "stdout",
          "text": [
            "243/243 [==============================] - 244s 1s/step - loss: 0.3557 - sparse_categorical_accuracy: 0.8596\n",
            "Validation Loss: 0.35568270087242126\n",
            "Validation Accuracy: 0.859649121761322\n",
            "Drive already mounted at /content/drive; to attempt to forcibly remount, call drive.mount(\"/content/drive\", force_remount=True).\n"
          ]
        }
      ],
      "source": [
        "loss, accuracy = model.evaluate(validation_dataset)\n",
        "print(f\"Validation Loss: {loss}\")\n",
        "print(f\"Validation Accuracy: {accuracy}\")\n",
        "model.save_pretrained(\"/content/my_tf_model\")\n",
        "tokenizer.save_pretrained(\"/content/my_tf_model\")\n",
        "from google.colab import drive\n",
        "drive.mount('/content/drive')\n",
        "!cp -r /content/my_tf_model /content/drive/MyDrive/"
      ]
    },
    {
      "cell_type": "markdown",
      "source": [
        "Import the model path"
      ],
      "metadata": {
        "id": "7m8DZtjhbRro"
      }
    },
    {
      "cell_type": "code",
      "source": [
        "from transformers import TFAutoModelForSequenceClassification, AutoTokenizer\n",
        "#Enter the path where your tf_model is saved\n",
        "model = TFAutoModelForSequenceClassification.from_pretrained(\"/content/drive/MyDrive/my_tf_model\")\n",
        "tokenizer = AutoTokenizer.from_pretrained(\"/content/drive/MyDrive/my_tf_model\")"
      ],
      "metadata": {
        "colab": {
          "base_uri": "https://localhost:8080/"
        },
        "id": "rIvqZ55tzWGZ",
        "outputId": "7dc7b7ad-2374-4695-b889-6b534659472d"
      },
      "execution_count": 3,
      "outputs": [
        {
          "output_type": "stream",
          "name": "stderr",
          "text": [
            "All model checkpoint layers were used when initializing TFBertForSequenceClassification.\n",
            "\n",
            "All the layers of TFBertForSequenceClassification were initialized from the model checkpoint at /content/drive/MyDrive/my_tf_model.\n",
            "If your task is similar to the task the model of the checkpoint was trained on, you can already use TFBertForSequenceClassification for predictions without further training.\n"
          ]
        }
      ]
    },
    {
      "cell_type": "markdown",
      "source": [
        "##Output of SA"
      ],
      "metadata": {
        "id": "Mu21rmcHPJ6_"
      }
    },
    {
      "cell_type": "code",
      "source": [
        "from transformers import pipeline\n",
        "# Load pre-trained FinBERT model for sentiment analysis\n",
        "sentiment_analyzer = pipeline(\"sentiment-analysis\", model=model, tokenizer=tokenizer)\n",
        "\n",
        "# Analyze sentiment of the processed headlines\n",
        "sentiment_scores = sentiment_analyzer(processed_headlines)\n",
        "\n",
        "# Display sentiment of each headline\n",
        "for original, processed, sentiment in zip(headlines[:7], processed_headlines[:7], sentiment_scores[:7]):\n",
        "    print(f\"Original Headline: {original}\")\n",
        "    print(f\"Processed Headline: {processed}\")\n",
        "    print(f\"Sentiment: {sentiment}\")\n",
        "    print('-' * 80)\n",
        "\n",
        "# Convert sentiment scores to a format we can use\n",
        "# Example mapping: positive -> 1, neutral -> 0, negative -> -1\n",
        "sentiment_labels = [1 if s['label'] == 'positive' else -1 if s['label'] == 'negative' else 0 for s in sentiment_scores]\n",
        "\n",
        "#sentiment_scores_values = [s['score'] for s in sentiment_scores]\n",
        "sentiment_df = pd.DataFrame({'Date': dates, 'Sentiment': sentiment_labels})\n",
        "sentiment_df = sentiment_df.groupby('Date').mean().reset_index()\n",
        "\n",
        "# Display the first few rows of the sentiment DataFrame\n",
        "print(sentiment_df.head())\n"
      ],
      "metadata": {
        "colab": {
          "base_uri": "https://localhost:8080/"
        },
        "id": "ZxihEtyq0Ou4",
        "outputId": "7add2d19-4eaf-43d7-8a1b-cc421a16f139"
      },
      "execution_count": 6,
      "outputs": [
        {
          "output_type": "stream",
          "name": "stderr",
          "text": [
            "Device set to use 0\n"
          ]
        },
        {
          "output_type": "stream",
          "name": "stdout",
          "text": [
            "Original Headline: Why Google could help Alphabet win the AI race\n",
            "Processed Headline: google could help alphabet win ai race\n",
            "Sentiment: {'label': 'Positive', 'score': 0.7182533144950867}\n",
            "--------------------------------------------------------------------------------\n",
            "Original Headline: Alphabet (GOOG) Fell Along with Peers\n",
            "Processed Headline: alphabet goog fell along peers\n",
            "Sentiment: {'label': 'Positive', 'score': 0.8335282206535339}\n",
            "--------------------------------------------------------------------------------\n",
            "Original Headline: Alphabet: Buy More The Best AI Play At A Reasonable Valuation\n",
            "Processed Headline: alphabet buy best ai play reasonable valuation\n",
            "Sentiment: {'label': 'Positive', 'score': 0.7350632548332214}\n",
            "--------------------------------------------------------------------------------\n",
            "Original Headline: Two Prominent Investors Are Bearish on Alphabet Inc. (GOOG) Stock\n",
            "Processed Headline: two prominent investors bearish alphabet inc goog stock\n",
            "Sentiment: {'label': 'Positive', 'score': 0.9606278538703918}\n",
            "--------------------------------------------------------------------------------\n",
            "Original Headline: KeyBanc Keeps an Overweight Rating on Alphabet Inc. (GOOG)\n",
            "Processed Headline: keybanc keeps overweight rating alphabet inc goog\n",
            "Sentiment: {'label': 'Negative', 'score': 0.8649776577949524}\n",
            "--------------------------------------------------------------------------------\n",
            "Original Headline: Well-Known Tech Analyst Suggests That He’s Somewhat Worried About AAPL’s Outlook\n",
            "Processed Headline: wellknown tech analyst suggests hes somewhat worried aapls outlook\n",
            "Sentiment: {'label': 'Neutral', 'score': 0.5063236355781555}\n",
            "--------------------------------------------------------------------------------\n",
            "Original Headline: Alphabet (GOOG) Stock Rated ‘Buy’ as Chrome Gains on Safari\n",
            "Processed Headline: alphabet goog stock rated buy chrome gains safari\n",
            "Sentiment: {'label': 'Positive', 'score': 0.7830286622047424}\n",
            "--------------------------------------------------------------------------------\n",
            "        Date  Sentiment\n",
            "0 2025-05-02        0.0\n",
            "1 2025-05-04        0.0\n",
            "2 2025-05-05        0.0\n",
            "3 2025-05-06        0.0\n",
            "4 2025-05-07        0.0\n"
          ]
        }
      ]
    },
    {
      "cell_type": "markdown",
      "source": [
        "#Technical Analysis"
      ],
      "metadata": {
        "id": "TpBmPCkUMSRT"
      }
    },
    {
      "cell_type": "markdown",
      "source": [
        "##Dataset"
      ],
      "metadata": {
        "id": "9nh1JdBwOL9Q"
      }
    },
    {
      "cell_type": "code",
      "source": [
        "import yfinance as yf\n",
        "\n",
        "# Fetch historical stock data\n",
        "ticker = 'GOOG'\n",
        "stock_data = yf.download(ticker, start='2025-4-30', end='2025-5-30', interval='1d')\n",
        "\n",
        "# Prepare data for technical analysis (use 'Close' prices)\n",
        "stock_prices_df = stock_data[['Close']].dropna()  # Keep only 'Close' prices and remove any missing values\n",
        "\n",
        "# Convert 'Close' prices to a DataFrame with columns ['Date', 'Price']\n",
        "stock_prices_df.reset_index(inplace=True)\n",
        "stock_prices_df.rename(columns={'Close': 'Price'}, inplace=True)  # Rename 'Close' to 'Price'\n",
        "# Display the result\n",
        "print(stock_prices_df.tail())"
      ],
      "metadata": {
        "colab": {
          "base_uri": "https://localhost:8080/"
        },
        "id": "wagfweMs0dNZ",
        "outputId": "f3504743-005d-4dd9-b050-af2dd0156942"
      },
      "execution_count": null,
      "outputs": [
        {
          "output_type": "stream",
          "name": "stderr",
          "text": [
            "\r[*********************100%***********************]  1 of 1 completed"
          ]
        },
        {
          "output_type": "stream",
          "name": "stdout",
          "text": [
            "Price        Date       Price\n",
            "Ticker                   GOOG\n",
            "16     2025-05-08  155.750000\n",
            "17     2025-05-09  154.380005\n",
            "18     2025-05-12  159.580002\n",
            "19     2025-05-13  160.889999\n",
            "20     2025-05-14  166.809998\n"
          ]
        },
        {
          "output_type": "stream",
          "name": "stderr",
          "text": [
            "\n"
          ]
        }
      ]
    },
    {
      "cell_type": "markdown",
      "source": [
        "##Model Training"
      ],
      "metadata": {
        "id": "LfSwr9WLOEx6"
      }
    },
    {
      "cell_type": "code",
      "source": [
        "from pmdarima import auto_arima\n",
        "\n",
        "# Fit ARIMA model on stock prices\n",
        "arima_model = auto_arima(stock_prices_df['Price'], seasonal=False, trace=True, suppress_warnings=True)\n",
        "\n",
        "# Predict next day's stock price\n",
        "n_days = 1\n",
        "arima_forecast = arima_model.predict(n_periods=n_days)\n",
        "\n",
        "print(f\"ARIMA Prediction for next day: {arima_forecast}\")"
      ],
      "metadata": {
        "id": "egrY9-iJvAiQ"
      },
      "execution_count": null,
      "outputs": []
    },
    {
      "cell_type": "markdown",
      "source": [
        "#Merging outputs of both models"
      ],
      "metadata": {
        "id": "n4pPiGzXMZcH"
      }
    },
    {
      "cell_type": "code",
      "source": [
        "import pandas as pd\n",
        "import numpy as np\n",
        "from sklearn.preprocessing import MinMaxScaler\n",
        "\n",
        "# Assuming `stock_prices_df` is a DataFrame with columns ['Date', 'Price'] and `sentiment_df` has columns ['Date', 'Sentiment']\n",
        "# Ensure both Date columns are in the same format (convert to naive datetime or to UTC)\n",
        "stock_prices_df['Date'] = pd.to_datetime(stock_prices_df['Date']).dt.tz_localize(None)  # Remove timezone info (naive datetime)\n",
        "sentiment_df['Date'] = pd.to_datetime(sentiment_df['Date']).dt.tz_localize(None)  # Remove timezone info (naive datetime)\n",
        "#convert multiindex stock_prices to unindex\n",
        "stock_prices_df.columns = ['_'.join(filter(None, col)).strip() for col in stock_prices_df.columns.values]\n",
        "stock_prices_df.rename(columns={'Date': 'Date', 'Price_GOOG': 'Price'}, inplace=True)\n",
        "# Merge stock prices and sentiment data based on the 'Date' column\n",
        "merged_data = pd.merge(stock_prices_df, sentiment_df, on='Date')\n",
        "\n",
        "# Check the date ranges in both DataFrames\n",
        "print(f\"Stock Prices Date Range: {stock_prices_df['Date'].min()} to {stock_prices_df['Date'].max()}\")\n",
        "print(f\"Sentiment Data Date Range: {sentiment_df['Date'].min()} to {sentiment_df['Date'].max()}\")\n",
        "\n",
        "# Check the number of matching rows after the merge\n",
        "merged_data = pd.merge(stock_prices_df, sentiment_df, on='Date', how='inner')\n",
        "print(f\"Number of matching rows after merge: {len(merged_data)}\")\n",
        "\n",
        "# Scale the stock prices\n",
        "scaler = MinMaxScaler(feature_range=(0, 1))\n",
        "merged_data['Scaled_Price'] = scaler.fit_transform(merged_data['Price'].values.reshape(-1, 1))\n",
        "\n",
        "# Create a dataset with both scaled stock prices and sentiment data\n",
        "def create_dataset_with_sentiment(merged_data, time_step=60):\n",
        "    X, y = [], []\n",
        "    stock_data = merged_data['Scaled_Price'].values\n",
        "    sentiment_data = merged_data['Sentiment'].values\n",
        "\n",
        "    for i in range(len(stock_data) - time_step - 1):\n",
        "        stock_window = stock_data[i:(i + time_step)]  # Past stock prices\n",
        "        sentiment_window = sentiment_data[i:(i + time_step)]  # Sentiment during the same period\n",
        "\n",
        "        combined = np.column_stack((stock_window, sentiment_window))  # Combine stock prices and sentiment as 2D features\n",
        "        X.append(combined)\n",
        "        y.append(stock_data[i + time_step])  # Next stock price as the target\n",
        "\n",
        "    return np.array(X), np.array(y)\n",
        "\n",
        "# Set the time step for prediction\n",
        "time_step = 6\n",
        "\n",
        "# Create the datasets with stock prices and sentiment\n",
        "X, y = create_dataset_with_sentiment(merged_data, time_step)\n",
        "\n",
        "# Reshape X for LSTM input (samples, time steps, features)\n",
        "X = X.reshape(X.shape[0], time_step, 2)  # 2 features: stock prices and sentiment\n",
        "\n",
        "# X and y are now ready for LSTM training\n",
        "\n"
      ],
      "metadata": {
        "colab": {
          "base_uri": "https://localhost:8080/"
        },
        "id": "yzCjNKyb0tGL",
        "outputId": "a620ed05-1f3c-424e-af28-827a4f310f0a"
      },
      "execution_count": null,
      "outputs": [
        {
          "output_type": "stream",
          "name": "stdout",
          "text": [
            "Stock Prices Date Range: 2025-04-15 00:00:00 to 2025-05-14 00:00:00\n",
            "Sentiment Data Date Range: 2025-04-30 00:00:00 to 2025-05-30 00:00:00\n",
            "Number of matching rows after merge: 11\n"
          ]
        }
      ]
    },
    {
      "cell_type": "code",
      "source": [
        "import numpy as np\n",
        "import tensorflow as tf\n",
        "from tensorflow.keras.models import Sequential\n",
        "from tensorflow.keras.layers import LSTM, Dense\n",
        "\n",
        "def build_lstm_model(time_step):\n",
        "    model = Sequential()\n",
        "    model.add(LSTM(units=50, return_sequences=True, input_shape=(time_step, 2)))  # 2 features: stock prices and sentiment\n",
        "    model.add(LSTM(units=50, return_sequences=False))\n",
        "    model.add(Dense(units=25))\n",
        "    model.add(Dense(units=1))  # Output layer (predicting next stock price)\n",
        "\n",
        "    model.compile(optimizer='adam', loss='mean_squared_error')\n",
        "    return model\n",
        "\n",
        "# Build and train the model\n",
        "model = build_lstm_model(time_step)\n",
        "model.fit(X, y, epochs=20, batch_size=60)"
      ],
      "metadata": {
        "colab": {
          "base_uri": "https://localhost:8080/"
        },
        "id": "E7yPtIkR03b2",
        "outputId": "890ea097-c6b8-4123-e490-f9207e28fc39"
      },
      "execution_count": null,
      "outputs": [
        {
          "output_type": "stream",
          "name": "stdout",
          "text": [
            "Epoch 1/20\n"
          ]
        },
        {
          "output_type": "stream",
          "name": "stderr",
          "text": [
            "/usr/local/lib/python3.11/dist-packages/keras/src/layers/rnn/rnn.py:200: UserWarning: Do not pass an `input_shape`/`input_dim` argument to a layer. When using Sequential models, prefer using an `Input(shape)` object as the first layer in the model instead.\n",
            "  super().__init__(**kwargs)\n"
          ]
        },
        {
          "output_type": "stream",
          "name": "stdout",
          "text": [
            "\u001b[1m1/1\u001b[0m \u001b[32m━━━━━━━━━━━━━━━━━━━━\u001b[0m\u001b[37m\u001b[0m \u001b[1m4s\u001b[0m 4s/step - loss: 0.1479\n",
            "Epoch 2/20\n",
            "\u001b[1m1/1\u001b[0m \u001b[32m━━━━━━━━━━━━━━━━━━━━\u001b[0m\u001b[37m\u001b[0m \u001b[1m0s\u001b[0m 59ms/step - loss: 0.1214\n",
            "Epoch 3/20\n",
            "\u001b[1m1/1\u001b[0m \u001b[32m━━━━━━━━━━━━━━━━━━━━\u001b[0m\u001b[37m\u001b[0m \u001b[1m0s\u001b[0m 64ms/step - loss: 0.0990\n",
            "Epoch 4/20\n",
            "\u001b[1m1/1\u001b[0m \u001b[32m━━━━━━━━━━━━━━━━━━━━\u001b[0m\u001b[37m\u001b[0m \u001b[1m0s\u001b[0m 60ms/step - loss: 0.0806\n",
            "Epoch 5/20\n",
            "\u001b[1m1/1\u001b[0m \u001b[32m━━━━━━━━━━━━━━━━━━━━\u001b[0m\u001b[37m\u001b[0m \u001b[1m0s\u001b[0m 54ms/step - loss: 0.0662\n",
            "Epoch 6/20\n",
            "\u001b[1m1/1\u001b[0m \u001b[32m━━━━━━━━━━━━━━━━━━━━\u001b[0m\u001b[37m\u001b[0m \u001b[1m0s\u001b[0m 54ms/step - loss: 0.0562\n",
            "Epoch 7/20\n",
            "\u001b[1m1/1\u001b[0m \u001b[32m━━━━━━━━━━━━━━━━━━━━\u001b[0m\u001b[37m\u001b[0m \u001b[1m0s\u001b[0m 55ms/step - loss: 0.0510\n",
            "Epoch 8/20\n",
            "\u001b[1m1/1\u001b[0m \u001b[32m━━━━━━━━━━━━━━━━━━━━\u001b[0m\u001b[37m\u001b[0m \u001b[1m0s\u001b[0m 58ms/step - loss: 0.0508\n",
            "Epoch 9/20\n",
            "\u001b[1m1/1\u001b[0m \u001b[32m━━━━━━━━━━━━━━━━━━━━\u001b[0m\u001b[37m\u001b[0m \u001b[1m0s\u001b[0m 55ms/step - loss: 0.0543\n",
            "Epoch 10/20\n",
            "\u001b[1m1/1\u001b[0m \u001b[32m━━━━━━━━━━━━━━━━━━━━\u001b[0m\u001b[37m\u001b[0m \u001b[1m0s\u001b[0m 55ms/step - loss: 0.0588\n",
            "Epoch 11/20\n",
            "\u001b[1m1/1\u001b[0m \u001b[32m━━━━━━━━━━━━━━━━━━━━\u001b[0m\u001b[37m\u001b[0m \u001b[1m0s\u001b[0m 60ms/step - loss: 0.0613\n",
            "Epoch 12/20\n",
            "\u001b[1m1/1\u001b[0m \u001b[32m━━━━━━━━━━━━━━━━━━━━\u001b[0m\u001b[37m\u001b[0m \u001b[1m0s\u001b[0m 52ms/step - loss: 0.0611\n",
            "Epoch 13/20\n",
            "\u001b[1m1/1\u001b[0m \u001b[32m━━━━━━━━━━━━━━━━━━━━\u001b[0m\u001b[37m\u001b[0m \u001b[1m0s\u001b[0m 53ms/step - loss: 0.0588\n",
            "Epoch 14/20\n",
            "\u001b[1m1/1\u001b[0m \u001b[32m━━━━━━━━━━━━━━━━━━━━\u001b[0m\u001b[37m\u001b[0m \u001b[1m0s\u001b[0m 55ms/step - loss: 0.0557\n",
            "Epoch 15/20\n",
            "\u001b[1m1/1\u001b[0m \u001b[32m━━━━━━━━━━━━━━━━━━━━\u001b[0m\u001b[37m\u001b[0m \u001b[1m0s\u001b[0m 58ms/step - loss: 0.0526\n",
            "Epoch 16/20\n",
            "\u001b[1m1/1\u001b[0m \u001b[32m━━━━━━━━━━━━━━━━━━━━\u001b[0m\u001b[37m\u001b[0m \u001b[1m0s\u001b[0m 53ms/step - loss: 0.0503\n",
            "Epoch 17/20\n",
            "\u001b[1m1/1\u001b[0m \u001b[32m━━━━━━━━━━━━━━━━━━━━\u001b[0m\u001b[37m\u001b[0m \u001b[1m0s\u001b[0m 53ms/step - loss: 0.0488\n",
            "Epoch 18/20\n",
            "\u001b[1m1/1\u001b[0m \u001b[32m━━━━━━━━━━━━━━━━━━━━\u001b[0m\u001b[37m\u001b[0m \u001b[1m0s\u001b[0m 63ms/step - loss: 0.0481\n",
            "Epoch 19/20\n",
            "\u001b[1m1/1\u001b[0m \u001b[32m━━━━━━━━━━━━━━━━━━━━\u001b[0m\u001b[37m\u001b[0m \u001b[1m0s\u001b[0m 74ms/step - loss: 0.0480\n",
            "Epoch 20/20\n",
            "\u001b[1m1/1\u001b[0m \u001b[32m━━━━━━━━━━━━━━━━━━━━\u001b[0m\u001b[37m\u001b[0m \u001b[1m0s\u001b[0m 54ms/step - loss: 0.0482\n"
          ]
        },
        {
          "output_type": "execute_result",
          "data": {
            "text/plain": [
              "<keras.src.callbacks.history.History at 0x7e2b942d1190>"
            ]
          },
          "metadata": {},
          "execution_count": 26
        }
      ]
    },
    {
      "cell_type": "code",
      "source": [
        "def predict_future_prices(model, merged_data, time_step, future_days):\n",
        "    # Get the last 'time_step' days of stock prices and sentiment data\n",
        "    recent_stock_prices = merged_data['Scaled_Price'].values[-time_step:]\n",
        "    recent_sentiment = merged_data['Sentiment'].values[-time_step:]\n",
        "\n",
        "    # Combine them into a single input array\n",
        "    recent_data = np.column_stack((recent_stock_prices, recent_sentiment)).reshape(1, time_step, 2)\n",
        "\n",
        "    # Predict future prices day by day\n",
        "    future_predictions = []\n",
        "\n",
        "    for _ in range(future_days):\n",
        "        # Predict the next stock price\n",
        "        next_price = model.predict(recent_data)\n",
        "        future_predictions.append(next_price[0][0])\n",
        "\n",
        "        # Prepare the new data point for the next prediction\n",
        "        next_data = np.array([[next_price[0][0], recent_sentiment[-1]]])  # Assuming sentiment remains constant\n",
        "\n",
        "        # Shift window by 1 and add new data\n",
        "        recent_data = np.concatenate((recent_data[:, 1:, :], next_data.reshape(1, 1, 2)), axis=1)\n",
        "\n",
        "    return future_predictions\n",
        "\n",
        "# Predict stock prices for the next 10 days\n",
        "future_days = 20\n",
        "predicted_future_prices = predict_future_prices(model, merged_data, time_step, future_days)\n",
        "\n",
        "# Show predicted stock prices (in scaled format)\n",
        "print(predicted_future_prices)\n"
      ],
      "metadata": {
        "colab": {
          "base_uri": "https://localhost:8080/"
        },
        "id": "m0sfHELn0-Vy",
        "outputId": "7553d1e2-a3d5-44e7-ab63-476cefd8386c"
      },
      "execution_count": null,
      "outputs": [
        {
          "output_type": "stream",
          "name": "stdout",
          "text": [
            "\u001b[1m1/1\u001b[0m \u001b[32m━━━━━━━━━━━━━━━━━━━━\u001b[0m\u001b[37m\u001b[0m \u001b[1m0s\u001b[0m 482ms/step\n",
            "\u001b[1m1/1\u001b[0m \u001b[32m━━━━━━━━━━━━━━━━━━━━\u001b[0m\u001b[37m\u001b[0m \u001b[1m0s\u001b[0m 63ms/step\n",
            "\u001b[1m1/1\u001b[0m \u001b[32m━━━━━━━━━━━━━━━━━━━━\u001b[0m\u001b[37m\u001b[0m \u001b[1m0s\u001b[0m 62ms/step\n",
            "\u001b[1m1/1\u001b[0m \u001b[32m━━━━━━━━━━━━━━━━━━━━\u001b[0m\u001b[37m\u001b[0m \u001b[1m0s\u001b[0m 57ms/step\n",
            "\u001b[1m1/1\u001b[0m \u001b[32m━━━━━━━━━━━━━━━━━━━━\u001b[0m\u001b[37m\u001b[0m \u001b[1m0s\u001b[0m 61ms/step\n",
            "\u001b[1m1/1\u001b[0m \u001b[32m━━━━━━━━━━━━━━━━━━━━\u001b[0m\u001b[37m\u001b[0m \u001b[1m0s\u001b[0m 66ms/step\n",
            "\u001b[1m1/1\u001b[0m \u001b[32m━━━━━━━━━━━━━━━━━━━━\u001b[0m\u001b[37m\u001b[0m \u001b[1m0s\u001b[0m 56ms/step\n",
            "\u001b[1m1/1\u001b[0m \u001b[32m━━━━━━━━━━━━━━━━━━━━\u001b[0m\u001b[37m\u001b[0m \u001b[1m0s\u001b[0m 68ms/step\n",
            "\u001b[1m1/1\u001b[0m \u001b[32m━━━━━━━━━━━━━━━━━━━━\u001b[0m\u001b[37m\u001b[0m \u001b[1m0s\u001b[0m 53ms/step\n",
            "\u001b[1m1/1\u001b[0m \u001b[32m━━━━━━━━━━━━━━━━━━━━\u001b[0m\u001b[37m\u001b[0m \u001b[1m0s\u001b[0m 55ms/step\n",
            "\u001b[1m1/1\u001b[0m \u001b[32m━━━━━━━━━━━━━━━━━━━━\u001b[0m\u001b[37m\u001b[0m \u001b[1m0s\u001b[0m 54ms/step\n",
            "\u001b[1m1/1\u001b[0m \u001b[32m━━━━━━━━━━━━━━━━━━━━\u001b[0m\u001b[37m\u001b[0m \u001b[1m0s\u001b[0m 55ms/step\n",
            "\u001b[1m1/1\u001b[0m \u001b[32m━━━━━━━━━━━━━━━━━━━━\u001b[0m\u001b[37m\u001b[0m \u001b[1m0s\u001b[0m 52ms/step\n",
            "\u001b[1m1/1\u001b[0m \u001b[32m━━━━━━━━━━━━━━━━━━━━\u001b[0m\u001b[37m\u001b[0m \u001b[1m0s\u001b[0m 85ms/step\n",
            "\u001b[1m1/1\u001b[0m \u001b[32m━━━━━━━━━━━━━━━━━━━━\u001b[0m\u001b[37m\u001b[0m \u001b[1m0s\u001b[0m 63ms/step\n",
            "\u001b[1m1/1\u001b[0m \u001b[32m━━━━━━━━━━━━━━━━━━━━\u001b[0m\u001b[37m\u001b[0m \u001b[1m0s\u001b[0m 59ms/step\n",
            "\u001b[1m1/1\u001b[0m \u001b[32m━━━━━━━━━━━━━━━━━━━━\u001b[0m\u001b[37m\u001b[0m \u001b[1m0s\u001b[0m 60ms/step\n",
            "\u001b[1m1/1\u001b[0m \u001b[32m━━━━━━━━━━━━━━━━━━━━\u001b[0m\u001b[37m\u001b[0m \u001b[1m0s\u001b[0m 63ms/step\n",
            "\u001b[1m1/1\u001b[0m \u001b[32m━━━━━━━━━━━━━━━━━━━━\u001b[0m\u001b[37m\u001b[0m \u001b[1m0s\u001b[0m 55ms/step\n",
            "\u001b[1m1/1\u001b[0m \u001b[32m━━━━━━━━━━━━━━━━━━━━\u001b[0m\u001b[37m\u001b[0m \u001b[1m0s\u001b[0m 43ms/step\n",
            "[0.21879977, 0.2452466, 0.2556467, 0.26606694, 0.2557335, 0.23936905, 0.20231974, 0.20291299, 0.2014662, 0.19902486, 0.19579625, 0.19292392, 0.19076294, 0.19031532, 0.18975152, 0.18920392, 0.18874165, 0.18841434, 0.18820983, 0.18809643]\n"
          ]
        }
      ]
    },
    {
      "cell_type": "markdown",
      "source": [
        "#Output"
      ],
      "metadata": {
        "id": "SKeHvcJ6NXik"
      }
    },
    {
      "cell_type": "code",
      "source": [
        "# Inverse transform the predicted prices\n",
        "predicted_future_prices = scaler.inverse_transform(np.array(predicted_future_prices).reshape(-1, 1))\n",
        "\n",
        "# Display the final predicted stock prices\n",
        "print(\"Predicted stock prices for the next 10 days:\")\n",
        "for i, price in enumerate(predicted_future_prices, 1):\n",
        "    print(f\"Day {i}: {price[0]:.2f}\")"
      ],
      "metadata": {
        "colab": {
          "base_uri": "https://localhost:8080/"
        },
        "id": "6mal20Fw1DBA",
        "outputId": "f4eed00a-ce0a-4089-baf0-b36df2c224c9"
      },
      "execution_count": null,
      "outputs": [
        {
          "output_type": "stream",
          "name": "stdout",
          "text": [
            "Predicted stock prices for the next 10 days:\n",
            "Day 1: 155.87\n",
            "Day 2: 156.24\n",
            "Day 3: 156.38\n",
            "Day 4: 156.53\n",
            "Day 5: 156.38\n",
            "Day 6: 156.15\n",
            "Day 7: 155.63\n",
            "Day 8: 155.64\n",
            "Day 9: 155.62\n",
            "Day 10: 155.59\n",
            "Day 11: 155.54\n",
            "Day 12: 155.50\n",
            "Day 13: 155.47\n",
            "Day 14: 155.47\n",
            "Day 15: 155.46\n",
            "Day 16: 155.45\n",
            "Day 17: 155.44\n",
            "Day 18: 155.44\n",
            "Day 19: 155.44\n",
            "Day 20: 155.44\n"
          ]
        }
      ]
    },
    {
      "cell_type": "code",
      "source": [
        "import matplotlib.pyplot as plt\n",
        "# Prepare data for plotting\n",
        "days = range(1, 21)  # Days from 1 to 10\n",
        "print(f\"the prices after {stock_prices_df.max()}\")\n",
        "# Create the plot\n",
        "plt.figure(figsize=(20, 6))\n",
        "plt.plot(days, predicted_future_prices, marker='o', linestyle='-', color='b', label='Predicted Stock Prices')\n",
        "plt.title('Predicted Stock Prices for the Next 20 Days')\n",
        "plt.xlabel('Days')\n",
        "plt.ylabel('Stock Price')\n",
        "plt.xticks(days)  # Show x-ticks for each day\n",
        "plt.grid()\n",
        "plt.legend()\n",
        "plt.show()"
      ],
      "metadata": {
        "colab": {
          "base_uri": "https://localhost:8080/",
          "height": 400
        },
        "id": "dSgALuUJ1FBs",
        "outputId": "878e5e0b-7e12-4927-cf46-5b30f80fc79b"
      },
      "execution_count": null,
      "outputs": [
        {
          "output_type": "stream",
          "name": "stdout",
          "text": [
            "the prices after Date     2025-05-14 00:00:00\n",
            "Price             166.809998\n",
            "dtype: object\n"
          ]
        },
        {
          "output_type": "display_data",
          "data": {
            "text/plain": [
              "<Figure size 2000x600 with 1 Axes>"
            ],
            "image/png": "[encoded data removed]"
          },
          "metadata": {}
        }
      ]
    }
  ],
  "metadata": {
    "colab": {
      "provenance": [],
      "include_colab_link": true
    },
    "kernelspec": {
      "display_name": "Python 3",
      "name": "python3"
    },
    "language_info": {
      "name": "python"
    }
  },
  "nbformat": 4,
  "nbformat_minor": 0
}