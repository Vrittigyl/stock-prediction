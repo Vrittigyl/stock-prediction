{
  "cells": [
    {
      "cell_type": "markdown",
      "metadata": {
        "id": "view-in-github",
        "colab_type": "text"
      },
      "source": [
        "<a href=\"https://colab.research.google.com/github/Vrittigyl/stock-prediction/blob/main/Stock_analysis.ipynb\" target=\"_parent\"><img src=\"https://colab.research.google.com/assets/colab-badge.svg\" alt=\"Open In Colab\"/></a>"
      ]
    },
    {
      "cell_type": "markdown",
      "source": [
        "# 📈 Stock Price Prediction using Numerical Trends and News Sentiment\n",
        "A machine learning project to predict stock price trends (up/down) using historical stock data and sentiment analysis of financial news headlines.\n",
        "\n",
        "Features:-\n",
        "- Predicts stock price trends using historical data and news sentiment.\n",
        "- Integrates LSTM and ARIMA models for time-series forecasting.\n",
        "- Uses NLP to analyze sentiment from financial news via the NewsAPI.\n",
        "- Combines technical analysis with sentiment scores for improved accuracy.\n",
        "\n"
      ],
      "metadata": {
        "id": "WDq9fwe7xg9a"
      }
    },
    {
      "cell_type": "code",
      "execution_count": null,
      "metadata": {
        "id": "Og2A8ubHd6zR"
      },
      "outputs": [],
      "source": [
        "!pip install -r requirements.txt"
      ]
    },
    {
      "cell_type": "markdown",
      "source": [
        "#Sentiment Analysis"
      ],
      "metadata": {
        "id": "xRDE4rF-L9O4"
      }
    },
    {
      "cell_type": "markdown",
      "source": [
        "##Dataset\n",
        "\n"
      ],
      "metadata": {
        "id": "ezH_OQPTLiRZ"
      }
    },
    {
      "cell_type": "code",
      "execution_count": null,
      "metadata": {
        "colab": {
          "base_uri": "https://localhost:8080/"
        },
        "id": "m0G6-tN04U17",
        "outputId": "a39f161c-a6b3-43be-965e-6e470177cf7d"
      },
      "outputs": [
        {
          "output_type": "stream",
          "name": "stdout",
          "text": [
            "these are all the articles\n",
            "{'status': 'ok', 'totalResults': 129, 'articles': [{'source': {'id': None, 'name': 'Yahoo Entertainment'}, 'author': 'Madison Mills', 'title': 'Why Google could help Alphabet win the AI race', 'description': \"Alphabet's (GOOG, GOOGL) Google artificial intelligence (AI) roll-out has raised questions about its competitive edge. Joe Kaiser, Mercato Partners CEO...\", 'url': 'https://finance.yahoo.com/video/why-google-could-help-alphabet-103056465.html', 'urlToImage': 'https://s.yimg.com/ny/api/res/1.2/.we2MdtmcN.FYPRSa3zn.A--/YXBwaWQ9aGlnaGxhbmRlcjt3PTEyMDA7aD02NzY-/https://s.yimg.com/os/creatr-uploaded-images/2025-05/aa16e580-3656-11f0-bded-cf50632d581f', 'publishedAt': '2025-05-22T10:30:56Z', 'content': 'I want to get your take on on Google here. It seems to me that they still do need to convince investors that they can win this AI race. Do you think that they are positioned to do that? \\r\\nI do. I thi… [+2511 chars]'}, {'source': {'id': None, 'name': 'Yahoo Entertainment'}, 'author': None, 'title': 'Alphabet (GOOG) Fell Along with Peers', 'description': None, 'url': 'https://consent.yahoo.com/v2/collectConsent?sessionId=1_cc-session_c84a040a-21b6-4f45-9d0a-b40edfcda49d', 'urlToImage': None, 'publishedAt': '2025-05-07T13:51:23Z', 'content': \"If you click 'Accept all', we and our partners, including 241 who are part of the IAB Transparency &amp; Consent Framework, will also store and/or access information on a device (in other words, use … [+714 chars]\"}, {'source': {'id': None, 'name': 'Seeking Alpha'}, 'author': 'Wise Bull', 'title': 'Alphabet: Buy More The Best AI Play At A Reasonable Valuation', 'description': 'Alphabet is a top long-term growth pick with leading AI, strong platforms like Search, YouTube, and Cloud. Find out why GOOG stock is a buy.', 'url': 'https://seekingalpha.com/article/4787903-alphabet-buy-more-the-best-ai-play-at-a-reasonable-valuation', 'urlToImage': 'https://static.seekingalpha.com/cdn/s3/uploads/getty_images/1163973538/image_1163973538.jpg?io=getty-c-w1536', 'publishedAt': '2025-05-18T08:25:51Z', 'content': 'Analysts Disclosure:I/we have a beneficial long position in the shares of GOOG, GOOGL either through stock ownership, options, or other derivatives. I wrote this article myself, and it expresses my o… [+736 chars]'}, {'source': {'id': None, 'name': 'Yahoo Entertainment'}, 'author': None, 'title': 'Two Prominent Investors Are Bearish on Alphabet Inc. (GOOG) Stock', 'description': None, 'url': 'https://consent.yahoo.com/v2/collectConsent?sessionId=1_cc-session_8bce8458-6c8a-4c90-8972-2c34d45127a3', 'urlToImage': None, 'publishedAt': '2025-05-10T19:43:33Z', 'content': \"If you click 'Accept all', we and our partners, including 241 who are part of the IAB Transparency &amp; Consent Framework, will also store and/or access information on a device (in other words, use … [+714 chars]\"}, {'source': {'id': None, 'name': 'Yahoo Entertainment'}, 'author': None, 'title': 'KeyBanc Keeps an Overweight Rating on Alphabet Inc. (GOOG)', 'description': None, 'url': 'https://consent.yahoo.com/v2/collectConsent?sessionId=1_cc-session_760bfbbc-fd2a-4a74-b233-2889bcbb98d4', 'urlToImage': None, 'publishedAt': '2025-05-22T21:45:58Z', 'content': \"If you click 'Accept all', we and our partners, including 241 who are part of the IAB Transparency &amp; Consent Framework, will also store and/or access information on a device (in other words, use … [+714 chars]\"}, {'source': {'id': None, 'name': 'Yahoo Entertainment'}, 'author': 'Larry Ramer', 'title': 'Well-Known Tech Analyst Suggests That He’s Somewhat Worried About AAPL’s Outlook', 'description': 'When prominent tech analyst Gene Munster was asked on CNBC recently whether he was worried about the fate of Apple’s (AAPL) revenue from Alphabet (GOOG...', 'url': 'https://finance.yahoo.com/news/well-known-tech-analyst-suggests-135853609.html', 'urlToImage': 'https://s.yimg.com/ny/api/res/1.2/e1QwhqQiBt5ecLL5Qx6Rkg--/YXBwaWQ9aGlnaGxhbmRlcjt3PTEyMDA7aD02NzM-/https://media.zenfs.com/en/insidermonkey.com/bd47dc2e86b4a3086f845d200d9daf1f', 'publishedAt': '2025-05-07T13:58:53Z', 'content': \"When prominent tech analyst Gene Munster was asked on CNBC recently whether he was worried about the fate of Apple's (AAPL) revenue from Alphabet (GOOG, GOOGL), the analyst replied that the issue was… [+1995 chars]\"}, {'source': {'id': None, 'name': 'Yahoo Entertainment'}, 'author': None, 'title': 'Alphabet (GOOG) Stock Rated ‘Buy’ as Chrome Gains on Safari', 'description': None, 'url': 'https://consent.yahoo.com/v2/collectConsent?sessionId=1_cc-session_65445b9c-13eb-4225-8652-d10216e54460', 'urlToImage': None, 'publishedAt': '2025-05-18T11:03:11Z', 'content': \"If you click 'Accept all', we and our partners, including 241 who are part of the IAB Transparency &amp; Consent Framework, will also store and/or access information on a device (in other words, use … [+714 chars]\"}, {'source': {'id': None, 'name': 'Yahoo Entertainment'}, 'author': None, 'title': 'Evercore Unfazed: $205 Target Reaffirmed Despite GOOG Underperformance', 'description': None, 'url': 'https://consent.yahoo.com/v2/collectConsent?sessionId=1_cc-session_7a99071f-dc4f-4a52-a9f3-acfb7e298865', 'urlToImage': None, 'publishedAt': '2025-05-29T18:21:25Z', 'content': \"If you click 'Accept all', we and our partners, including 241 who are part of the IAB Transparency &amp; Consent Framework, will also store and/or access information on a device (in other words, use … [+714 chars]\"}, {'source': {'id': None, 'name': 'Biztoc.com'}, 'author': 'fool.com', 'title': 'Down 12% This Year, Should You Buy Alphabet Stock?', 'description': 'Shares of Alphabet (GOOG -0.78%) (GOOGL -0.66%) are down 12% so far in 2025. The Google owner is underperforming the Nasdaq Composite, which has rallied in recent weeks and is only down about 1% year to date at the time of writing.\\nAt first glance, the stock …', 'url': 'https://biztoc.com/x/5914f27cdf1a95b9', 'urlToImage': 'https://biztoc.com/cdn/934/og.png', 'publishedAt': '2025-05-19T14:27:19Z', 'content': 'Shares of Alphabet (GOOG -0.78%) (GOOGL -0.66%) are down 12% so far in 2025. The Google owner is underperforming the Nasdaq Composite, which has rallied in recent weeks and is only down about 1% year… [+146 chars]'}, {'source': {'id': None, 'name': 'Yahoo Entertainment'}, 'author': 'Angelica Ballesteros', 'title': 'Why Alphabet Inc. (GOOG) Nosedived on Wednesday', 'description': 'We recently published an article titled Why These 10 Firms Nosedived Today. In this article, we are going to take a look at where Alphabet Inc. (NASDAQ:GOOG)...', 'url': 'https://finance.yahoo.com/news/why-alphabet-inc-goog-nosedived-083216659.html', 'urlToImage': 'https://s.yimg.com/ny/api/res/1.2/HX_DKqW6NtbD1IJbB0PsfQ--/YXBwaWQ9aGlnaGxhbmRlcjt3PTEyMDA7aD02NzM-/https://media.zenfs.com/en/insidermonkey.com/f2bc799b7e78718a08f74696ea1fcc21', 'publishedAt': '2025-05-08T08:32:16Z', 'content': 'We recently published an article titled Why These 10 Firms Nosedived Today.\\xa0In this article, we are going to take a look at where Alphabet Inc. (NASDAQ:GOOG) stands against the other stocks.\\r\\nThe sto… [+2486 chars]'}, {'source': {'id': None, 'name': 'Yahoo Entertainment'}, 'author': None, 'title': 'What Makes Alphabet (GOOG) in The Detractors’ List of The London Company Large Cap Strategy?', 'description': None, 'url': 'https://consent.yahoo.com/v2/collectConsent?sessionId=1_cc-session_59c5dae3-82cd-4ca4-98ca-079d30a91ab1', 'urlToImage': None, 'publishedAt': '2025-05-14T13:42:29Z', 'content': \"If you click 'Accept all', we and our partners, including 241 who are part of the IAB Transparency &amp; Consent Framework, will also store and/or access information on a device (in other words, use … [+714 chars]\"}, {'source': {'id': None, 'name': 'Yahoo Entertainment'}, 'author': None, 'title': 'Well-Known Investor Is Leaning Towards Holding Alphabet Inc. (GOOG) Stock', 'description': None, 'url': 'https://consent.yahoo.com/v2/collectConsent?sessionId=1_cc-session_c366117c-2a1c-42f1-b4a1-1c8273340d4b', 'urlToImage': None, 'publishedAt': '2025-05-10T17:27:57Z', 'content': \"If you click 'Accept all', we and our partners, including 241 who are part of the IAB Transparency &amp; Consent Framework, will also store and/or access information on a device (in other words, use … [+714 chars]\"}, {'source': {'id': None, 'name': 'Yahoo Entertainment'}, 'author': 'Jabran Kundi', 'title': 'Alphabet Inc. (GOOG): Among Advertising & Media Stocks That Could Tank If Recession Hits', 'description': 'We recently published a list of 10 Advertising & Media Stocks That Could Tank If Recession Hits. In this article, we are going to take a look at where...', 'url': 'https://finance.yahoo.com/news/alphabet-inc-goog-among-advertising-115558815.html', 'urlToImage': 'https://s.yimg.com/ny/api/res/1.2/DAytqpJ37WPkT1O3cj4krg--/YXBwaWQ9aGlnaGxhbmRlcjt3PTEyMDA7aD02NzM-/https://media.zenfs.com/en/insidermonkey.com/ddded06c9301164bc21c334085fab02f', 'publishedAt': '2025-05-14T11:55:58Z', 'content': 'We recently published a list of 10 Advertising &amp; Media Stocks That Could Tank If Recession Hits. In this article, we are going to take a look at where Alphabet Inc. (NASDAQ:GOOG) stands against o… [+3000 chars]'}, {'source': {'id': None, 'name': 'Yahoo Entertainment'}, 'author': None, 'title': 'Alphabet (GOOG) Provides “Growth at a Superb Price,” Well-Known Investor Says', 'description': None, 'url': 'https://consent.yahoo.com/v2/collectConsent?sessionId=1_cc-session_052cc9ec-bd01-4db0-bf37-9972c9a21e17', 'urlToImage': None, 'publishedAt': '2025-05-22T15:02:27Z', 'content': \"If you click 'Accept all', we and our partners, including 241 who are part of the IAB Transparency &amp; Consent Framework, will also store and/or access information on a device (in other words, use … [+714 chars]\"}, {'source': {'id': None, 'name': 'Yahoo Entertainment'}, 'author': None, 'title': 'Veteran Investor Remains Bullish on Alphabet Inc (GOOG) Despite AI Threat', 'description': None, 'url': 'https://consent.yahoo.com/v2/collectConsent?sessionId=1_cc-session_a0e7dac3-14ef-461b-bcc6-a1c3e6d632ce', 'urlToImage': None, 'publishedAt': '2025-05-21T14:31:12Z', 'content': \"If you click 'Accept all', we and our partners, including 241 who are part of the IAB Transparency &amp; Consent Framework, will also store and/or access information on a device (in other words, use … [+714 chars]\"}, {'source': {'id': None, 'name': 'Yahoo Entertainment'}, 'author': None, 'title': 'Here’s Why Alphabet (GOOG) is on Detractors’ List of Loomis Sayles Global Growth Fund', 'description': None, 'url': 'https://consent.yahoo.com/v2/collectConsent?sessionId=1_cc-session_4cebf509-86ed-417a-ab7f-22df5c246b3b', 'urlToImage': None, 'publishedAt': '2025-05-27T14:02:23Z', 'content': \"If you click 'Accept all', we and our partners, including 241 who are part of the IAB Transparency &amp; Consent Framework, will also store and/or access information on a device (in other words, use … [+714 chars]\"}, {'source': {'id': None, 'name': 'Yahoo Entertainment'}, 'author': None, 'title': 'Investment Bank Suggests That Alphabet (GOOG)’s Valuation Could Climb Significantly', 'description': None, 'url': 'https://consent.yahoo.com/v2/collectConsent?sessionId=1_cc-session_bf5cd2b6-43a2-48bf-b7e1-995715a6463b', 'urlToImage': None, 'publishedAt': '2025-05-24T20:30:16Z', 'content': \"If you click 'Accept all', we and our partners, including 241 who are part of the IAB Transparency &amp; Consent Framework, will also store and/or access information on a device (in other words, use … [+714 chars]\"}, {'source': {'id': None, 'name': 'Yahoo Entertainment'}, 'author': 'Larry Ramer', 'title': 'Alphabet (GOOG) Has Multiple, Positive Catalysts, Stock Researcher Says', 'description': 'Alphabet Inc. (NASDAQ:GOOG)’s new, popular video technology, along with its huge user base and leverage to the blockchain, make GOOG stock attractive, stock ...', 'url': 'https://finance.yahoo.com/news/alphabet-goog-multiple-positive-catalysts-141854240.html', 'urlToImage': 'https://media.zenfs.com/en/insidermonkey.com/9193ece4a8a6950321c135519d0f55f7', 'publishedAt': '2025-05-28T14:18:54Z', 'content': \"Alphabet Inc. (NASDAQ:GOOG)'s new, popular video technology, along with its huge user base and leverage to the blockchain, make GOOG stock attractive, stock researcher Jessica Inskip told Schwab Netw… [+1346 chars]\"}, {'source': {'id': None, 'name': 'Yahoo Entertainment'}, 'author': 'Soumya Eswaran', 'title': 'Alphabet (GOOG): Weitz Multi-Cap Equity Fund’s Top Q1 Detractor', 'description': 'Weitz Investment Management, an investment management firm, released its “Multi-Cap Equity Fund” first-quarter 2025 investor letter. A copy of the letter can...', 'url': 'https://finance.yahoo.com/news/alphabet-goog-weitz-multi-cap-144326230.html', 'urlToImage': 'https://media.zenfs.com/en/insidermonkey.com/cf6d2f879575432f39eec460d8fb6fb8', 'publishedAt': '2025-05-26T14:43:26Z', 'content': 'Weitz Investment Management, an investment management firm, released its Multi-Cap Equity Fund first-quarter 2025 investor letter. A copy of the letter can be downloaded here.\\xa0 The funds Institutiona… [+2949 chars]'}, {'source': {'id': None, 'name': 'Yahoo Entertainment'}, 'author': 'TipRanks', 'title': 'Toyota, Waymo to collaborate over autonomous driving technologies', 'description': 'Toyota (TM) and Alphabet’s (GOOGL) (GOOG) Waymo reached a preliminary agreement to explore a collaboration focused on accelerating the development and...', 'url': 'https://finance.yahoo.com/news/toyota-waymo-collaborate-over-autonomous-231024496.html', 'urlToImage': 'https://media.zenfs.com/en/tipranks_452/ea52b62d3dcf3ae7154bc31131a2fc0e', 'publishedAt': '2025-04-30T23:10:24Z', 'content': 'Toyota (TM) and Alphabets (GOOGL) (GOOG) Waymo reached a preliminary agreement to explore a collaboration focused on accelerating the development and deployment of autonomous driving technologies. Wo… [+885 chars]'}, {'source': {'id': None, 'name': 'Forbes'}, 'author': 'Trefis Team, Contributor, \\n Trefis Team, Contributor\\n https://www.forbes.com/sites/greatspeculations/people/trefis/', 'title': 'Will AI Really Disrupt Google’s Search Empire?', 'description': 'Following a Bloomberg report detailing Apple services head Eddy Cue’s views that AI-powered search engines will ultimately supplant traditional ones like Google, Alpha...', 'url': 'https://www.forbes.com/sites/greatspeculations/2025/05/12/will-ai-really-disrupt-googles-search-empire/', 'urlToImage': 'https://imageio.forbes.com/specials-images/imageserve/681c27765278d170d7b3a131/0x0.jpg?format=jpg&height=900&width=1600&fit=bounds', 'publishedAt': '2025-05-12T10:19:22Z', 'content': \"NEW YORK, NY - APRIL 29: The sun illuminates a Google corporate logo on the side of their St. John's ... More Terminal office building on April 29, 2024, in New York City. (Photo by Gary Hershorn/Get… [+6389 chars]\"}, {'source': {'id': None, 'name': 'Yahoo Entertainment'}, 'author': 'Ghazal Ahmed', 'title': 'Alphabet Inc. (GOOG)’s AI Ad Strategy Expands Reach – But Analyst Keeps Neutral Stance', 'description': 'We recently published a list of 10 AI Stocks on Wall Street’s Radar. In this article, we are going to take a look at where Alphabet Inc. (NASDAQ:GOOG) stands...', 'url': 'https://finance.yahoo.com/news/alphabet-inc-goog-ai-ad-055105318.html', 'urlToImage': 'https://s.yimg.com/ny/api/res/1.2/DAytqpJ37WPkT1O3cj4krg--/YXBwaWQ9aGlnaGxhbmRlcjt3PTEyMDA7aD02NzM-/https://media.zenfs.com/en/insidermonkey.com/ddded06c9301164bc21c334085fab02f', 'publishedAt': '2025-05-25T05:51:05Z', 'content': 'We recently published a list of 10 AI Stocks on Wall Streets Radar. In this article, we are going to take a look at where Alphabet Inc. (NASDAQ:GOOG) stands against other AI stocks on Wall Streets ra… [+1989 chars]'}, {'source': {'id': None, 'name': 'Yahoo Entertainment'}, 'author': None, 'title': 'Analyst Says Alphabet (GOOG) Stock Among ‘Cheapest’ Ways to Gain AI Exposure', 'description': None, 'url': 'https://consent.yahoo.com/v2/collectConsent?sessionId=1_cc-session_7374dfb7-7b88-4bfa-9c4a-363b3886c1b3', 'urlToImage': None, 'publishedAt': '2025-05-20T11:54:03Z', 'content': \"If you click 'Accept all', we and our partners, including 241 who are part of the IAB Transparency &amp; Consent Framework, will also store and/or access information on a device (in other words, use … [+714 chars]\"}, {'source': {'id': None, 'name': 'Yahoo Entertainment'}, 'author': 'Reuters', 'title': 'Google has cut about 200 staff in global business unit: The Information', 'description': 'Big Tech players have been redirecting spending towards data centers and AI development, while scaling back investments in other areas.  The Information...', 'url': 'https://finance.yahoo.com/news/google-cuts-200-staff-global-224713088.html', 'urlToImage': 'https://media.zenfs.com/en/reuters-finance.com/e59a646d4310934eac0aed6cae1070e0', 'publishedAt': '2025-05-07T22:47:13Z', 'content': '(Reuters) -Alphabet (GOOG, GOOGL)-owned Google on Tuesday cut about 200 jobs across its global business unit, which is responsible for sales and partnerships, The Information reported on Wednesday, c… [+1324 chars]'}, {'source': {'id': None, 'name': 'Investopedia'}, 'author': 'Colin Laidley', 'title': 'Why D-Wave Quantum Stock Is Skyrocketing Thursday', 'description': 'D-Wave Quantum stock soared on Thursday after the quantum computing company reported record revenue and a narrower loss in the first quarter.', 'url': 'https://www.investopedia.com/why-d-wave-quantum-stock-is-skyrocketing-thursday-11730973', 'urlToImage': 'https://s.yimg.com/ny/api/res/1.2/LjeFzERb_sdwwnS_rbKEIA--/YXBwaWQ9aGlnaGxhbmRlcjt3PTEyMDA7aD04MDc-/https://media.zenfs.com/en/investopedia_245/72f6402f242299a4af6fe130c3a99b83', 'publishedAt': '2025-05-08T20:25:37Z', 'content': 'Pavlo Gonchar / SOPA Images / LightRocket via Getty Images\\r\\n D-Wave shares were up 50% Thursday afternoon, approaching their record high of $11.95\\r\\nD-Wave Quantum (QBTS) stock soared on Thursday afte… [+1584 chars]'}, {'source': {'id': None, 'name': 'Yahoo Entertainment'}, 'author': 'Larry Ramer', 'title': 'Citi Remains Bullish on Alphabet (GOOG), Citing Personalization Efforts, Valuation', 'description': 'Citi today kept a $200 price target and a Buy rating on Alphabet Inc. (NASDAQ:GOOG) stock, citing the tech giant’s efforts to make its products more...', 'url': 'https://finance.yahoo.com/news/citi-remains-bullish-alphabet-goog-171544454.html', 'urlToImage': 'https://media.zenfs.com/en/insidermonkey.com/9193ece4a8a6950321c135519d0f55f7', 'publishedAt': '2025-05-22T17:15:44Z', 'content': \"Citi today kept a $200 price target and a Buy rating on Alphabet Inc. (NASDAQ:GOOG) stock, citing the tech giant's efforts to make its products more personalized and what the bank sees as the stock's… [+1322 chars]\"}, {'source': {'id': None, 'name': 'Yahoo Entertainment'}, 'author': 'Grace L. Williams', 'title': 'Why earnings estimates are a key market risk', 'description': \"In all the market frenzy around earnings season, here's what to look out for, according to Ritholtz Wealth's Callie Cox.\", 'url': 'https://finance.yahoo.com/news/why-earnings-estimates-are-a-key-market-risk-122155734.html', 'urlToImage': 'https://s.yimg.com/ny/api/res/1.2/5McGkr3rlgnHwe_qCqK6pw--/YXBwaWQ9aGlnaGxhbmRlcjt3PTEyMDA7aD04MDA-/https://s.yimg.com/os/creatr-uploaded-images/2025-05/abf7bb10-270e-11f0-aabf-f1c46c6ca08f', 'publishedAt': '2025-05-05T12:21:55Z', 'content': 'Listen and subscribe to Opening Bid on Apple Podcasts, Spotify, Amazon Music, YouTube or wherever you find your favorite podcasts.\\r\\nThe trillion-dollar question markets are trying to figure out: whet… [+2325 chars]'}, {'source': {'id': None, 'name': 'Yahoo Entertainment'}, 'author': \"Grace O'Donnell\", 'title': 'Nvidia stock pops as revenue tops forecasts, China sales impacts smaller than Wall Street feared', 'description': \"Nvidia investors took away a story of relative strength, all things considered, from the AI giant's first quarter earnings.\", 'url': 'https://finance.yahoo.com/news/nvidia-stock-pops-as-revenue-tops-forecasts-china-sales-impacts-smaller-than-wall-street-feared-164408100.html', 'urlToImage': 'https://s.yimg.com/ny/api/res/1.2/kL.pKOwiW2Hi0KbxEFk6.g--/YXBwaWQ9aGlnaGxhbmRlcjt3PTEyMDA7aD03OTE-/https://s.yimg.com/os/creatr-uploaded-images/2025-05/f7b84e80-3739-11f0-8bbf-59dc2ce4596f', 'publishedAt': '2025-05-29T16:44:08Z', 'content': 'Nvidia (NVDA) stock jumped 5% higher in early trading on Thursday as investors digested a noisy first quarter earnings report and ultimately saw strong sales outweighing the headwinds in its China bu… [+2364 chars]'}, {'source': {'id': None, 'name': 'Yahoo Entertainment'}, 'author': 'Rian Howlett', 'title': 'Stock market today: Dow gains 1,000 points, while S&P 500, Nasdaq surge as US-China deal spurs a rush into stocks', 'description': 'US and China said they have agreed to slash most tariffs for 90 days while further trade talks take place.', 'url': 'https://finance.yahoo.com/news/live/stock-market-today-dow-gains-1000-points-while-sp-500-nasdaq-surge-as-us-china-deal-spurs-a-rush-into-stocks-133030475.html', 'urlToImage': 'https://s.yimg.com/ny/api/res/1.2/Y3lj8GOJ2T5YX_s10Fat4w--/YXBwaWQ9aGlnaGxhbmRlcjt3PTEyMDA7aD04MDA-/https://s.yimg.com/os/creatr-uploaded-images/2025-05/2d63c480-2c34-11f0-b75a-b29098aff78b', 'publishedAt': '2025-05-12T13:30:30Z', 'content': 'US stocks shot higher on Monday in the wake of a US-China deal to temporarily slash reciprocal tariffs, a reprieve for markets fretting about the economic damage from a trade war.\\r\\nThe S&amp;P 500 (^… [+5821 chars]'}, {'source': {'id': None, 'name': 'Yahoo Entertainment'}, 'author': 'Larry Ramer', 'title': 'Meta Platforms (META) Stock Has “Definitely Been Derisked,” Prominent Investor Says', 'description': 'Stephanie Link, the Chief Investment Strategist and Equity Portfolio Manager at Hightower Advisors, yesterday said on CNBC that Meta Platforms (META) is...', 'url': 'https://finance.yahoo.com/news/meta-platforms-meta-stock-definitely-173201075.html', 'urlToImage': 'https://media.zenfs.com/en/insidermonkey.com/d6633d6f651bb16dcd84328b7ee8f3af', 'publishedAt': '2025-04-30T17:32:01Z', 'content': 'Stephanie Link, the Chief Investment Strategist and Equity Portfolio Manager at Hightower Advisors, yesterday said on CNBC that Meta Platforms (META) is \"definitely derisked\" heading into its first-q… [+2055 chars]'}, {'source': {'id': None, 'name': 'Yahoo Entertainment'}, 'author': 'Brian Sozzi', 'title': 'Why Nvidia’s rise could signal bad news for climate goals', 'description': 'When Nvidia reports earnings this week, keep in mind an often undiscussed cost of the AI boom.', 'url': 'https://finance.yahoo.com/news/why-nvidias-rise-could-signal-bad-news-for-climate-goals-160511078.html', 'urlToImage': 'https://s.yimg.com/ny/api/res/1.2/3P5Y8_dWMlfCgNQzAArtkg--/YXBwaWQ9aGlnaGxhbmRlcjt3PTEyMDA7aD04NzA-/https://s.yimg.com/os/creatr-uploaded-images/2025-05/f6e3b2d0-381d-11f0-bff7-37593482ce5b', 'publishedAt': '2025-05-26T16:05:11Z', 'content': \"The AI gold rush is underway but the industry's multibillion-dollar profits come at a steep cost: the environment.\\r\\nAI darling Nvidia (NVDA) reports earnings after market close on Wednesday, and how … [+2685 chars]\"}, {'source': {'id': None, 'name': 'Yahoo Entertainment'}, 'author': None, 'title': 'Apple Inc (AAPL), Alphabet Inc (GOOG) Have to Prove Themselves, CNBC Reporter Says', 'description': None, 'url': 'https://consent.yahoo.com/v2/collectConsent?sessionId=1_cc-session_13493671-1150-41fc-8f41-47069ba1696a', 'urlToImage': None, 'publishedAt': '2025-05-20T21:36:14Z', 'content': \"If you click 'Accept all', we and our partners, including 241 who are part of the IAB Transparency &amp; Consent Framework, will also store and/or access information on a device (in other words, use … [+714 chars]\"}, {'source': {'id': None, 'name': 'Yahoo Entertainment'}, 'author': None, 'title': 'Veteran Investor Trims Alphabet Inc. (GOOG) Stake, Predicts GOOGL’s Ad Revenue Will Fall', 'description': None, 'url': 'https://consent.yahoo.com/v2/collectConsent?sessionId=1_cc-session_b3a57e56-2d77-4fe5-9495-f626448196ba', 'urlToImage': None, 'publishedAt': '2025-05-13T14:44:44Z', 'content': \"If you click 'Accept all', we and our partners, including 241 who are part of the IAB Transparency &amp; Consent Framework, will also store and/or access information on a device (in other words, use … [+714 chars]\"}, {'source': {'id': None, 'name': 'Yahoo Entertainment'}, 'author': 'Faizan Farooque', 'title': 'Nvidia (NVDA) CEO Says AI Will Reshape Every Job', 'description': 'Huang urges early adoption as stock drops 15% in 2025', 'url': 'https://finance.yahoo.com/news/nvidia-nvda-ceo-says-ai-125313845.html', 'urlToImage': 'https://media.zenfs.com/en/us.finance.gurufocus/0f85201a8bb8f84f9783012c36633061', 'publishedAt': '2025-05-07T12:53:13Z', 'content': 'Nvidia (NVDA, Financials) CEO Jensen Huang said AI is set to impact every job and stressed that the real risk is being replaced by someone using AInot AI itself.\\r\\nSpeaking at the Milken Institute Con… [+979 chars]'}, {'source': {'id': None, 'name': 'Yahoo Entertainment'}, 'author': None, 'title': 'Alphabet Inc. (GOOG) Carrying Out “Proactive Disruption of Search,” Schwab Anchor Says', 'description': None, 'url': 'https://consent.yahoo.com/v2/collectConsent?sessionId=1_cc-session_3100edc5-40a6-49b9-bc53-e879dde82771', 'urlToImage': None, 'publishedAt': '2025-05-23T11:13:17Z', 'content': \"If you click 'Accept all', we and our partners, including 241 who are part of the IAB Transparency &amp; Consent Framework, will also store and/or access information on a device (in other words, use … [+714 chars]\"}, {'source': {'id': None, 'name': 'Yahoo Entertainment'}, 'author': 'Larry Ramer', 'title': 'AI Is Helping Alphabet (GOOG)’s Customers, According to an Investment Bank', 'description': 'After attending an event hosted by Alphabet Inc. (NASDAQ:GOOG), investment bank BMO Capital reported that the return on ad spend (ROAS) of the tech giant’s...', 'url': 'https://finance.yahoo.com/news/ai-helping-alphabet-goog-customers-195851715.html', 'urlToImage': 'https://media.zenfs.com/en/insidermonkey.com/9193ece4a8a6950321c135519d0f55f7', 'publishedAt': '2025-05-23T19:58:51Z', 'content': \"After attending an event hosted by Alphabet Inc. (NASDAQ:GOOG), investment bank BMO Capital reported that the return on ad spend (ROAS) of the tech giant's customers had improved.\\r\\nBMO kept a $200 pr… [+1123 chars]\"}, {'source': {'id': None, 'name': 'Forbes'}, 'author': 'Robert Barone, Contributor, \\n Robert Barone, Contributor\\n https://www.forbes.com/sites/greatspeculations/people/robertbarone/', 'title': 'Recessions Signs Rise; Moody’s Turns The Bond Market Blue', 'description': 'A negative bias in the financial markets isn’t surprising as Moody’s downgraded U.S. government debt to AA+. That downgrade initially caused a spike in interest rates.', 'url': 'https://www.forbes.com/sites/greatspeculations/2025/05/25/recessions-signs-rise-moodys-turns-the-bond-market-blue/', 'urlToImage': 'https://imageio.forbes.com/specials-images/imageserve/6833a269ce4457da0e46448e/0x0.jpg?format=jpg&crop=772,434,x219,y0,safe&height=900&width=1600&fit=bounds', 'publishedAt': '2025-05-25T23:12:56Z', 'content': 'For the week, the large cap equity indexes (S&amp;P 500, Nasdaq, and the DJIA) were down in the -2.5% range, with small cap stocks (Russell 2000) down a bit more (-3.5%) (see table). For the year to … [+7800 chars]'}, {'source': {'id': None, 'name': 'Yahoo Entertainment'}, 'author': 'Alexis Keenan', 'title': \"Trump's FTC antitrust cops just got a loud warning about blocking tech tie-ups\", 'description': \"President Trump's antitrust cops just received a loud warning about attempts to block any future technology mergers as the FTC lost an attempt to undo...\", 'url': 'https://finance.yahoo.com/news/trumps-ftc-antitrust-cops-just-got-a-loud-warning-about-blocking-tech-tie-ups-134259144.html', 'urlToImage': 'https://s.yimg.com/ny/api/res/1.2/dh_qZANy2dGVC5EW8lxBdg--/YXBwaWQ9aGlnaGxhbmRlcjt3PTEyMDA7aD02NzU-/https://s.yimg.com/os/creatr-uploaded-images/2025-04/12faa530-260a-11f0-b77b-84acd0594384', 'publishedAt': '2025-05-08T13:42:59Z', 'content': \"President Trump's antitrust cops at the Federal Trade Commission just received a loud warning about attempts to block any future technology mergers.\\r\\nIt came as the FTC on Wednesday lost a roughly th… [+3667 chars]\"}, {'source': {'id': None, 'name': 'Yahoo Entertainment'}, 'author': 'Brian Sozzi', 'title': '3 things Nvidia investors should look out for in its earnings call', 'description': \"Nvidia's earnings call this week will be a market mover. Here are the top things you need to look out for.\", 'url': 'https://finance.yahoo.com/news/3-things-nvidia-investors-should-look-out-for-in-its-earnings-call-140101777.html', 'urlToImage': 'https://s.yimg.com/ny/api/res/1.2/XPbcrD1TexfEOscmRLpg8Q--/YXBwaWQ9aGlnaGxhbmRlcjt3PTEyMDA7aD04NTA-/https://s.yimg.com/os/creatr-uploaded-images/2025-05/fa689d10-371b-11f0-afff-abf4c2c1a3ee', 'publishedAt': '2025-05-28T14:01:01Z', 'content': 'The earnings event of the season is here.\\r\\nNvidia (NVDA) will report its first quarter results for fiscal year 2026 after the market close today. Wall Street is expecting the AI chip darling to post … [+3508 chars]'}, {'source': {'id': None, 'name': 'Yahoo Entertainment'}, 'author': 'Noor Ul Ain Rehman', 'title': 'Why Alphabet Inc. (GOOG) is Among the Best Augmented Reality Stocks to Buy According to Hedge Funds', 'description': 'We recently published a list of 11 Best Augmented Reality Stocks to Buy According to Hedge Funds. In this article, we are going to take a look at where...', 'url': 'https://finance.yahoo.com/news/why-alphabet-inc-goog-among-093406484.html', 'urlToImage': 'https://s.yimg.com/ny/api/res/1.2/HX_DKqW6NtbD1IJbB0PsfQ--/YXBwaWQ9aGlnaGxhbmRlcjt3PTEyMDA7aD02NzM-/https://media.zenfs.com/en/insidermonkey.com/f2bc799b7e78718a08f74696ea1fcc21', 'publishedAt': '2025-05-01T09:34:06Z', 'content': 'We recently published a list of 11 Best Augmented Reality Stocks to Buy According to Hedge Funds. In this article, we are going to take a look at where Alphabet Inc. (NASDAQ:GOOG) stands against othe… [+6908 chars]'}, {'source': {'id': None, 'name': 'Forbes'}, 'author': 'Trefis Team, Contributor, \\n Trefis Team, Contributor\\n https://www.forbes.com/sites/greatspeculations/people/trefis/', 'title': 'Why Apple Might Let Go Of Its Easiest $20 Billion', 'description': 'That’s a staggering amount but there is a chance that this extremely profitable partnership may be approaching its conclusion.', 'url': 'https://www.forbes.com/sites/greatspeculations/2025/05/09/why-apple-might-let-go-of-its-easiest-20-billion/', 'urlToImage': 'https://imageio.forbes.com/specials-images/imageserve/681db1b4ef8a09290dfc1994/0x0.jpg?format=jpg&height=900&width=1600&fit=bounds', 'publishedAt': '2025-05-09T09:45:05Z', 'content': 'Apple store, Hong Kong, China. (Photo by: Bob Henry/UCG/Universal Images Group via Getty Images)\\r\\nUCG/Universal Images Group via Getty Images\\r\\nDid you know Alphabet (NASDAQ:GOOG)\\r\\n provides Apple (NA… [+4179 chars]'}, {'source': {'id': None, 'name': 'Forbes'}, 'author': 'Kori Hale, Contributor, \\n Kori Hale, Contributor\\n https://www.forbes.com/sites/korihale/', 'title': 'Investors Are Betting On FemTech’s Untapped $103 Billion Market', 'description': '100KM Ventures is continuing to invest in the future of work and health with game changing FemTech entrepreneur like Arion Long, CEO of Femly.', 'url': 'https://www.forbes.com/sites/korihale/2025/05/11/investors-are-betting-on-femtechs-untapped-103-billion-market/', 'urlToImage': 'https://imageio.forbes.com/specials-images/imageserve/68214c5bd346c136be669a3a/0x0.jpg?format=jpg&height=900&width=1600&fit=bounds', 'publishedAt': '2025-05-12T01:24:22Z', 'content': 'Femly CEO Arion Long and 100KM Ventures Managing Partner Shalanda Armstrong \\r\\n100KM Ventures and Femly\\r\\nFemTech is not just about periods and pregnancy, its about data sovereignty, community health, … [+4799 chars]'}, {'source': {'id': None, 'name': 'Yahoo Entertainment'}, 'author': 'Madison Mills', 'title': 'Mag 7 rally, airline & pharmaceutical stocks: Trending Tickers', 'description': 'The \"Magnificent Seven,\" made up of Nvidia (NVDA), Alphabet (GOOG, GOOGL), Tesla (TSLA), Microsoft (MSFT), Amazon (AMZN), Meta (META), and Apple (AAPL), are ...', 'url': 'https://finance.yahoo.com/video/mag-7-rally-airline-pharmaceutical-140147890.html', 'urlToImage': 'https://s.yimg.com/ny/api/res/1.2/JG_y2YkgV18qckE2jDBOTg--/YXBwaWQ9aGlnaGxhbmRlcjt3PTEyMDA7aD02NzY-/https://s.yimg.com/os/creatr-uploaded-images/2025-05/d02c3ec0-2f38-11f0-af55-e56f5ecde1c4', 'publishedAt': '2025-05-12T14:01:47Z', 'content': \"Now time for some of today's trending tickers. We're watching Magnificent 7 stocks, Airlines, and Pharmaceuticals. First up, let's talk about that Magnificent 7 rallying after the US and China agreed… [+5748 chars]\"}, {'source': {'id': None, 'name': 'Yahoo Entertainment'}, 'author': 'Anthony Lee', 'title': 'EPAM, CDW, Cognex, DXC, and NetApp Shares Skyrocket, What You Need To Know', 'description': 'A number of stocks jumped in the afternoon session after the major indices popped (Nasdaq +3.4%, S&P 500 +2.5%) in response to the positive outcome of U.S...', 'url': 'https://finance.yahoo.com/news/epam-cdw-cognex-dxc-netapp-181103016.html', 'urlToImage': 'https://s.yimg.com/ny/api/res/1.2/_pbloHnsndxyZGGWkMmdsA--/YXBwaWQ9aGlnaGxhbmRlcjt3PTEyMDA7aD02MDA-/https://media.zenfs.com/en/stockstory_922/ab07c65fe9b2b15b5d9ffe385cf2974f', 'publishedAt': '2025-05-12T18:11:03Z', 'content': 'A number of stocks jumped in the afternoon session after the major indices popped (Nasdaq +3.4%, S&amp;P 500 +2.5%) in response to the positive outcome of U.S.-China trade negotiations, as both sides… [+1945 chars]'}, {'source': {'id': None, 'name': 'Yahoo Entertainment'}, 'author': 'Max Juang', 'title': 'Lattice Semiconductor (LSCC) Q1 Earnings Report Preview: What To Look For', 'description': 'Semiconductor designer Lattice Semiconductor (NASDAQ:LSCC) will be announcing earnings results tomorrow afternoon. Here’s what to look for.', 'url': 'https://finance.yahoo.com/news/lattice-semiconductor-lscc-q1-earnings-204815836.html', 'urlToImage': 'https://s.yimg.com/ny/api/res/1.2/NtbtLgH1vt7C.fV3pF66ww--/YXBwaWQ9aGlnaGxhbmRlcjt3PTEyMDA7aD02MDA-/https://media.zenfs.com/en/stockstory_922/942bf2f3d384506ec6367c009315c815', 'publishedAt': '2025-05-04T20:48:15Z', 'content': 'Semiconductor designer Lattice Semiconductor (NASDAQ:LSCC) will be announcing earnings results tomorrow afternoon. Heres what to look for.\\r\\nLattice Semiconductor met analysts revenue expectations las… [+2098 chars]'}, {'source': {'id': None, 'name': 'Yahoo Entertainment'}, 'author': 'Ines Ferré', 'title': 'Nuclear stocks extend rally as Trump aims to quadruple US nuclear capacity by 2050', 'description': \"Nuclear stocks extended gains on Tuesday as President Trump's executive orders signed on Friday boosted the sector.\", 'url': 'https://finance.yahoo.com/news/nuclear-stocks-extend-rally-as-trump-aims-to-quadruple-us-nuclear-capacity-by-2050-185819848.html', 'urlToImage': 'https://s.yimg.com/ny/api/res/1.2/7wZSpwZ0fTFxGlWb3AQQ1Q--/YXBwaWQ9aGlnaGxhbmRlcjt3PTEyMDA7aD04MDA-/https://s.yimg.com/os/creatr-uploaded-images/2025-05/06ebf6f0-3b08-11f0-bf75-47f8cf0e15e7', 'publishedAt': '2025-05-27T18:58:19Z', 'content': \"Nuclear stocks extended their rally on Tuesday on the heels of President Trump's executive orders, which aim to quadruple US nuclear power production over the next 25 years.\\r\\nSam Altman-backed Oklo (… [+2599 chars]\"}, {'source': {'id': None, 'name': 'Yahoo Entertainment'}, 'author': 'Rian Howlett', 'title': 'Stock market today: Dow gains 900 points, while S&P 500, Nasdaq surge as US-China deal spurs a rush into stocks', 'description': 'US and China said they have agreed to slash most tariffs for 90 days while further trade talks take place.', 'url': 'https://finance.yahoo.com/news/live/stock-market-today-dow-gains-900-points-while-sp-500-nasdaq-surge-as-us-china-deal-spurs-a-rush-into-stocks-144248295.html', 'urlToImage': 'https://s.yimg.com/ny/api/res/1.2/Y3lj8GOJ2T5YX_s10Fat4w--/YXBwaWQ9aGlnaGxhbmRlcjt3PTEyMDA7aD04MDA-/https://s.yimg.com/os/creatr-uploaded-images/2025-05/2d63c480-2c34-11f0-b75a-b29098aff78b', 'publishedAt': '2025-05-12T14:42:48Z', 'content': 'US stocks shot higher on Monday in the wake of a US-China deal to temporarily slash reciprocal tariffs, a reprieve for markets fretting about the economic damage from a trade war.\\r\\nThe S&amp;P 500 (^… [+7654 chars]'}, {'source': {'id': None, 'name': 'Forbes'}, 'author': 'Trefis Team, Contributor, \\n Trefis Team, Contributor\\n https://www.forbes.com/sites/greatspeculations/people/trefis/', 'title': 'Google’s $1 Trillion Problem: Stock To Crash 40%?', 'description': 'A Bloomberg report revealed Apple services head Eddy Cue’s perspective that AI-powered search engines are poised to supplant traditional search engines like Google.', 'url': 'https://www.forbes.com/sites/greatspeculations/2025/05/08/googles-1-trillion-problem-stock-to-crash-40/', 'urlToImage': 'https://imageio.forbes.com/specials-images/imageserve/681c49332fa34b764aecf0a8/0x0.jpg?format=jpg&height=900&width=1600&fit=bounds', 'publishedAt': '2025-05-08T08:33:30Z', 'content': 'Google logo during World News Media Congress at ICE Krakow Congress Centr in Krakow, Poland on May ... More 5th, 2025. (Photo by Beata Zawrzel/NurPhoto via Getty Images)\\r\\nNurPhoto via Getty Images\\r\\nG… [+7576 chars]'}, {'source': {'id': None, 'name': 'Forbes'}, 'author': 'Trefis Team, Contributor, \\n Trefis Team, Contributor\\n https://www.forbes.com/sites/greatspeculations/people/trefis/', 'title': 'UNH Stock Vs. CVS Stock', 'description': 'Health insurance companies have been in the limelight lately after UnitedHealthcare suspended its guidance for the full year citing higher medical costs.', 'url': 'https://www.forbes.com/sites/greatspeculations/2025/05/15/unh-stock-vs-cvs-stock/', 'urlToImage': 'https://imageio.forbes.com/specials-images/imageserve/6825f1ec5837a4e42ccd8ac7/0x0.jpg?format=jpg&height=900&width=1600&fit=bounds', 'publishedAt': '2025-05-15T14:59:43Z', 'content': \"CHONGQING, CHINA - APRIL 26: In this photo illustration, the logo of CVS Health Corporation is ... More displayed on a smartphone screen, with the company's red heart branding visible in the backgrou… [+6717 chars]\"}, {'source': {'id': None, 'name': 'Benzinga'}, 'author': 'Madison Troyer', 'title': \"'The Models Are Getting Better, But They're Also More Likely To Be Good At Bad Stuff,' Tech Experts Sound The Alarm As AI Charges On\", 'description': '', 'url': 'https://www.benzinga.com/news/25/05/45533284/the-models-are-getting-better-but-theyre-also-more-likely-to-be-good-at-bad-stuff-tech-experts-sound-the-alarm-as-ai-charges-on', 'urlToImage': 'https://cdn.benzinga.com/files/images/story/2025/05/20/Close--Up-Of-Computer-Chip-With-Ai-Sign-.jpeg?width=1200&height=800&fit=crop', 'publishedAt': '2025-05-21T02:00:23Z', 'content': '<ul><li>Morgan Stangely has estimated that generative AI revenue could surpass $1.1 trillion by 2028</li><li>In an effort to capitalize on that growth, tech companies like OpenAI, Meta, and Alphabet … [+3407 chars]'}, {'source': {'id': None, 'name': 'Yahoo Entertainment'}, 'author': 'Larry Ramer', 'title': 'Why Goldman Remains Bullish on Apple (AAPL)', 'description': 'Predicting that Apple Inc. (NASDAQ:AAPL) will unveil significant, new technical advancements next month, Goldman Sachs kept a $253 price target and a Buy...', 'url': 'https://finance.yahoo.com/news/why-goldman-remains-bullish-apple-152138051.html', 'urlToImage': 'https://s.yimg.com/ny/api/res/1.2/e1QwhqQiBt5ecLL5Qx6Rkg--/YXBwaWQ9aGlnaGxhbmRlcjt3PTEyMDA7aD02NzM-/https://media.zenfs.com/en/insidermonkey.com/bd47dc2e86b4a3086f845d200d9daf1f', 'publishedAt': '2025-05-22T15:21:38Z', 'content': 'Predicting that Apple Inc. (NASDAQ:AAPL) will unveil significant, new technical advancements next month, Goldman Sachs kept a $253 price target and a Buy rating on the shares in a note to investors r… [+1596 chars]'}, {'source': {'id': None, 'name': 'Yahoo Entertainment'}, 'author': 'Brody Ford', 'title': 'Salesforce Says AI Has Reduced Hiring of Engineers and Customer Service Workers', 'description': '(Bloomberg) -- Salesforce Inc. said the use of artificial intelligence tools internally has allowed it to hire fewer workers, another example of a company...', 'url': 'https://finance.yahoo.com/news/salesforce-says-ai-reduced-hiring-223412133.html', 'urlToImage': 'https://s.yimg.com/ny/api/res/1.2/L5VfwJH5tDK5zLnURf2aNg--/YXBwaWQ9aGlnaGxhbmRlcjt3PTEyMDA7aD03OTk-/https://media.zenfs.com/en/bloomberg_holding_pen_162/6e96fe7e5169331a4374a45012625b9e', 'publishedAt': '2025-05-28T22:34:12Z', 'content': '(Bloomberg) Salesforce Inc. (CRM) said the use of artificial intelligence tools internally has allowed it to hire fewer workers, another example of a company changing its hiring plans due to the emer… [+1720 chars]'}, {'source': {'id': None, 'name': 'Yahoo Entertainment'}, 'author': 'Larry Ramer', 'title': 'Well-Known Investor Defends Alphabet Inc. (GOOGL) Stock', 'description': 'Alphabet Inc. (GOOGL)’s strong “intellectual property and talent” will enable the tech giant to adapt effectively to the threat that it’s facing from AI...', 'url': 'https://finance.yahoo.com/news/well-known-investor-defends-alphabet-160527211.html', 'urlToImage': 'https://media.zenfs.com/en/insidermonkey.com/01f21e5ff2a1d7a2741fac21b32151d9', 'publishedAt': '2025-05-13T16:05:27Z', 'content': 'Alphabet Inc. (GOOGL)\\'s strong \"intellectual property and talent\" will enable the tech giant to adapt effectively to the threat that it\\'s facing from AI chatbots, Jim Lebenthal, a partner at Cerity P… [+1765 chars]'}, {'source': {'id': None, 'name': 'Investopedia'}, 'author': 'David Marino-Nachison', 'title': 'Big Tech Stocks Have Had a Magnificent Day So Far', 'description': 'Pushed higher by optimism associated with elements of last night’s financial results from Meta and Microsoft, shares of all of the Magnificent Seven stocks...', 'url': 'https://www.investopedia.com/big-tech-stocks-have-had-a-magnificent-day-so-far-magnificent-seven-11725692', 'urlToImage': 'https://s.yimg.com/ny/api/res/1.2/pA1axW0GxPAp81G.bbBzdQ--/YXBwaWQ9aGlnaGxhbmRlcjt3PTEyMDA7aD04MDk-/https://media.zenfs.com/en/investopedia_245/33ae08cdb360b8069aef2b39107c30c3', 'publishedAt': '2025-05-01T16:10:21Z', 'content': 'Justin Sullivan / Getty Images\\r\\n Nvidia is set to be the last Magnificent Seven company to report quarterly results later this month.\\r\\nBig tech stocks are having a magnificent Thursday.\\r\\nPushed highe… [+1414 chars]'}, {'source': {'id': None, 'name': 'Yahoo Entertainment'}, 'author': 'Larry Ramer', 'title': 'JPMorgan Hikes Its Price Target on UBER Stock, Citing Autonomous-Vehicle Catalysts', 'description': 'JPMorgan increased its price target on Uber Technologies Inc (UBER) to $105 from $92 while keeping an Overweight rating on the name. The bank expects UBER to...', 'url': 'https://finance.yahoo.com/news/jpmorgan-hikes-price-target-uber-144320994.html', 'urlToImage': 'https://media.zenfs.com/en/insidermonkey.com/fd3a9559dcc8d8b06bfd9bb485036c9f', 'publishedAt': '2025-05-21T14:43:20Z', 'content': 'JPMorgan increased its price target on Uber Technologies Inc (UBER) to $105 from $92 while keeping an Overweight rating on the name.\\r\\nThe bank expects UBER to get a lift from its increasing involveme… [+1541 chars]'}, {'source': {'id': None, 'name': 'Yahoo Entertainment'}, 'author': 'Laura Bratton', 'title': \"Amazon, Meta lead 'Magnificent Seven' stock surge on temporary US-China trade truce\", 'description': 'Amazon and Meta stocks led the \"Magnificent Seven\" Big Tech stock surge after the US and China announced a temporary trade war truce.', 'url': 'https://finance.yahoo.com/news/amazon-meta-lead-magnificent-seven-stock-surge-on-temporary-us-china-trade-truce-123106505.html', 'urlToImage': 'https://s.yimg.com/ny/api/res/1.2/eizu15vie_jPsS6zy2Hx.w--/YXBwaWQ9aGlnaGxhbmRlcjt3PTEyMDA7aD04MDA-/https://s.yimg.com/os/creatr-uploaded-images/2025-05/eab76ee0-2f29-11f0-b8f3-a6260617e7a0', 'publishedAt': '2025-05-12T12:31:06Z', 'content': 'Amazon (AMZN) and Meta (META) led the \"Magnificent Seven\" Big Tech stock surge Monday afternoon after the US and China announced a temporary trade war truce.\\r\\nAmazon shares rose 8.1%, while Meta spik… [+2522 chars]'}, {'source': {'id': None, 'name': 'Yahoo Entertainment'}, 'author': 'Brian Sozzi', 'title': 'Nvidia CEO Jensen Huang on AI: Every job will be affected, some will be lost', 'description': 'Nvidia founder and CEO Jensen Huang served up a blunt take on the job market as AI permeates society.', 'url': 'https://finance.yahoo.com/news/nvidia-ceo-jensen-huang-on-ai-every-job-will-be-affected-some-will-be-lost-221359044.html', 'urlToImage': 'https://s.yimg.com/ny/api/res/1.2/ygg.3Ys8NalCVPGDAth2mw--/YXBwaWQ9aGlnaGxhbmRlcjt3PTEyMDA7aD04MDA-/https://s.yimg.com/os/creatr-uploaded-images/2025-05/6599b8d0-2777-11f0-9bfd-dd5e418163ba', 'publishedAt': '2025-05-06T22:13:59Z', 'content': 'Nvidia (NVDA) founder and CEO Jensen Huang served up a blunt take on the job market as AI permeates society.\\r\\n\"You will not lose your job to AI, but will lose it to someone who uses it,\" Huang said a… [+2237 chars]'}, {'source': {'id': None, 'name': 'Biztoc.com'}, 'author': 'finance.yahoo.com', 'title': 'Veteran Investor Trims Alphabet Inc. (GOOG) Stake, Predicts GOOGL’s Ad Revenue Will Fall', 'description': 'In This Article:\\nAlphabet Inc. (GOOG) ad revenue will drop going forward, veteran investor Kevin Simpson predicted on Friday on CNBC.\\nSimpson, the founder and Chief Investment Officer of Capital Wealth, sold a portion of his Alphabet Inc. (GOOG) holdings rece…', 'url': 'https://biztoc.com/x/c2ec154a31b8763d', 'urlToImage': 'https://biztoc.com/cdn/c2ec154a31b8763d_s.webp', 'publishedAt': '2025-05-13T15:07:45Z', 'content': 'In This Article:Alphabet Inc. (GOOG) ad revenue will drop going forward, veteran investor Kevin Simpson predicted on Friday on CNBC.Simpson, the founder and Chief Investment Officer of Capital Wealth… [+145 chars]'}, {'source': {'id': None, 'name': 'Yahoo Entertainment'}, 'author': 'Brian Sozzi', 'title': \"Nvidia's bear case: Is the hype train running out of tracks?\", 'description': 'There is a bear case to every bull case on a stock, even Nvidia.', 'url': 'https://finance.yahoo.com/news/nvidias-bear-case-is-the-hype-train-running-out-of-tracks-110530397.html', 'urlToImage': 'https://s.yimg.com/ny/api/res/1.2/a7tQXtcRbls7IN0xKIdeuw--/YXBwaWQ9aGlnaGxhbmRlcjt3PTEyMDA7aD04MDA-/https://s.yimg.com/os/creatr-uploaded-images/2025-05/41d8dee0-3801-11f0-b2fb-cdd411b2eee1', 'publishedAt': '2025-05-27T11:05:30Z', 'content': \"Nvidia (NVDA) bulls are riding hard for the stock, but there's still a valuable bear case for the world's most valuable chipmaker.\\r\\nArguably the most important Magnificent Seven member, Nvidia report… [+2447 chars]\"}, {'source': {'id': None, 'name': 'Biztoc.com'}, 'author': 'finance.yahoo.com', 'title': 'Two Prominent Investors Are Bearish on Alphabet Inc. (GOOG) Stock', 'description': \"In This Article:\\nAfter Apple (AAPL) disclosed that searches in its devices' internet browsers had fallen for the first time ever last month, well-known investors Josh Brown and Joe Terranova, speaking on CNBC, said that the news was significantly negative for…\", 'url': 'https://biztoc.com/x/56067e3ef7821a59', 'urlToImage': 'https://biztoc.com/cdn/56067e3ef7821a59_s.webp', 'publishedAt': '2025-05-10T20:01:18Z', 'content': \"In This Article:After Apple (AAPL) disclosed that searches in its devices' internet browsers had fallen for the first time ever last month, well-known investors Josh Brown and Joe Terranova, speaking… [+147 chars]\"}, {'source': {'id': None, 'name': 'Biztoc.com'}, 'author': '247wallst.com', 'title': 'Alphabet (NASDAQ: GOOG) Stock Price Up 2.34% Today (Live Coverage)', 'description': 'Key Points\\n \\n \\n \\n \\nThe current Alphabet stock discount is drawing a good deal of interest from the 15 analysts who have a current average price target of $202.77.\\n \\n \\n \\nSeth Klarman’s Baupost Group increased its Alphabet stake by 45.7% by adding 652,000 share…', 'url': 'https://biztoc.com/x/df1494615f0f0bd8', 'urlToImage': 'https://biztoc.com/cdn/934/og.png', 'publishedAt': '2025-05-16T15:16:16Z', 'content': 'Key Points\\r\\nThe current Alphabet stock discount is drawing a good deal of interest from the 15 analysts who have a current average price target of $202.77.\\r\\nSeth Klarmans Baupost Group increased its … [+127 chars]'}, {'source': {'id': None, 'name': 'Biztoc.com'}, 'author': '247wallst.com', 'title': 'and Alphabet (GOOG) Are The Cheapest Trillion-Dollar Stocks Today', 'description': 'Trillion-dollar market valuations remain a rare milestone, typically only achieved through extraordinary corporate success and global influence. The first stock to cross this threshold was PetroChina (OTC:PCCYF), which briefly reached $1 trillion on its debut…', 'url': 'https://biztoc.com/x/960de7248ceebf34', 'urlToImage': 'https://biztoc.com/cdn/948/og.png', 'publishedAt': '2025-05-29T13:46:40Z', 'content': 'Trillion-dollar market valuations remain a rare milestone, typically only achieved through extraordinary corporate success and global influence. The first stock to cross this threshold was PetroChina… [+147 chars]'}, {'source': {'id': None, 'name': 'Yahoo Entertainment'}, 'author': 'Larry Ramer', 'title': 'Tech Researcher Says That Apple Inc (AAPL) Is Well-Positioned, Stock Is a Buy', 'description': 'The Trump administration’s tariffs will prove to be “pretty transitory,” while Apple’s (AAPL) new iPhones will have higher average sales prices than their...', 'url': 'https://finance.yahoo.com/news/tech-researcher-says-apple-inc-164927216.html', 'urlToImage': 'https://s.yimg.com/ny/api/res/1.2/e1QwhqQiBt5ecLL5Qx6Rkg--/YXBwaWQ9aGlnaGxhbmRlcjt3PTEyMDA7aD02NzM-/https://media.zenfs.com/en/insidermonkey.com/bd47dc2e86b4a3086f845d200d9daf1f', 'publishedAt': '2025-05-06T16:49:27Z', 'content': 'The Trump administration\\'s tariffs will prove to be \"pretty transitory,\" while Apple\\'s (AAPL) new iPhones will have higher average sales prices than their predecessors, Ben Reitzes, a Managing Direct… [+2101 chars]'}, {'source': {'id': None, 'name': 'Yahoo Entertainment'}, 'author': 'Laura Bratton', 'title': 'Tesla, Amazon stocks lead ‘Magnificent Seven’ surge after US-China temporary trade truce', 'description': 'Tesla and Amazon stocks led the “Magnificent Seven” big tech stock surge after the US and China announced a temporary trade war truce.', 'url': 'https://finance.yahoo.com/news/tesla-amazon-stocks-lead-magnificent-seven-surge-after-us-china-temporary-trade-truce-123106034.html', 'urlToImage': 'https://s.yimg.com/ny/api/res/1.2/eizu15vie_jPsS6zy2Hx.w--/YXBwaWQ9aGlnaGxhbmRlcjt3PTEyMDA7aD04MDA-/https://s.yimg.com/os/creatr-uploaded-images/2025-05/eab76ee0-2f29-11f0-b8f3-a6260617e7a0', 'publishedAt': '2025-05-12T12:31:06Z', 'content': 'Tesla (TSLA) and Amazon (AMZN) led the Magnificent Seven big tech stock surge in premarket trading Monday after the US and China announced a temporary trade war truce.\\r\\nTesla shares surged as much as… [+2471 chars]'}, {'source': {'id': None, 'name': 'Biztoc.com'}, 'author': 'finance.yahoo.com', 'title': 'Citi Remains Bullish on Alphabet (GOOG), Citing Personalization Efforts, Valuation', 'description': \"In This Article:\\nCiti today kept a $200 price target and a Buy rating on Alphabet Inc. (NASDAQ:GOOG) stock, citing the tech giant's efforts to make its products more personalized and what the bank sees as the stock's attractive valuation.\\nPersonalization Effo…\", 'url': 'https://biztoc.com/x/8d3e0f983f4bb208', 'urlToImage': 'https://biztoc.com/cdn/8d3e0f983f4bb208_s.webp', 'publishedAt': '2025-05-22T17:38:42Z', 'content': \"In This Article:Citi today kept a $200 price target and a Buy rating on Alphabet Inc. (NASDAQ:GOOG) stock, citing the tech giant's efforts to make its products more personalized and what the bank see… [+137 chars]\"}, {'source': {'id': None, 'name': 'Cointelegraph'}, 'author': 'Cointelegraph by Brayden Lindrea', 'title': 'Elon Musk leaves DOGE as job was ‘uphill battle’', 'description': 'Elon Musk confirmed that he’s quitting as the White House’s government cost-cutting czar after admitting it was an “uphill battle” trying to slash federal jobs and programs.Musk’s status as a Special Government Employee leading the Department of Government Ef…', 'url': 'https://cointelegraph.com/news/elon-musk-leaves-doge-admit-tougher-than-expected', 'urlToImage': 'https://images.cointelegraph.com/cdn-cgi/image/format=auto,onerror=redirect,quality=90,width=1200/https://s3.cointelegraph.com/uploads/2025-05/019719dc-1124-7ebb-8b79-155e9dfecf4b', 'publishedAt': '2025-05-29T05:19:44Z', 'content': 'Elon Musk confirmed that hes quitting as the White Houses government cost-cutting czar after admitting it was an uphill battle trying to slash federal jobs and programs.\\r\\nMusks status as a Special Go… [+3343 chars]'}, {'source': {'id': None, 'name': 'Yahoo Entertainment'}, 'author': 'Radek Strnad', 'title': 'Avis Budget Group (NASDAQ:CAR) Misses Q1 Sales Targets', 'description': 'Car rental services provider Avis (NASDAQ:CAR) fell short of the market’s revenue expectations in Q1 CY2025, with sales falling 4.7% year on year to $2.43...', 'url': 'https://finance.yahoo.com/news/avis-budget-group-nasdaq-car-220803881.html', 'urlToImage': 'https://s.yimg.com/ny/api/res/1.2/GZ5H83lOHYxDMiPeIGP.mw--/YXBwaWQ9aGlnaGxhbmRlcjt3PTEyMDA7aD02MDA-/https://media.zenfs.com/en/stockstory_922/8e1af1db8efda5721967bfb09c490e77', 'publishedAt': '2025-05-07T22:08:03Z', 'content': 'Car rental services provider Avis (NASDAQ:CAR) fell short of the markets revenue expectations in Q1 CY2025, with sales falling 4.7% year on year to $2.43 billion. Its GAAP loss of $14.35 per share wa… [+5826 chars]'}, {'source': {'id': None, 'name': 'Yahoo Entertainment'}, 'author': 'Alexis Keenan', 'title': \"Google CEO warns judge a breakup of search empire 'will have many unintended consequences'\", 'description': \"Alphabet CEO Sundar Pichai took the witness stand Wednesday at the company's breakup trial in an attempt to preserve the competitive advantages of a crown...\", 'url': 'https://finance.yahoo.com/news/google-ceo-warns-judge-a-breakup-of-search-empire-will-have-many-unintended-consequences-182533297.html', 'urlToImage': 'https://s.yimg.com/ny/api/res/1.2/UZf4wi1jsDsxRbt4sAYJtA--/YXBwaWQ9aGlnaGxhbmRlcjt3PTEyMDA7aD04MDA-/https://s.yimg.com/os/creatr-uploaded-images/2025-04/1c0b5dc0-25e9-11f0-b3be-4f4273fbda74', 'publishedAt': '2025-04-30T18:25:33Z', 'content': \"Alphabet (GOOG, GOOGL) CEO Sundar Pichai took the witness stand Wednesday at his company's breakup trial in an attempt to preserve the competitive advantages of a crown jewel: Google Search.\\r\\nPichai … [+4629 chars]\"}, {'source': {'id': None, 'name': 'Yahoo Entertainment'}, 'author': 'Josh Schafer', 'title': 'Trade deals in focus amid stock market rebound: What to know this week', 'description': \"A quiet week of economic data is set to greet a rallying stock market, keeping investor focus on the latest updates in Trump's trade war.\", 'url': 'https://finance.yahoo.com/news/trade-deals-in-focus-amid-stock-market-rebound-what-to-know-this-week-113036992.html', 'urlToImage': 'https://s.yimg.com/ny/api/res/1.2/8N3SGEnL1jTqxkdCT_BViA--/YXBwaWQ9aGlnaGxhbmRlcjt3PTEyMDA7aD04MDA-/https://s.yimg.com/os/creatr-uploaded-images/2025-05/2a0eb280-3289-11f0-bdf7-7d79f61188ec', 'publishedAt': '2025-05-18T11:30:36Z', 'content': 'Growing investor confidence on US trade deals has sent stocks to their highest levels in more than two months. \\r\\nLast week, the S&amp;P 500 (^GSPC) rose 5.3% while the Nasdaq Composite (^IXIC) soared… [+6038 chars]'}, {'source': {'id': None, 'name': 'Yahoo Entertainment'}, 'author': 'Radek Strnad', 'title': 'J&J Snack Foods (NASDAQ:JJSF) Reports Sales Below Analyst Estimates In Q1 Earnings, Stock Drops', 'description': 'Snack food company J&J Snack Foods (NASDAQ:JJSF) missed Wall Street’s revenue expectations in Q1 CY2025, with sales falling 1% year on year to $356.1 million...', 'url': 'https://finance.yahoo.com/news/j-j-snack-foods-nasdaq-123549566.html', 'urlToImage': 'https://s.yimg.com/ny/api/res/1.2/6Bj9Ot9bil4pujsGHuyZtA--/YXBwaWQ9aGlnaGxhbmRlcjt3PTEyMDA7aD02MDA-/https://media.zenfs.com/en/stockstory_922/00c156d61e4a39bf72d4bdf749b0b366', 'publishedAt': '2025-05-06T12:35:49Z', 'content': 'Snack food company J&amp;J Snack Foods (NASDAQ:JJSF) missed Wall Streets revenue expectations in Q1 CY2025, with sales falling 1% year on year to $356.1 million. Its non-GAAP profit of $0.35 per shar… [+4527 chars]'}, {'source': {'id': None, 'name': 'Yahoo Entertainment'}, 'author': 'Jabin Bastian', 'title': 'Robinhood’s (NASDAQ:HOOD) Q1 Sales Beat Estimates', 'description': 'Financial services company Robinhood (NASDAQ:HOOD) announced better-than-expected revenue in Q1 CY2025, with sales up 50% year on year to $927 million. Its...', 'url': 'https://finance.yahoo.com/news/robinhood-nasdaq-hood-q1-sales-202007550.html', 'urlToImage': 'https://s.yimg.com/ny/api/res/1.2/tyzHvBi9e97Je7Vj32Lp0A--/YXBwaWQ9aGlnaGxhbmRlcjt3PTEyMDA7aD02MDA-/https://media.zenfs.com/en/stockstory_922/bf41c6682999351d6aa1be7f14b7459d', 'publishedAt': '2025-04-30T20:20:07Z', 'content': 'Financial services company Robinhood (NASDAQ:HOOD) announced better-than-expected revenue in Q1 CY2025, with sales up 50% year on year to $927 million. Its GAAP profit of $0.37 per share was 13.5% ab… [+4879 chars]'}, {'source': {'id': None, 'name': 'Yahoo Entertainment'}, 'author': 'Petr Huřťák', 'title': 'Pangaea (NASDAQ:PANL) Reports Sales Below Analyst Estimates In Q1 Earnings', 'description': 'Pangaea Logistics (NASDAQ:PANL) missed Wall Street’s revenue expectations in Q1 CY2025, but sales rose 17.2% year on year to $122.8 million. Its non-GAAP...', 'url': 'https://finance.yahoo.com/news/pangaea-nasdaq-panl-reports-sales-211903696.html', 'urlToImage': 'https://s.yimg.com/ny/api/res/1.2/3hH3.taqPFmeATeDuZpGvg--/YXBwaWQ9aGlnaGxhbmRlcjt3PTEyMDA7aD02MDA-/https://media.zenfs.com/en/stockstory_922/f6ff65b5bedc64751bae04a793e2e34b', 'publishedAt': '2025-05-12T21:19:03Z', 'content': 'Pangaea Logistics (NASDAQ:PANL) missed Wall Streets revenue expectations in Q1 CY2025, but sales rose 17.2% year on year to $122.8 million. Its non-GAAP loss of $0.03 per share was 74.3% above analys… [+5743 chars]'}, {'source': {'id': None, 'name': 'Yahoo Entertainment'}, 'author': 'Daniel Howley', 'title': 'Intel debuts AI GPUs for workstation system as it works to gain ground on Nvidia, AMD', 'description': 'Intel announced a pair of new AI chips as it seeks to gain ground on rivals AMD and Nvidia.', 'url': 'https://finance.yahoo.com/news/intel-debuts-ai-gpus-for-workstation-system-as-it-works-to-gain-ground-on-nvidia-amd-103026410.html', 'urlToImage': 'https://s.yimg.com/ny/api/res/1.2/99FCBFc4DXfSwpViZelCtQ--/YXBwaWQ9aGlnaGxhbmRlcjt3PTEyMDA7aD03MjY-/https://s.yimg.com/os/creatr-uploaded-images/2025-05/e0491de0-3286-11f0-95d5-a2267e926b15', 'publishedAt': '2025-05-19T10:30:26Z', 'content': 'Intel (INTC) is expanding its graphics chip offerings with the debut of its Arc Pro B50 and B60 series workstation cards. The options, starting at $299 and $500 and higher, respectively, are designed… [+3426 chars]'}, {'source': {'id': None, 'name': 'Yahoo Entertainment'}, 'author': 'Daniel Howley', 'title': 'Google announces smart glasses partnerships as it takes on Meta, Apple preps its own eyewear', 'description': 'Google says its working with Warby Parker and Gentle Monster on AR smart glasses.', 'url': 'https://finance.yahoo.com/news/google-announces-smart-glasses-partnerships-as-it-takes-on-meta-apple-preps-its-own-eyewear-034542364.html', 'urlToImage': 'https://s.yimg.com/ny/api/res/1.2/LDEWFluDvKdfAH4MCxqeOQ--/YXBwaWQ9aGlnaGxhbmRlcjt3PTEyMDA7aD04MDA-/https://s.yimg.com/os/creatr-uploaded-images/2025-05/eaca70a0-358a-11f0-affb-193b83c5a0a3', 'publishedAt': '2025-05-20T17:45:42Z', 'content': 'Google (GOOG, GOOGL) is teaming up with Warby Parker (WRBY) and Gentle Monster to develop AI-powered smart glasses. The company announced the partnerships during its Google I/O conference in Mountain… [+3581 chars]'}, {'source': {'id': None, 'name': 'Biztoc.com'}, 'author': 'finance.yahoo.com', 'title': 'Here’s Why Alphabet (GOOG) is on Detractors’ List of Loomis Sayles Global Growth Fund', 'description': 'In This Article:\\nIn its first-quarter 2025 investor letter, Loomis Sayles Global Growth Fund highlighted stocks such as Alphabet Inc. (NASDAQ:GOOG). Alphabet Inc. (NASDAQ:GOOG), the parent company of Google, offers various platforms and services operating thr…', 'url': 'https://biztoc.com/x/703ac1038aae23e2', 'urlToImage': 'https://biztoc.com/cdn/703ac1038aae23e2_s.webp', 'publishedAt': '2025-05-27T14:13:54Z', 'content': 'In This Article:In its first-quarter 2025 investor letter, Loomis Sayles Global Growth Fund highlighted stocks such as Alphabet Inc. (NASDAQ:GOOG). Alphabet Inc. (NASDAQ:GOOG), the parent company of … [+150 chars]'}, {'source': {'id': None, 'name': 'Thefly.com'}, 'author': None, 'title': 'Mixed options sentiment in Alphabet (GOOG), with shares down $-1.33 (-0.85%) near $154.42.', 'description': \"See the rest of the story here.\\n\\nthefly.com provides the latest financial news as it breaks. Known as a leader in market intelligence, The Fly's real-time, streaming news feed keeps individual investors, professional money managers, active traders, and corpor…\", 'url': 'https://thefly.com/permalinks/entry.php/id4127074/GOOG-Mixed-options-sentiment-in-Alphabet-GOOG-with-shares-down---near-', 'urlToImage': 'https://thefly.com/images/meta/options.jpg', 'publishedAt': '2025-05-09T17:12:26Z', 'content': 'Earnings calls, analyst events, roadshows and more'}, {'source': {'id': None, 'name': 'Biztoc.com'}, 'author': 'finance.yahoo.com', 'title': 'Analyst Says Alphabet (GOOG) Stock Among ‘Cheapest’ Ways to Gain AI Exposure', 'description': \"In This Article:\\nInvestors are bracing for the Google I/O event to look for clues on the company's strategies to tackle AI-related threats to its search business.\\nOptionsPlay’s Tony Zhang said in a recent program on Schwab Network that Alphabet remains underv…\", 'url': 'https://biztoc.com/x/2a11463b026417bb', 'urlToImage': 'https://biztoc.com/cdn/2a11463b026417bb_s.webp', 'publishedAt': '2025-05-20T12:18:17Z', 'content': \"In This Article:Investors are bracing for the Google I/O event to look for clues on the company's strategies to tackle AI-related threats to its search business.OptionsPlays Tony Zhang said in a rece… [+142 chars]\"}, {'source': {'id': None, 'name': 'Biztoc.com'}, 'author': 'finance.yahoo.com', 'title': 'Veteran Investor Remains Bullish on Alphabet Inc (GOOG) Despite AI Threat', 'description': '', 'url': 'https://biztoc.com/x/2345023b99842dd2', 'urlToImage': 'https://biztoc.com/cdn/934/og.png', 'publishedAt': '2025-05-21T14:46:03Z', 'content': '{ window.open(this.href, \\'_blank\\'); }, 200); return false;\"&gt;Why did Target cut its full-year sales forecast? { window.open(this.href, \\'_blank\\'); }, 200); return false;\"&gt;How did tariffs impact r… [+995 chars]'}, {'source': {'id': None, 'name': 'MarketWatch'}, 'author': 'James Rogers', 'title': 'How students at Roaring Kitty’s high school became top stock pickers', 'description': 'Don’t call them copycats: A group of students at Keith Gill’s old high school have been finding purpose and success in learning about stock trading.', 'url': 'https://www.marketwatch.com/story/how-students-at-roaring-kittys-high-school-became-top-stock-pickers-d7231a3a', 'urlToImage': 'https://s.yimg.com/ny/api/res/1.2/4jVAPcgAwKzoxDNN8NRGjg--/YXBwaWQ9aGlnaGxhbmRlcjt3PTEyMDA7aD02MDA-/https://media.zenfs.com/en/marketwatch_hosted_869/d449f860147148996648a4bf45136133', 'publishedAt': '2025-05-06T14:03:00Z', 'content': 'With more than 3,500 students, Brockton High School is the biggest high school in Massachusetts, having become known in recent years for chronic understaffing. Mirroring the nickname of its sports te… [+9269 chars]'}, {'source': {'id': None, 'name': 'Biztoc.com'}, 'author': 'finance.yahoo.com', 'title': 'Well-Known Investor Is Leaning Towards Holding Alphabet Inc. (GOOG) Stock', 'description': 'In This Article:\\nAfter Apple (AAPL) disclosed that searches in its devices\\' internet browsers had fallen for the first time ever last month, Jim Lebenthal said on CNBC that his \"inclination\" was to hold Alphabet Inc. (GOOG) stock despite the negative news.\\nLe…', 'url': 'https://biztoc.com/x/c482c714fcaa1ac3', 'urlToImage': 'https://biztoc.com/cdn/c482c714fcaa1ac3_s.webp', 'publishedAt': '2025-05-10T17:46:42Z', 'content': 'In This Article:After Apple (AAPL) disclosed that searches in its devices\\' internet browsers had fallen for the first time ever last month, Jim Lebenthal said on CNBC that his \"inclination\" was to ho… [+149 chars]'}, {'source': {'id': None, 'name': 'Biztoc.com'}, 'author': 'finance.yahoo.com', 'title': 'Investment Bank Suggests That Alphabet (GOOG)’s Valuation Could Climb Significantly', 'description': \"In This Article:\\nInvestment bank TD Cowen, focusing on the potential of Alphabet Inc. (NASDAQ:GOOG)'s Waymo, kept a $195 price target and a Buy rating on GOOG recently.\\nTD Cowen's Analysis of Waymo\\nThe investment bank predicts that the U.S. gross bookings of …\", 'url': 'https://biztoc.com/x/b321919f0e3a254e', 'urlToImage': 'https://biztoc.com/cdn/b321919f0e3a254e_s.webp', 'publishedAt': '2025-05-24T20:43:15Z', 'content': \"In This Article:Investment bank TD Cowen, focusing on the potential of Alphabet Inc. (NASDAQ:GOOG)'s Waymo, kept a $195 price target and a Buy rating on GOOG recently.TD Cowen's Analysis of WaymoThe … [+140 chars]\"}, {'source': {'id': None, 'name': 'Biztoc.com'}, 'author': '247wallst.com', 'title': 'Hedge Funds Scooped Up GOOG, META and AMZN in Recent Months', 'description': 'Key Points\\n \\n \\n \\n \\nA number of hedge funds bought up the Mag Seven stocks on weakness in the first few months of the year.\\n \\n \\n \\nGOOG, META, and AMZN were among the most popular names to be scooped up by the big money in Q1.\\n \\n \\n \\nSome of the Mag Seven have o…', 'url': 'https://biztoc.com/x/4379a974c1ca8050', 'urlToImage': 'https://biztoc.com/cdn/948/og.png', 'publishedAt': '2025-05-30T13:13:11Z', 'content': 'Key Points\\r\\nA number of hedge funds bought up the Mag Seven stocks on weakness in the first few months of the year.\\r\\nGOOG, META, and AMZN were among the most popular names to be scooped up by the big… [+127 chars]'}, {'source': {'id': None, 'name': 'Biztoc.com'}, 'author': 'finance.yahoo.com', 'title': 'Well-Known Tech Analyst Suggests That He’s Somewhat Worried About AAPL’s Outlook', 'description': 'In This Article:\\nWhen prominent tech analyst Gene Munster was asked on CNBC recently whether he was worried about the fate of Apple\\'s (AAPL) revenue from Alphabet (GOOG, GOOGL), the analyst replied that the issue was one of the problems \"that makes (him) not …', 'url': 'https://biztoc.com/x/7c7cac992a7299b3', 'urlToImage': 'https://biztoc.com/cdn/7c7cac992a7299b3_s.webp', 'publishedAt': '2025-05-07T14:10:25Z', 'content': \"In This Article:When prominent tech analyst Gene Munster was asked on CNBC recently whether he was worried about the fate of Apple's (AAPL) revenue from Alphabet (GOOG, GOOGL), the analyst replied th… [+134 chars]\"}, {'source': {'id': None, 'name': 'Biztoc.com'}, 'author': 'seekingalpha.com', 'title': 'High-Quality Dividend Growth Stocks Near 52-Week Lows: Alphabet Is Astounding', 'description': 'Analyst’s Disclosure: I/we have a beneficial long position in the shares of APD, BMY, CVX, ELV, GOOG, LMT, MRK, PEP, PFE, QCOM, UNH, UNP, UPS either through stock ownership, options, or other derivatives. I wrote this article myself, and it expresses my own o…', 'url': 'https://biztoc.com/x/abb0f4791c159fb5', 'urlToImage': 'https://biztoc.com/cdn/abb0f4791c159fb5_s.webp', 'publishedAt': '2025-05-12T07:43:34Z', 'content': 'Analysts Disclosure: I/we have a beneficial long position in the shares of APD, BMY, CVX, ELV, GOOG, LMT, MRK, PEP, PFE, QCOM, UNH, UNP, UPS either through stock ownership, options, or other derivati… [+148 chars]'}, {'source': {'id': None, 'name': 'Biztoc.com'}, 'author': 'finance.yahoo.com', 'title': \"A Once-in-a-Decade Opportunity: Here's Why I'm Buying Alphabet Stock Like There's No Tomorrow\", 'description': \"In This Article:\\nKey Points\\n-\\nAlphabet faces three massive threats.\\n-\\nWe're years away from knowing the outcome of Alphabet's business.\\n-\\nThe stock trades at a historically low valuation level.\\nInvestors are incredibly negative on Alphabet (NASDAQ: GOOG) (NAS…\", 'url': 'https://biztoc.com/x/66a52123badbabc2', 'urlToImage': 'https://biztoc.com/cdn/66a52123badbabc2_s.webp', 'publishedAt': '2025-05-20T12:51:19Z', 'content': \"In This Article:Key Points-Alphabet faces three massive threats.-We're years away from knowing the outcome of Alphabet's business.-The stock trades at a historically low valuation level.Investors are… [+140 chars]\"}, {'source': {'id': None, 'name': 'Biztoc.com'}, 'author': 'finance.yahoo.com', 'title': \"Alphabet stock rebounds, Wall Street analysts defend company after Apple's AI search plan triggers 7% sell-off\", 'description': \"In This Article:\\nAlphabet (GOOG, GOOGL) stock rose about 1.4% early Thursday as several Wall Street banks defended the company following shares' 7% drop Wednesday, which was spurred by a report that Apple (AAPL) may be looking to add AI search options to its …\", 'url': 'https://biztoc.com/x/2ec8d70ff754f323', 'urlToImage': 'https://biztoc.com/cdn/2ec8d70ff754f323_s.webp', 'publishedAt': '2025-05-08T14:35:35Z', 'content': \"In This Article:Alphabet (GOOG, GOOGL) stock rose about 1.4% early Thursday as several Wall Street banks defended the company following shares' 7% drop Wednesday, which was spurred by a report that A… [+133 chars]\"}, {'source': {'id': None, 'name': 'Biztoc.com'}, 'author': 'finance.yahoo.com', 'title': 'Has Multiple, Positive Catalysts, Stock Researcher Says', 'description': \"In This Article:\\nAlphabet Inc. (NASDAQ:GOOG)'s new, popular video technology, along with its huge user base and leverage to the blockchain, make GOOG stock attractive, stock researcher Jessica Inskip told Schwab Network recently.\\nInskip is the Director of Inv…\", 'url': 'https://biztoc.com/x/790ad943678fb27a', 'urlToImage': 'https://biztoc.com/cdn/790ad943678fb27a_s.webp', 'publishedAt': '2025-05-28T14:34:06Z', 'content': \"In This Article:Alphabet Inc. (NASDAQ:GOOG)'s new, popular video technology, along with its huge user base and leverage to the blockchain, make GOOG stock attractive, stock researcher Jessica Inskip … [+138 chars]\"}, {'source': {'id': None, 'name': 'Biztoc.com'}, 'author': 'finance.yahoo.com', 'title': 'Big tech stocks pare gains as uncertainty looms over Trump tariffs despite court ruling', 'description': 'In This Article:\\nBig Tech stocks pared gains after a brief spike Thursday morning following a US trade court ruling Wednesday that the vast majority of Trump’s global tariffs are illegal.\\nApple (AAPL) traded 0.1% lower midday while Google (GOOG) dipped 0.3%. …', 'url': 'https://biztoc.com/x/e317ab2ee67b8912', 'urlToImage': 'https://biztoc.com/cdn/e317ab2ee67b8912_s.webp', 'publishedAt': '2025-05-29T16:12:03Z', 'content': 'In This Article:Big Tech stocks pared gains after a brief spike Thursday morning following a US trade court ruling Wednesday that the vast majority of Trumps global tariffs are illegal.Apple (AAPL) t… [+150 chars]'}, {'source': {'id': None, 'name': 'Biztoc.com'}, 'author': 'theglobeandmail.com', 'title': 'Trump’s new tax bill contains ‘sledgehammer’ to hit back against foreign digital taxes', 'description': 'U.S. President Donald Trump would have the power to retaliate against countries that impose special digital service taxes on large U.S. technology companies like Amazon AMZN-T and Alphabet GOOG-Q, under a provision in the sweeping tax bill that Congress is co…', 'url': 'https://biztoc.com/x/6c4db11f6f61d762', 'urlToImage': 'https://biztoc.com/cdn/6c4db11f6f61d762_s.webp', 'publishedAt': '2025-05-30T19:21:24Z', 'content': 'U.S. President Donald Trump would have the power to retaliate against countries that impose special digital service taxes on large U.S. technology companies like Amazon AMZN-T and Alphabet GOOG-Q, un… [+145 chars]'}, {'source': {'id': None, 'name': 'Biztoc.com'}, 'author': 'seekingalpha.com', 'title': 'TTD Q1: Upgrading My Price Target Amid Stellar Earnings', 'description': 'Analyst’s Disclosure: I/we have a beneficial long position in the shares of TTD, AMZN, GOOG either through stock ownership, options, or other derivatives. I wrote this article myself, and it expresses my own opinions. I am not receiving compensation for it (o…', 'url': 'https://biztoc.com/x/37c268f24b4d7eee', 'urlToImage': 'https://biztoc.com/cdn/37c268f24b4d7eee_s.webp', 'publishedAt': '2025-05-11T07:32:43Z', 'content': 'Analysts Disclosure: I/we have a beneficial long position in the shares of TTD, AMZN, GOOG either through stock ownership, options, or other derivatives. I wrote this article myself, and it expresses… [+143 chars]'}, {'source': {'id': None, 'name': 'Biztoc.com'}, 'author': 'benzinga.com', 'title': \"Amid Trump's Movie Tariffs, Google Launches '100 Zeros' To Influence Hollywood And Promote Tech Culture To Gen Z\", 'description': 'As President Donald Trump pledged 100% tariffs on foreign-made films, Alphabet Inc.‘s GOOGL GOOG Google has launched “100 Zeros,” a film and TV production initiative aimed at influencing Hollywood and reconnecting with younger audiences.\\nWhat Happened: The mu…', 'url': 'https://biztoc.com/x/e5074f5c28c27e44', 'urlToImage': 'https://biztoc.com/cdn/e5074f5c28c27e44_s.webp', 'publishedAt': '2025-05-06T11:29:09Z', 'content': 'As President Donald Trump pledged 100% tariffs on foreign-made films, Alphabet Inc.s GOOGL GOOG Google has launched 100 Zeros, a film and TV production initiative aimed at influencing Hollywood and r… [+138 chars]'}, {'source': {'id': None, 'name': 'Biztoc.com'}, 'author': 'finance.yahoo.com', 'title': 'Charles Schwab Alumnus Owns AMD, NVDA Stock', 'description': \"In This Article:\\nA former employee of Charles Schwab, Lee Munson recently noted on the Schwab Network that he owns Nvidia (NVDA) and Advanced Micro Devices (AMD) stock.\\nMunson, who's also bullish on Alphabet (GOOG) and Amazon (AMZN), seeks to invest in firms …\", 'url': 'https://biztoc.com/x/3c0c60789cb31ea3', 'urlToImage': 'https://biztoc.com/cdn/3c0c60789cb31ea3_s.webp', 'publishedAt': '2025-05-06T16:40:10Z', 'content': \"In This Article:A former employee of Charles Schwab, Lee Munson recently noted on the Schwab Network that he owns Nvidia (NVDA) and Advanced Micro Devices (AMD) stock.Munson, who's also bullish on Al… [+142 chars]\"}, {'source': {'id': None, 'name': 'Biztoc.com'}, 'author': 'finance.yahoo.com', 'title': 'Is This the End for Alphabet Stock?', 'description': 'In This Article:\\nKey Points\\n-\\nAn Apple executive believes AI will replace standard search engines shortly.\\n-\\nGoogle is already implementing AI overviews.\\n-\\nThe stock is dirt cheap for its growth.\\nAlphabet (NASDAQ: GOOG) (NASDAQ: GOOGL) was slammed last week w…', 'url': 'https://biztoc.com/x/a0901d6fde33eae2', 'urlToImage': 'https://biztoc.com/cdn/a0901d6fde33eae2_s.webp', 'publishedAt': '2025-05-14T11:57:18Z', 'content': 'In This Article:Key Points-An Apple executive believes AI will replace standard search engines shortly.-Google is already implementing AI overviews.-The stock is dirt cheap for its growth.Alphabet (N… [+144 chars]'}, {'source': {'id': None, 'name': 'Biztoc.com'}, 'author': '247wallst.com', 'title': 'Will Apple’s Blow Finish Google?', 'description': '24/7 Wall St. Insights:\\n \\n \\n \\n \\nAlphabet (GOOG,GOOGL) has been a phenomenal investment since its 2004 IPO, but a trio of threats could undermine its potential going forward.\\n \\n \\n \\nThe DOJ is looking for Google to divest its ad business, Apple says Google sear…', 'url': 'https://biztoc.com/x/f06decfba83252ae', 'urlToImage': 'https://biztoc.com/cdn/934/og.png', 'publishedAt': '2025-05-15T12:18:33Z', 'content': '24/7 Wall St. Insights:\\r\\nAlphabet (GOOG,GOOGL) has been a phenomenal investment since its 2004 IPO, but a trio of threats could undermine its potential going forward.\\r\\nThe DOJ is looking for Google t… [+134 chars]'}, {'source': {'id': None, 'name': 'Biztoc.com'}, 'author': 'benzinga.com', 'title': \"Alphabet's Value Could Skyrocket To $3.7 Trillion With Google's 'Big Bang Breakup' Over 'Isolated Spin-Offs,' Says Analyst\", 'description': 'DA Davidson analyst Gil Luria has proposed that Alphabet Inc. GOOGL GOOG should contemplate splitting up Google’s various businesses to enhance its overall value. This recommendation comes amid Google’s struggle to retain its supremacy in the search engine ma…', 'url': 'https://biztoc.com/x/2053b7a14d96c218', 'urlToImage': 'https://biztoc.com/cdn/2053b7a14d96c218_s.webp', 'publishedAt': '2025-05-14T07:08:43Z', 'content': 'DA Davidson analyst Gil Luria has proposed that Alphabet Inc. GOOGL GOOG should contemplate splitting up Googles various businesses to enhance its overall value. This recommendation comes amid Google… [+142 chars]'}, {'source': {'id': None, 'name': 'Biztoc.com'}, 'author': 'finance.yahoo.com', 'title': 'Reddit stock slides as investors weigh Google Search traffic, user growth concerns', 'description': \"In This Article:\\nReddit (RDDT) stock sank as much as 6% in early trading Friday despite a first quarter earnings beat the prior day as investors worried about the company's daily active user growth and changes to Google's (GOOG, GOOGL) Search algorithm.\\nReddi…\", 'url': 'https://biztoc.com/x/6d16f08b636cf4b7', 'urlToImage': 'https://biztoc.com/cdn/6d16f08b636cf4b7_s.webp', 'publishedAt': '2025-05-02T14:17:43Z', 'content': \"In This Article:Reddit (RDDT) stock sank as much as 6% in early trading Friday despite a first quarter earnings beat the prior day as investors worried about the company's daily active user growth an… [+147 chars]\"}, {'source': {'id': None, 'name': 'Biztoc.com'}, 'author': 'finance.yahoo.com', 'title': \"Google needs 'big bang breakup' that would value its businesses at $3.7 trillion as AI threatens Search: Analyst\", 'description': 'In This Article:\\nAlphabet (GOOGL, GOOG) investors would be better off breaking up most or all of Google’s business as it struggles to prove that its search engine can maintain dominance in the AI chatbot era, DA Davidson analyst Gil Luria told Yahoo Finance i…', 'url': 'https://biztoc.com/x/d673ff818bee9123', 'urlToImage': 'https://biztoc.com/cdn/d673ff818bee9123_s.webp', 'publishedAt': '2025-05-13T17:21:05Z', 'content': 'In This Article:Alphabet (GOOGL, GOOG) investors would be better off breaking up most or all of Googles business as it struggles to prove that its search engine can maintain dominance in the AI chatb… [+146 chars]'}, {'source': {'id': None, 'name': 'Biztoc.com'}, 'author': 'finance.yahoo.com', 'title': 'Removed From Best Ideas List by Investment Bank', 'description': 'In This Article:\\nInvestment bank Wedbush recently removed Alphabet Inc. (GOOGL) from its Best Ideas List.\\nAccording to the investment bank, worries about the increased competition that GOOG/GOOGL is facing from AI have made the shares more volatile.\\nMore Abou…', 'url': 'https://biztoc.com/x/9c8b1496ef961f76', 'urlToImage': 'https://biztoc.com/cdn/9c8b1496ef961f76_s.webp', 'publishedAt': '2025-05-14T15:18:08Z', 'content': 'In This Article:Investment bank Wedbush recently removed Alphabet Inc. (GOOGL) from its Best Ideas List.According to the investment bank, worries about the increased competition that GOOG/GOOGL is fa… [+149 chars]'}, {'source': {'id': None, 'name': 'Biztoc.com'}, 'author': 'finance.yahoo.com', 'title': \"Alphabet's Stock Just Did Something It Has Only Done 3 Other Times in History. Each Time the Stock Is at Least 47% Higher a Year Later\", 'description': \"In This Article:\\nKey Points\\n-\\nAlphabet's stock has rarely been this cheap.\\n-\\nInvestors are worried whether generative AI will replace the Google search engine.\\nUnderstanding a stock's historical trends is smart, especially if it's based in a cyclical industry…\", 'url': 'https://biztoc.com/x/09366ffa0a314f9b', 'urlToImage': 'https://biztoc.com/cdn/09366ffa0a314f9b_s.webp', 'publishedAt': '2025-05-17T13:18:06Z', 'content': \"In This Article:Key Points-Alphabet's stock has rarely been this cheap.-Investors are worried whether generative AI will replace the Google search engine.Understanding a stock's historical trends is … [+146 chars]\"}, {'source': {'id': None, 'name': 'Biztoc.com'}, 'author': 'finance.yahoo.com', 'title': 'Do Strong Earnings Results and a Dividend Hike Make Alphabet a Growth Stock to Buy Right Now?', 'description': \"In This Article:\\nKey Points\\n-\\nAlphabet's services delivered high-margin results.\\n-\\nAlphabet is ramping up spending to invest in AI and cloud computing.\\n-\\nThe stock is beyond cheap.\\nAlphabet (NASDAQ: GOOG) (NASDAQ: GOOGL) reported excellent first-quarter 2025 …\", 'url': 'https://biztoc.com/x/f087942ad765263a', 'urlToImage': 'https://biztoc.com/cdn/f087942ad765263a_s.webp', 'publishedAt': '2025-05-04T19:21:12Z', 'content': \"In This Article:Key Points-Alphabet's services delivered high-margin results.-Alphabet is ramping up spending to invest in AI and cloud computing.-The stock is beyond cheap.Alphabet (NASDAQ: GOOG) (N… [+143 chars]\"}]}\n",
            "these are the headlines\n",
            "['Why Google could help Alphabet win the AI race', 'Alphabet (GOOG) Fell Along with Peers', 'Alphabet: Buy More The Best AI Play At A Reasonable Valuation', 'Two Prominent Investors Are Bearish on Alphabet Inc. (GOOG) Stock', 'KeyBanc Keeps an Overweight Rating on Alphabet Inc. (GOOG)']\n",
            "DatetimeIndex(['2025-05-22', '2025-05-07', '2025-05-18', '2025-05-10',\n",
            "               '2025-05-22'],\n",
            "              dtype='datetime64[ns]', freq=None)\n"
          ]
        }
      ],
      "source": [
        "from newsapi import NewsApiClient\n",
        "import pandas as pd\n",
        "from datetime import datetime\n",
        "\n",
        "newsapi = NewsApiClient(api_key='b4f8ba43db3d416c942e6f26984d3262')\n",
        "\n",
        "# Fetch news\n",
        "all_articles = newsapi.get_everything(q='GOOG', language='en', sort_by='relevancy')\n",
        "\n",
        "headlines = [article['title'] for article in all_articles['articles']]\n",
        "dates = [article['publishedAt'] for article in all_articles['articles']]\n",
        "dates = [datetime.strptime(date, '%Y-%m-%dT%H:%M:%SZ').date() for date in dates]\n",
        "\n",
        "# Convert dates to pandas datetime format\n",
        "dates = pd.to_datetime(dates)\n",
        "print(\"These are the headlines\")\n",
        "print(headlines[:5])\n",
        "print(dates[:5])"
      ]
    },
    {
      "cell_type": "markdown",
      "source": [
        "##Data Preprocessing\n",
        "\n"
      ],
      "metadata": {
        "id": "zFfGBVK30FRV"
      }
    },
    {
      "cell_type": "code",
      "execution_count": null,
      "metadata": {
        "colab": {
          "base_uri": "https://localhost:8080/"
        },
        "id": "NIF4uCCVbztz",
        "outputId": "afc16c9b-7a3b-4b93-c2ee-92f76defeac6"
      },
      "outputs": [
        {
          "output_type": "stream",
          "name": "stdout",
          "text": [
            "['google could help alphabet win ai race', 'alphabet goog fell along peers', 'alphabet buy best ai play reasonable valuation', 'two prominent investors bearish alphabet inc goog stock', 'keybanc keeps overweight rating alphabet inc goog']\n"
          ]
        },
        {
          "output_type": "stream",
          "name": "stderr",
          "text": [
            "[nltk_data] Downloading package stopwords to /root/nltk_data...\n",
            "[nltk_data]   Package stopwords is already up-to-date!\n"
          ]
        }
      ],
      "source": [
        "from transformers import pipeline\n",
        "import re\n",
        "import nltk\n",
        "from nltk.corpus import stopwords\n",
        "from transformers import pipeline\n",
        "\n",
        "# Download stopwords\n",
        "nltk.download('stopwords')\n",
        "stop_words = set(stopwords.words('english'))\n",
        "\n",
        "# Function to process headlines\n",
        "def process_headline(text):\n",
        "\n",
        "    text = text.lower()\n",
        "\n",
        "    text = re.sub(r'[^a-zA-Z\\s]', '', text)\n",
        "\n",
        "    words = text.split()\n",
        "    words = [word for word in words if word not in stop_words]\n",
        "    return ' '.join(words)\n",
        "\n",
        "\n",
        "processed_headlines = [process_headline(headline) for headline in headlines]\n",
        "print(processed_headlines[:5])"
      ]
    },
    {
      "cell_type": "markdown",
      "source": [
        "##Model Training"
      ],
      "metadata": {
        "id": "4bEr4QxkbJfq"
      }
    },
    {
      "cell_type": "code",
      "execution_count": null,
      "metadata": {
        "colab": {
          "base_uri": "https://localhost:8080/",
          "height": 49,
          "referenced_widgets": [
            "ce1e0f2d989d46c5a733da2802109cf9",
            "4c41251c49f2419784e180863ff65ab2",
            "078cf2022d404c829998e56d65403d46",
            "d9d8f36c4b9e4111ae6ec7836a02ef0d",
            "271efb4414494fd3813e4f323ca41f57",
            "b1e4b40b7e6b4eec98cd01e75775bc48",
            "6a9315a60a894143bbf88d69d6fe90f2",
            "034c938ec2d44d76bcd4b6b9cfe67ceb",
            "6a3a3c07112e4f4989b056ac3a2080fb",
            "a878e33dd6b64954838328da8c0c1d95",
            "2b6f9a023a234a5fbafb1f5eef0bb2d7"
          ]
        },
        "id": "ASwmC8gHb7D6",
        "outputId": "4d5a9438-80f3-4cf9-f3a1-2c8b8fd8cb98"
      },
      "outputs": [
        {
          "output_type": "display_data",
          "data": {
            "text/plain": [
              "Map:   0%|          | 0/4845 [00:00<?, ? examples/s]"
            ],
            "application/vnd.jupyter.widget-view+json": {
              "version_major": 2,
              "version_minor": 0,
              "model_id": "ce1e0f2d989d46c5a733da2802109cf9"
            }
          },
          "metadata": {}
        }
      ],
      "source": [
        "from datasets import load_dataset,Dataset\n",
        "import pandas as pd\n",
        "\n",
        "dataset=pd.read_csv(\"/content/drive/MyDrive/all-data.csv\")\n",
        "\n",
        "dataset = Dataset.from_pandas(dataset)\n",
        "\n",
        "\n",
        "label_mapping = {\"negative\": 0, \"neutral\": 1, \"positive\": 2}\n",
        "dataset = dataset.map(lambda x: {\"Label\": label_mapping[x[\"Label\"]]})\n",
        "\n",
        "# 80% train and 20% validation\n",
        "dataset = dataset.train_test_split(test_size=0.2)\n",
        "train_dataset = dataset[\"train\"]\n",
        "validation_dataset = dataset[\"test\"]"
      ]
    },
    {
      "cell_type": "code",
      "execution_count": null,
      "metadata": {
        "colab": {
          "base_uri": "https://localhost:8080/",
          "height": 208,
          "referenced_widgets": [
            "71c4a0ab02294c758056ceaab704cf6d",
            "2318beaa535f4f6d82d39e003c0b6dfb",
            "86e0b888bad04fa9b3ff2b88c9153b8e",
            "13a819cca62c4ca1b48f2b7f77d8e36c",
            "3ef34cb98f554c4f99f354b85d687d22",
            "1027c54a71334412b2630895d27014ac",
            "476c01bfe5094aafbb920328491bd4aa",
            "e4b1ed57e6c04c2bab1d27a7f8b08c17",
            "8971b7eec4f94c9a9250f79bc13a69cc",
            "2671460f0fab47acadfd221506e0aa62",
            "6d1e3416bc7b4d8bb15757b83ec37d7f",
            "7c126e1fbc3742f1a4a38212a0b23728",
            "5d9b131220e84f4d885d8d9fbd4be19e",
            "9900da48d0bc4e5f81af0f82c6fd7994",
            "09ad6cbcecf243fabcc52374b81aade7",
            "b1d820e50a1c43818e2b022593dce594",
            "907efeccf035408a8f7c5784f70f1d7b",
            "4822a46390c94aff9627daf79ffb4817",
            "95f30d9dcf1c4c8b92766b232e4fb1eb",
            "02a56be89e32446293301f9d59472118",
            "e1f1fb8d17644a36a468fd37bfa2ce39",
            "b0fc5e63e5de42e398270afc6784250e"
          ]
        },
        "id": "QYxcVVRWeU2z",
        "outputId": "132eaf7d-41c5-4f98-9808-7c283d26484d"
      },
      "outputs": [
        {
          "output_type": "stream",
          "name": "stderr",
          "text": [
            "/usr/local/lib/python3.11/dist-packages/huggingface_hub/utils/_auth.py:94: UserWarning: \n",
            "The secret `HF_TOKEN` does not exist in your Colab secrets.\n",
            "To authenticate with the Hugging Face Hub, create a token in your settings tab (https://huggingface.co/settings/tokens), set it as secret in your Google Colab and restart your session.\n",
            "You will be able to reuse this secret in all of your notebooks.\n",
            "Please note that authentication is recommended but still optional to access public models or datasets.\n",
            "  warnings.warn(\n"
          ]
        },
        {
          "output_type": "display_data",
          "data": {
            "text/plain": [
              "Map:   0%|          | 0/3876 [00:00<?, ? examples/s]"
            ],
            "application/vnd.jupyter.widget-view+json": {
              "version_major": 2,
              "version_minor": 0,
              "model_id": "71c4a0ab02294c758056ceaab704cf6d"
            }
          },
          "metadata": {}
        },
        {
          "output_type": "display_data",
          "data": {
            "text/plain": [
              "Map:   0%|          | 0/969 [00:00<?, ? examples/s]"
            ],
            "application/vnd.jupyter.widget-view+json": {
              "version_major": 2,
              "version_minor": 0,
              "model_id": "7c126e1fbc3742f1a4a38212a0b23728"
            }
          },
          "metadata": {}
        }
      ],
      "source": [
        "from transformers import AutoTokenizer,DefaultDataCollator\n",
        "\n",
        "tokenizer = AutoTokenizer.from_pretrained(\"yiyanghkust/finbert-tone\")\n",
        "\n",
        "def tokenize(batch):\n",
        "    return tokenizer(batch[\"Headlinesexample\"], padding=\"max_length\", truncation=True,max_length=64)\n",
        "\n",
        "train_dataset = train_dataset.map(tokenize, batched=True)\n",
        "validation_dataset = validation_dataset.map(tokenize, batched=True)"
      ]
    },
    {
      "cell_type": "code",
      "execution_count": null,
      "metadata": {
        "colab": {
          "base_uri": "https://localhost:8080/"
        },
        "id": "iTdYjjsjdFh8",
        "outputId": "eef6477b-d8a7-4ed0-c3aa-adb97b8f4f45"
      },
      "outputs": [
        {
          "output_type": "stream",
          "name": "stdout",
          "text": [
            "Training dataset type: <class 'tensorflow.python.data.ops.prefetch_op._PrefetchDataset'>\n",
            "Validation dataset type: <class 'tensorflow.python.data.ops.prefetch_op._PrefetchDataset'>\n"
          ]
        }
      ],
      "source": [
        "# Set up data collator to batch the input correctly\n",
        "data_collator = DefaultDataCollator(return_tensors=\"tf\")\n",
        "\n",
        "train_dataset = train_dataset.to_tf_dataset(\n",
        "    columns=[\"input_ids\", \"attention_mask\"],\n",
        "    label_cols=\"Label\",\n",
        "    shuffle=True,\n",
        "    batch_size=4,\n",
        ")\n",
        "\n",
        "validation_dataset = validation_dataset.to_tf_dataset(\n",
        "    columns=[\"input_ids\", \"attention_mask\"],\n",
        "    label_cols=\"Label\",\n",
        "    shuffle=False,\n",
        "    batch_size=4,\n",
        ")\n",
        "# Verify dataset type\n",
        "print(f\"Training dataset type: {type(train_dataset)}\")\n",
        "print(f\"Validation dataset type: {type(validation_dataset)}\")\n"
      ]
    },
    {
      "cell_type": "code",
      "execution_count": null,
      "metadata": {
        "colab": {
          "base_uri": "https://localhost:8080/",
          "height": 140,
          "referenced_widgets": [
            "f7f6fed6b3904edcb71dab428d8b80b1",
            "5aba10dbb22a45a099d382c801031608",
            "1844779e8c7441468447497bf0406048",
            "fac4c993d66944278ddda8a884649ab2",
            "877021ac6a4546c5b80e3d9b9e08bcf7",
            "f9aa7f5a8346412a87e6583dd31185aa",
            "843ec77eb41b47c48635e44fdbb99b59",
            "954587acd84740a6b55aa3fa5f79a3b3",
            "d1a02a22ff174bf58cae06cdd25dfe39",
            "2097d717ec504a59ba3bcea26d76bb2d",
            "b2916a6f5dc94f3098047be53e277008"
          ]
        },
        "id": "XKgUJN9rmVLu",
        "outputId": "731af221-ab9f-42ab-b9ca-b1a2711b36aa"
      },
      "outputs": [
        {
          "output_type": "display_data",
          "data": {
            "text/plain": [
              "tf_model.h5:   0%|          | 0.00/439M [00:00<?, ?B/s]"
            ],
            "application/vnd.jupyter.widget-view+json": {
              "version_major": 2,
              "version_minor": 0,
              "model_id": "f7f6fed6b3904edcb71dab428d8b80b1"
            }
          },
          "metadata": {}
        },
        {
          "output_type": "stream",
          "name": "stderr",
          "text": [
            "All model checkpoint layers were used when initializing TFBertForSequenceClassification.\n",
            "\n",
            "All the layers of TFBertForSequenceClassification were initialized from the model checkpoint at yiyanghkust/finbert-tone.\n",
            "If your task is similar to the task the model of the checkpoint was trained on, you can already use TFBertForSequenceClassification for predictions without further training.\n"
          ]
        }
      ],
      "source": [
        "from transformers import TFAutoModelForSequenceClassification\n",
        "\n",
        "model = TFAutoModelForSequenceClassification.from_pretrained(\"yiyanghkust/finbert-tone\", num_labels=3)"
      ]
    },
    {
      "cell_type": "code",
      "execution_count": null,
      "metadata": {
        "id": "J0eS_GEpmZHp"
      },
      "outputs": [],
      "source": [
        "import tensorflow as tf\n",
        "\n",
        "optimizer = tf.keras.optimizers.Adam(learning_rate=2e-5)\n",
        "loss = tf.keras.losses.SparseCategoricalCrossentropy(from_logits=True)\n",
        "metrics = [tf.keras.metrics.SparseCategoricalAccuracy()]\n",
        "\n",
        "model.compile(optimizer=optimizer, loss=loss, metrics=metrics)"
      ]
    },
    {
      "cell_type": "code",
      "execution_count": null,
      "metadata": {
        "colab": {
          "base_uri": "https://localhost:8080/"
        },
        "id": "b6bt8gVNmchL",
        "outputId": "6e0beb85-9328-4364-e835-469d7b74dd6d"
      },
      "outputs": [
        {
          "output_type": "stream",
          "name": "stdout",
          "text": [
            "969/969 [==============================] - 4511s 5s/step - loss: 0.6817 - sparse_categorical_accuracy: 0.7650 - val_loss: 0.3557 - val_sparse_categorical_accuracy: 0.8596\n"
          ]
        },
        {
          "output_type": "execute_result",
          "data": {
            "text/plain": [
              "<tf_keras.src.callbacks.History at 0x784935bd9910>"
            ]
          },
          "metadata": {},
          "execution_count": 10
        }
      ],
      "source": [
        "# Train the model\n",
        "#a tf model\n",
        "model.fit(\n",
        "    train_dataset,\n",
        "    validation_data=validation_dataset,\n",
        "    epochs=1\n",
        ")"
      ]
    },
    {
      "cell_type": "code",
      "execution_count": null,
      "metadata": {
        "id": "xh-UzpMf3_vO",
        "colab": {
          "base_uri": "https://localhost:8080/"
        },
        "outputId": "fcf2c45d-2524-474c-9fbe-c34b7499b896"
      },
      "outputs": [
        {
          "output_type": "stream",
          "name": "stdout",
          "text": [
            "243/243 [==============================] - 244s 1s/step - loss: 0.3557 - sparse_categorical_accuracy: 0.8596\n",
            "Validation Loss: 0.35568270087242126\n",
            "Validation Accuracy: 0.859649121761322\n",
            "Drive already mounted at /content/drive; to attempt to forcibly remount, call drive.mount(\"/content/drive\", force_remount=True).\n"
          ]
        }
      ],
      "source": [
        "loss, accuracy = model.evaluate(validation_dataset)\n",
        "print(f\"Validation Loss: {loss}\")\n",
        "print(f\"Validation Accuracy: {accuracy}\")\n",
        "model.save_pretrained(\"/content/my_tf_model\")\n",
        "tokenizer.save_pretrained(\"/content/my_tf_model\")\n",
        "from google.colab import drive\n",
        "drive.mount('/content/drive')\n",
        "!cp -r /content/my_tf_model /content/drive/MyDrive/"
      ]
    },
    {
      "cell_type": "markdown",
      "source": [
        "Import the model path"
      ],
      "metadata": {
        "id": "7m8DZtjhbRro"
      }
    },
    {
      "cell_type": "code",
      "source": [
        "from transformers import TFAutoModelForSequenceClassification, AutoTokenizer\n",
        "\n",
        "model = TFAutoModelForSequenceClassification.from_pretrained(\"/content/drive/MyDrive/my_tf_model\")\n",
        "tokenizer = AutoTokenizer.from_pretrained(\"/content/drive/MyDrive/my_tf_model\")"
      ],
      "metadata": {
        "colab": {
          "base_uri": "https://localhost:8080/"
        },
        "id": "rIvqZ55tzWGZ",
        "outputId": "e17d479d-c303-4c98-9fd9-9fb0fb2b0e5e"
      },
      "execution_count": null,
      "outputs": [
        {
          "output_type": "stream",
          "name": "stderr",
          "text": [
            "All model checkpoint layers were used when initializing TFBertForSequenceClassification.\n",
            "\n",
            "All the layers of TFBertForSequenceClassification were initialized from the model checkpoint at /content/drive/MyDrive/my_tf_model.\n",
            "If your task is similar to the task the model of the checkpoint was trained on, you can already use TFBertForSequenceClassification for predictions without further training.\n"
          ]
        }
      ]
    },
    {
      "cell_type": "markdown",
      "source": [
        "##Output of SA"
      ],
      "metadata": {
        "id": "Mu21rmcHPJ6_"
      }
    },
    {
      "cell_type": "code",
      "source": [
        "from transformers import pipeline\n",
        "# Load pre-trained FinBERT model for sentiment analysis\n",
        "sentiment_analyzer = pipeline(\"sentiment-analysis\", model=model, tokenizer=tokenizer)\n",
        "\n",
        "# Analyze sentiment of the processed headlines\n",
        "sentiment_scores = sentiment_analyzer(processed_headlines)\n",
        "\n",
        "# Display sentiment of each headline\n",
        "for original, processed, sentiment in zip(headlines[:7], processed_headlines[:7], sentiment_scores[:7]):\n",
        "    print(f\"Original Headline: {original}\")\n",
        "    print(f\"Processed Headline: {processed}\")\n",
        "    print(f\"Sentiment: {sentiment}\")\n",
        "    print('-' * 80)\n",
        "\n",
        "# Convert sentiment scores to a format we can use\n",
        "# Example mapping: positive -> 1, neutral -> 0, negative -> -1\n",
        "sentiment_labels = [1 if s['label'] == 'positive' else -1 if s['label'] == 'negative' else 0 for s in sentiment_scores]\n",
        "\n",
        "#sentiment_scores_values = [s['score'] for s in sentiment_scores]\n",
        "sentiment_df = pd.DataFrame({'Date': dates, 'Sentiment': sentiment_labels})\n",
        "sentiment_df = sentiment_df.groupby('Date').mean().reset_index()\n",
        "\n",
        "# Display the first few rows of the sentiment DataFrame\n",
        "print(sentiment_df.head())\n"
      ],
      "metadata": {
        "colab": {
          "base_uri": "https://localhost:8080/"
        },
        "id": "ZxihEtyq0Ou4",
        "outputId": "57e2bd26-6f3c-4933-898c-663bd3ef38d1"
      },
      "execution_count": null,
      "outputs": [
        {
          "output_type": "stream",
          "name": "stderr",
          "text": [
            "Device set to use 0\n"
          ]
        },
        {
          "output_type": "stream",
          "name": "stdout",
          "text": [
            "Original Headline: Why Google could help Alphabet win the AI race\n",
            "Processed Headline: google could help alphabet win ai race\n",
            "Sentiment: {'label': 'Positive', 'score': 0.7182533144950867}\n",
            "--------------------------------------------------------------------------------\n",
            "Original Headline: Alphabet (GOOG) Fell Along with Peers\n",
            "Processed Headline: alphabet goog fell along peers\n",
            "Sentiment: {'label': 'Positive', 'score': 0.8335282206535339}\n",
            "--------------------------------------------------------------------------------\n",
            "Original Headline: Alphabet: Buy More The Best AI Play At A Reasonable Valuation\n",
            "Processed Headline: alphabet buy best ai play reasonable valuation\n",
            "Sentiment: {'label': 'Positive', 'score': 0.7350632548332214}\n",
            "--------------------------------------------------------------------------------\n",
            "Original Headline: Two Prominent Investors Are Bearish on Alphabet Inc. (GOOG) Stock\n",
            "Processed Headline: two prominent investors bearish alphabet inc goog stock\n",
            "Sentiment: {'label': 'Positive', 'score': 0.9606278538703918}\n",
            "--------------------------------------------------------------------------------\n",
            "Original Headline: KeyBanc Keeps an Overweight Rating on Alphabet Inc. (GOOG)\n",
            "Processed Headline: keybanc keeps overweight rating alphabet inc goog\n",
            "Sentiment: {'label': 'Negative', 'score': 0.8649776577949524}\n",
            "--------------------------------------------------------------------------------\n",
            "Original Headline: Well-Known Tech Analyst Suggests That He’s Somewhat Worried About AAPL’s Outlook\n",
            "Processed Headline: wellknown tech analyst suggests hes somewhat worried aapls outlook\n",
            "Sentiment: {'label': 'Neutral', 'score': 0.5063236355781555}\n",
            "--------------------------------------------------------------------------------\n",
            "Original Headline: Alphabet (GOOG) Stock Rated ‘Buy’ as Chrome Gains on Safari\n",
            "Processed Headline: alphabet goog stock rated buy chrome gains safari\n",
            "Sentiment: {'label': 'Positive', 'score': 0.7830286622047424}\n",
            "--------------------------------------------------------------------------------\n",
            "Original Headline: Evercore Unfazed: $205 Target Reaffirmed Despite GOOG Underperformance\n",
            "Processed Headline: evercore unfazed target reaffirmed despite goog underperformance\n",
            "Sentiment: {'label': 'Positive', 'score': 0.9571978449821472}\n",
            "--------------------------------------------------------------------------------\n",
            "Original Headline: Down 12% This Year, Should You Buy Alphabet Stock?\n",
            "Processed Headline: year buy alphabet stock\n",
            "Sentiment: {'label': 'Positive', 'score': 0.8282867074012756}\n",
            "--------------------------------------------------------------------------------\n",
            "Original Headline: Why Alphabet Inc. (GOOG) Nosedived on Wednesday\n",
            "Processed Headline: alphabet inc goog nosedived wednesday\n",
            "Sentiment: {'label': 'Positive', 'score': 0.9969161748886108}\n",
            "--------------------------------------------------------------------------------\n",
            "Original Headline: What Makes Alphabet (GOOG) in The Detractors’ List of The London Company Large Cap Strategy?\n",
            "Processed Headline: makes alphabet goog detractors list london company large cap strategy\n",
            "Sentiment: {'label': 'Positive', 'score': 0.9932141304016113}\n",
            "--------------------------------------------------------------------------------\n",
            "Original Headline: Well-Known Investor Is Leaning Towards Holding Alphabet Inc. (GOOG) Stock\n",
            "Processed Headline: wellknown investor leaning towards holding alphabet inc goog stock\n",
            "Sentiment: {'label': 'Positive', 'score': 0.9721936583518982}\n",
            "--------------------------------------------------------------------------------\n",
            "Original Headline: Alphabet Inc. (GOOG): Among Advertising & Media Stocks That Could Tank If Recession Hits\n",
            "Processed Headline: alphabet inc goog among advertising media stocks could tank recession hits\n",
            "Sentiment: {'label': 'Positive', 'score': 0.6860246658325195}\n",
            "--------------------------------------------------------------------------------\n",
            "Original Headline: Alphabet (GOOG) Provides “Growth at a Superb Price,” Well-Known Investor Says\n",
            "Processed Headline: alphabet goog provides growth superb price wellknown investor says\n",
            "Sentiment: {'label': 'Positive', 'score': 0.6775750517845154}\n",
            "--------------------------------------------------------------------------------\n",
            "Original Headline: Veteran Investor Remains Bullish on Alphabet Inc (GOOG) Despite AI Threat\n",
            "Processed Headline: veteran investor remains bullish alphabet inc goog despite ai threat\n",
            "Sentiment: {'label': 'Negative', 'score': 0.698959231376648}\n",
            "--------------------------------------------------------------------------------\n",
            "Original Headline: Here’s Why Alphabet (GOOG) is on Detractors’ List of Loomis Sayles Global Growth Fund\n",
            "Processed Headline: heres alphabet goog detractors list loomis sayles global growth fund\n",
            "Sentiment: {'label': 'Positive', 'score': 0.9973989725112915}\n",
            "--------------------------------------------------------------------------------\n",
            "Original Headline: Investment Bank Suggests That Alphabet (GOOG)’s Valuation Could Climb Significantly\n",
            "Processed Headline: investment bank suggests alphabet googs valuation could climb significantly\n",
            "Sentiment: {'label': 'Negative', 'score': 0.9584172964096069}\n",
            "--------------------------------------------------------------------------------\n",
            "Original Headline: Alphabet (GOOG) Has Multiple, Positive Catalysts, Stock Researcher Says\n",
            "Processed Headline: alphabet goog multiple positive catalysts stock researcher says\n",
            "Sentiment: {'label': 'Negative', 'score': 0.5635328888893127}\n",
            "--------------------------------------------------------------------------------\n",
            "Original Headline: Alphabet (GOOG): Weitz Multi-Cap Equity Fund’s Top Q1 Detractor\n",
            "Processed Headline: alphabet goog weitz multicap equity funds top q detractor\n",
            "Sentiment: {'label': 'Positive', 'score': 0.9979087114334106}\n",
            "--------------------------------------------------------------------------------\n",
            "Original Headline: Toyota, Waymo to collaborate over autonomous driving technologies\n",
            "Processed Headline: toyota waymo collaborate autonomous driving technologies\n",
            "Sentiment: {'label': 'Positive', 'score': 0.9411041140556335}\n",
            "--------------------------------------------------------------------------------\n",
            "Original Headline: Will AI Really Disrupt Google’s Search Empire?\n",
            "Processed Headline: ai really disrupt googles search empire\n",
            "Sentiment: {'label': 'Positive', 'score': 0.6774651408195496}\n",
            "--------------------------------------------------------------------------------\n",
            "Original Headline: Alphabet Inc. (GOOG)’s AI Ad Strategy Expands Reach – But Analyst Keeps Neutral Stance\n",
            "Processed Headline: alphabet inc googs ai ad strategy expands reach analyst keeps neutral stance\n",
            "Sentiment: {'label': 'Negative', 'score': 0.6107687950134277}\n",
            "--------------------------------------------------------------------------------\n",
            "Original Headline: Analyst Says Alphabet (GOOG) Stock Among ‘Cheapest’ Ways to Gain AI Exposure\n",
            "Processed Headline: analyst says alphabet goog stock among cheapest ways gain ai exposure\n",
            "Sentiment: {'label': 'Positive', 'score': 0.5739639401435852}\n",
            "--------------------------------------------------------------------------------\n",
            "Original Headline: Google has cut about 200 staff in global business unit: The Information\n",
            "Processed Headline: google cut staff global business unit information\n",
            "Sentiment: {'label': 'Neutral', 'score': 0.7511820793151855}\n",
            "--------------------------------------------------------------------------------\n",
            "Original Headline: Why D-Wave Quantum Stock Is Skyrocketing Thursday\n",
            "Processed Headline: dwave quantum stock skyrocketing thursday\n",
            "Sentiment: {'label': 'Positive', 'score': 0.997347354888916}\n",
            "--------------------------------------------------------------------------------\n",
            "Original Headline: Citi Remains Bullish on Alphabet (GOOG), Citing Personalization Efforts, Valuation\n",
            "Processed Headline: citi remains bullish alphabet goog citing personalization efforts valuation\n",
            "Sentiment: {'label': 'Negative', 'score': 0.7434919476509094}\n",
            "--------------------------------------------------------------------------------\n",
            "Original Headline: Why earnings estimates are a key market risk\n",
            "Processed Headline: earnings estimates key market risk\n",
            "Sentiment: {'label': 'Positive', 'score': 0.9741344451904297}\n",
            "--------------------------------------------------------------------------------\n",
            "Original Headline: Nvidia stock pops as revenue tops forecasts, China sales impacts smaller than Wall Street feared\n",
            "Processed Headline: nvidia stock pops revenue tops forecasts china sales impacts smaller wall street feared\n",
            "Sentiment: {'label': 'Positive', 'score': 0.8395317792892456}\n",
            "--------------------------------------------------------------------------------\n",
            "Original Headline: Stock market today: Dow gains 1,000 points, while S&P 500, Nasdaq surge as US-China deal spurs a rush into stocks\n",
            "Processed Headline: stock market today dow gains points sp nasdaq surge uschina deal spurs rush stocks\n",
            "Sentiment: {'label': 'Positive', 'score': 0.764824390411377}\n",
            "--------------------------------------------------------------------------------\n",
            "Original Headline: Meta Platforms (META) Stock Has “Definitely Been Derisked,” Prominent Investor Says\n",
            "Processed Headline: meta platforms meta stock definitely derisked prominent investor says\n",
            "Sentiment: {'label': 'Positive', 'score': 0.988827109336853}\n",
            "--------------------------------------------------------------------------------\n",
            "Original Headline: Why Nvidia’s rise could signal bad news for climate goals\n",
            "Processed Headline: nvidias rise could signal bad news climate goals\n",
            "Sentiment: {'label': 'Neutral', 'score': 0.5386878848075867}\n",
            "--------------------------------------------------------------------------------\n",
            "Original Headline: Apple Inc (AAPL), Alphabet Inc (GOOG) Have to Prove Themselves, CNBC Reporter Says\n",
            "Processed Headline: apple inc aapl alphabet inc goog prove cnbc reporter says\n",
            "Sentiment: {'label': 'Positive', 'score': 0.998023271560669}\n",
            "--------------------------------------------------------------------------------\n",
            "Original Headline: Veteran Investor Trims Alphabet Inc. (GOOG) Stake, Predicts GOOGL’s Ad Revenue Will Fall\n",
            "Processed Headline: veteran investor trims alphabet inc goog stake predicts googls ad revenue fall\n",
            "Sentiment: {'label': 'Positive', 'score': 0.6991773843765259}\n",
            "--------------------------------------------------------------------------------\n",
            "Original Headline: Nvidia (NVDA) CEO Says AI Will Reshape Every Job\n",
            "Processed Headline: nvidia nvda ceo says ai reshape every job\n",
            "Sentiment: {'label': 'Positive', 'score': 0.96976637840271}\n",
            "--------------------------------------------------------------------------------\n",
            "Original Headline: Alphabet Inc. (GOOG) Carrying Out “Proactive Disruption of Search,” Schwab Anchor Says\n",
            "Processed Headline: alphabet inc goog carrying proactive disruption search schwab anchor says\n",
            "Sentiment: {'label': 'Positive', 'score': 0.963720440864563}\n",
            "--------------------------------------------------------------------------------\n",
            "Original Headline: AI Is Helping Alphabet (GOOG)’s Customers, According to an Investment Bank\n",
            "Processed Headline: ai helping alphabet googs customers according investment bank\n",
            "Sentiment: {'label': 'Positive', 'score': 0.9350430965423584}\n",
            "--------------------------------------------------------------------------------\n",
            "Original Headline: Recessions Signs Rise; Moody’s Turns The Bond Market Blue\n",
            "Processed Headline: recessions signs rise moodys turns bond market blue\n",
            "Sentiment: {'label': 'Positive', 'score': 0.9394164085388184}\n",
            "--------------------------------------------------------------------------------\n",
            "Original Headline: Trump's FTC antitrust cops just got a loud warning about blocking tech tie-ups\n",
            "Processed Headline: trumps ftc antitrust cops got loud warning blocking tech tieups\n",
            "Sentiment: {'label': 'Positive', 'score': 0.7580686211585999}\n",
            "--------------------------------------------------------------------------------\n",
            "Original Headline: 3 things Nvidia investors should look out for in its earnings call\n",
            "Processed Headline: things nvidia investors look earnings call\n",
            "Sentiment: {'label': 'Positive', 'score': 0.9986528158187866}\n",
            "--------------------------------------------------------------------------------\n",
            "Original Headline: Why Alphabet Inc. (GOOG) is Among the Best Augmented Reality Stocks to Buy According to Hedge Funds\n",
            "Processed Headline: alphabet inc goog among best augmented reality stocks buy according hedge funds\n",
            "Sentiment: {'label': 'Positive', 'score': 0.9006268978118896}\n",
            "--------------------------------------------------------------------------------\n",
            "Original Headline: Why Apple Might Let Go Of Its Easiest $20 Billion\n",
            "Processed Headline: apple might let go easiest billion\n",
            "Sentiment: {'label': 'Positive', 'score': 0.9910556077957153}\n",
            "--------------------------------------------------------------------------------\n",
            "Original Headline: Investors Are Betting On FemTech’s Untapped $103 Billion Market\n",
            "Processed Headline: investors betting femtechs untapped billion market\n",
            "Sentiment: {'label': 'Positive', 'score': 0.9871118664741516}\n",
            "--------------------------------------------------------------------------------\n",
            "Original Headline: Mag 7 rally, airline & pharmaceutical stocks: Trending Tickers\n",
            "Processed Headline: mag rally airline pharmaceutical stocks trending tickers\n",
            "Sentiment: {'label': 'Positive', 'score': 0.9303217530250549}\n",
            "--------------------------------------------------------------------------------\n",
            "Original Headline: EPAM, CDW, Cognex, DXC, and NetApp Shares Skyrocket, What You Need To Know\n",
            "Processed Headline: epam cdw cognex dxc netapp shares skyrocket need know\n",
            "Sentiment: {'label': 'Positive', 'score': 0.9921286106109619}\n",
            "--------------------------------------------------------------------------------\n",
            "Original Headline: Lattice Semiconductor (LSCC) Q1 Earnings Report Preview: What To Look For\n",
            "Processed Headline: lattice semiconductor lscc q earnings report preview look\n",
            "Sentiment: {'label': 'Positive', 'score': 0.9487038254737854}\n",
            "--------------------------------------------------------------------------------\n",
            "Original Headline: Nuclear stocks extend rally as Trump aims to quadruple US nuclear capacity by 2050\n",
            "Processed Headline: nuclear stocks extend rally trump aims quadruple us nuclear capacity\n",
            "Sentiment: {'label': 'Positive', 'score': 0.8148438334465027}\n",
            "--------------------------------------------------------------------------------\n",
            "Original Headline: Stock market today: Dow gains 900 points, while S&P 500, Nasdaq surge as US-China deal spurs a rush into stocks\n",
            "Processed Headline: stock market today dow gains points sp nasdaq surge uschina deal spurs rush stocks\n",
            "Sentiment: {'label': 'Positive', 'score': 0.764824390411377}\n",
            "--------------------------------------------------------------------------------\n",
            "Original Headline: Google’s $1 Trillion Problem: Stock To Crash 40%?\n",
            "Processed Headline: googles trillion problem stock crash\n",
            "Sentiment: {'label': 'Positive', 'score': 0.7773638367652893}\n",
            "--------------------------------------------------------------------------------\n",
            "Original Headline: UNH Stock Vs. CVS Stock\n",
            "Processed Headline: unh stock vs cvs stock\n",
            "Sentiment: {'label': 'Positive', 'score': 0.9908363819122314}\n",
            "--------------------------------------------------------------------------------\n",
            "Original Headline: 'The Models Are Getting Better, But They're Also More Likely To Be Good At Bad Stuff,' Tech Experts Sound The Alarm As AI Charges On\n",
            "Processed Headline: models getting better theyre also likely good bad stuff tech experts sound alarm ai charges\n",
            "Sentiment: {'label': 'Positive', 'score': 0.6918790936470032}\n",
            "--------------------------------------------------------------------------------\n",
            "Original Headline: Why Goldman Remains Bullish on Apple (AAPL)\n",
            "Processed Headline: goldman remains bullish apple aapl\n",
            "Sentiment: {'label': 'Negative', 'score': 0.8349959254264832}\n",
            "--------------------------------------------------------------------------------\n",
            "Original Headline: Salesforce Says AI Has Reduced Hiring of Engineers and Customer Service Workers\n",
            "Processed Headline: salesforce says ai reduced hiring engineers customer service workers\n",
            "Sentiment: {'label': 'Neutral', 'score': 0.7528229355812073}\n",
            "--------------------------------------------------------------------------------\n",
            "Original Headline: Well-Known Investor Defends Alphabet Inc. (GOOGL) Stock\n",
            "Processed Headline: wellknown investor defends alphabet inc googl stock\n",
            "Sentiment: {'label': 'Positive', 'score': 0.9847412705421448}\n",
            "--------------------------------------------------------------------------------\n",
            "Original Headline: Big Tech Stocks Have Had a Magnificent Day So Far\n",
            "Processed Headline: big tech stocks magnificent day far\n",
            "Sentiment: {'label': 'Positive', 'score': 0.9554914236068726}\n",
            "--------------------------------------------------------------------------------\n",
            "Original Headline: JPMorgan Hikes Its Price Target on UBER Stock, Citing Autonomous-Vehicle Catalysts\n",
            "Processed Headline: jpmorgan hikes price target uber stock citing autonomousvehicle catalysts\n",
            "Sentiment: {'label': 'Positive', 'score': 0.573926568031311}\n",
            "--------------------------------------------------------------------------------\n",
            "Original Headline: Amazon, Meta lead 'Magnificent Seven' stock surge on temporary US-China trade truce\n",
            "Processed Headline: amazon meta lead magnificent seven stock surge temporary uschina trade truce\n",
            "Sentiment: {'label': 'Positive', 'score': 0.6331167817115784}\n",
            "--------------------------------------------------------------------------------\n",
            "Original Headline: Nvidia CEO Jensen Huang on AI: Every job will be affected, some will be lost\n",
            "Processed Headline: nvidia ceo jensen huang ai every job affected lost\n",
            "Sentiment: {'label': 'Positive', 'score': 0.755409836769104}\n",
            "--------------------------------------------------------------------------------\n",
            "Original Headline: Veteran Investor Trims Alphabet Inc. (GOOG) Stake, Predicts GOOGL’s Ad Revenue Will Fall\n",
            "Processed Headline: veteran investor trims alphabet inc goog stake predicts googls ad revenue fall\n",
            "Sentiment: {'label': 'Positive', 'score': 0.6991773843765259}\n",
            "--------------------------------------------------------------------------------\n",
            "Original Headline: Nvidia's bear case: Is the hype train running out of tracks?\n",
            "Processed Headline: nvidias bear case hype train running tracks\n",
            "Sentiment: {'label': 'Positive', 'score': 0.9946702122688293}\n",
            "--------------------------------------------------------------------------------\n",
            "Original Headline: Two Prominent Investors Are Bearish on Alphabet Inc. (GOOG) Stock\n",
            "Processed Headline: two prominent investors bearish alphabet inc goog stock\n",
            "Sentiment: {'label': 'Positive', 'score': 0.9606278538703918}\n",
            "--------------------------------------------------------------------------------\n",
            "Original Headline: Alphabet (NASDAQ: GOOG) Stock Price Up 2.34% Today (Live Coverage)\n",
            "Processed Headline: alphabet nasdaq goog stock price today live coverage\n",
            "Sentiment: {'label': 'Positive', 'score': 0.998805046081543}\n",
            "--------------------------------------------------------------------------------\n",
            "Original Headline: and Alphabet (GOOG) Are The Cheapest Trillion-Dollar Stocks Today\n",
            "Processed Headline: alphabet goog cheapest trilliondollar stocks today\n",
            "Sentiment: {'label': 'Positive', 'score': 0.9786051511764526}\n",
            "--------------------------------------------------------------------------------\n",
            "Original Headline: Tech Researcher Says That Apple Inc (AAPL) Is Well-Positioned, Stock Is a Buy\n",
            "Processed Headline: tech researcher says apple inc aapl wellpositioned stock buy\n",
            "Sentiment: {'label': 'Negative', 'score': 0.6718860268592834}\n",
            "--------------------------------------------------------------------------------\n",
            "Original Headline: Tesla, Amazon stocks lead ‘Magnificent Seven’ surge after US-China temporary trade truce\n",
            "Processed Headline: tesla amazon stocks lead magnificent seven surge uschina temporary trade truce\n",
            "Sentiment: {'label': 'Positive', 'score': 0.69638991355896}\n",
            "--------------------------------------------------------------------------------\n",
            "Original Headline: Citi Remains Bullish on Alphabet (GOOG), Citing Personalization Efforts, Valuation\n",
            "Processed Headline: citi remains bullish alphabet goog citing personalization efforts valuation\n",
            "Sentiment: {'label': 'Negative', 'score': 0.7434919476509094}\n",
            "--------------------------------------------------------------------------------\n",
            "Original Headline: Elon Musk leaves DOGE as job was ‘uphill battle’\n",
            "Processed Headline: elon musk leaves doge job uphill battle\n",
            "Sentiment: {'label': 'Positive', 'score': 0.7897078990936279}\n",
            "--------------------------------------------------------------------------------\n",
            "Original Headline: Avis Budget Group (NASDAQ:CAR) Misses Q1 Sales Targets\n",
            "Processed Headline: avis budget group nasdaqcar misses q sales targets\n",
            "Sentiment: {'label': 'Neutral', 'score': 0.6630614995956421}\n",
            "--------------------------------------------------------------------------------\n",
            "Original Headline: Google CEO warns judge a breakup of search empire 'will have many unintended consequences'\n",
            "Processed Headline: google ceo warns judge breakup search empire many unintended consequences\n",
            "Sentiment: {'label': 'Positive', 'score': 0.5785554051399231}\n",
            "--------------------------------------------------------------------------------\n",
            "Original Headline: Trade deals in focus amid stock market rebound: What to know this week\n",
            "Processed Headline: trade deals focus amid stock market rebound know week\n",
            "Sentiment: {'label': 'Positive', 'score': 0.9543618559837341}\n",
            "--------------------------------------------------------------------------------\n",
            "Original Headline: J&J Snack Foods (NASDAQ:JJSF) Reports Sales Below Analyst Estimates In Q1 Earnings, Stock Drops\n",
            "Processed Headline: jj snack foods nasdaqjjsf reports sales analyst estimates q earnings stock drops\n",
            "Sentiment: {'label': 'Positive', 'score': 0.9972207546234131}\n",
            "--------------------------------------------------------------------------------\n",
            "Original Headline: Robinhood’s (NASDAQ:HOOD) Q1 Sales Beat Estimates\n",
            "Processed Headline: robinhoods nasdaqhood q sales beat estimates\n",
            "Sentiment: {'label': 'Negative', 'score': 0.955329418182373}\n",
            "--------------------------------------------------------------------------------\n",
            "Original Headline: Pangaea (NASDAQ:PANL) Reports Sales Below Analyst Estimates In Q1 Earnings\n",
            "Processed Headline: pangaea nasdaqpanl reports sales analyst estimates q earnings\n",
            "Sentiment: {'label': 'Positive', 'score': 0.9989333748817444}\n",
            "--------------------------------------------------------------------------------\n",
            "Original Headline: Intel debuts AI GPUs for workstation system as it works to gain ground on Nvidia, AMD\n",
            "Processed Headline: intel debuts ai gpus workstation system works gain ground nvidia amd\n",
            "Sentiment: {'label': 'Positive', 'score': 0.8517289161682129}\n",
            "--------------------------------------------------------------------------------\n",
            "Original Headline: Google announces smart glasses partnerships as it takes on Meta, Apple preps its own eyewear\n",
            "Processed Headline: google announces smart glasses partnerships takes meta apple preps eyewear\n",
            "Sentiment: {'label': 'Positive', 'score': 0.9189848899841309}\n",
            "--------------------------------------------------------------------------------\n",
            "Original Headline: Here’s Why Alphabet (GOOG) is on Detractors’ List of Loomis Sayles Global Growth Fund\n",
            "Processed Headline: heres alphabet goog detractors list loomis sayles global growth fund\n",
            "Sentiment: {'label': 'Positive', 'score': 0.9973989725112915}\n",
            "--------------------------------------------------------------------------------\n",
            "Original Headline: Mixed options sentiment in Alphabet (GOOG), with shares down $-1.33 (-0.85%) near $154.42.\n",
            "Processed Headline: mixed options sentiment alphabet goog shares near\n",
            "Sentiment: {'label': 'Positive', 'score': 0.8378908634185791}\n",
            "--------------------------------------------------------------------------------\n",
            "Original Headline: Analyst Says Alphabet (GOOG) Stock Among ‘Cheapest’ Ways to Gain AI Exposure\n",
            "Processed Headline: analyst says alphabet goog stock among cheapest ways gain ai exposure\n",
            "Sentiment: {'label': 'Positive', 'score': 0.5739639401435852}\n",
            "--------------------------------------------------------------------------------\n",
            "Original Headline: Veteran Investor Remains Bullish on Alphabet Inc (GOOG) Despite AI Threat\n",
            "Processed Headline: veteran investor remains bullish alphabet inc goog despite ai threat\n",
            "Sentiment: {'label': 'Negative', 'score': 0.698959231376648}\n",
            "--------------------------------------------------------------------------------\n",
            "Original Headline: How students at Roaring Kitty’s high school became top stock pickers\n",
            "Processed Headline: students roaring kittys high school became top stock pickers\n",
            "Sentiment: {'label': 'Positive', 'score': 0.9550790190696716}\n",
            "--------------------------------------------------------------------------------\n",
            "Original Headline: Well-Known Investor Is Leaning Towards Holding Alphabet Inc. (GOOG) Stock\n",
            "Processed Headline: wellknown investor leaning towards holding alphabet inc goog stock\n",
            "Sentiment: {'label': 'Positive', 'score': 0.9721936583518982}\n",
            "--------------------------------------------------------------------------------\n",
            "Original Headline: Investment Bank Suggests That Alphabet (GOOG)’s Valuation Could Climb Significantly\n",
            "Processed Headline: investment bank suggests alphabet googs valuation could climb significantly\n",
            "Sentiment: {'label': 'Negative', 'score': 0.9584172964096069}\n",
            "--------------------------------------------------------------------------------\n",
            "Original Headline: Hedge Funds Scooped Up GOOG, META and AMZN in Recent Months\n",
            "Processed Headline: hedge funds scooped goog meta amzn recent months\n",
            "Sentiment: {'label': 'Positive', 'score': 0.9975491166114807}\n",
            "--------------------------------------------------------------------------------\n",
            "Original Headline: Well-Known Tech Analyst Suggests That He’s Somewhat Worried About AAPL’s Outlook\n",
            "Processed Headline: wellknown tech analyst suggests hes somewhat worried aapls outlook\n",
            "Sentiment: {'label': 'Neutral', 'score': 0.5063236355781555}\n",
            "--------------------------------------------------------------------------------\n",
            "Original Headline: High-Quality Dividend Growth Stocks Near 52-Week Lows: Alphabet Is Astounding\n",
            "Processed Headline: highquality dividend growth stocks near week lows alphabet astounding\n",
            "Sentiment: {'label': 'Positive', 'score': 0.9508830904960632}\n",
            "--------------------------------------------------------------------------------\n",
            "Original Headline: A Once-in-a-Decade Opportunity: Here's Why I'm Buying Alphabet Stock Like There's No Tomorrow\n",
            "Processed Headline: onceinadecade opportunity heres im buying alphabet stock like theres tomorrow\n",
            "Sentiment: {'label': 'Positive', 'score': 0.9133666753768921}\n",
            "--------------------------------------------------------------------------------\n",
            "Original Headline: Alphabet stock rebounds, Wall Street analysts defend company after Apple's AI search plan triggers 7% sell-off\n",
            "Processed Headline: alphabet stock rebounds wall street analysts defend company apples ai search plan triggers selloff\n",
            "Sentiment: {'label': 'Positive', 'score': 0.9355325698852539}\n",
            "--------------------------------------------------------------------------------\n",
            "Original Headline: Has Multiple, Positive Catalysts, Stock Researcher Says\n",
            "Processed Headline: multiple positive catalysts stock researcher says\n",
            "Sentiment: {'label': 'Negative', 'score': 0.8521008491516113}\n",
            "--------------------------------------------------------------------------------\n",
            "Original Headline: Big tech stocks pare gains as uncertainty looms over Trump tariffs despite court ruling\n",
            "Processed Headline: big tech stocks pare gains uncertainty looms trump tariffs despite court ruling\n",
            "Sentiment: {'label': 'Positive', 'score': 0.9412602186203003}\n",
            "--------------------------------------------------------------------------------\n",
            "Original Headline: Trump’s new tax bill contains ‘sledgehammer’ to hit back against foreign digital taxes\n",
            "Processed Headline: trumps new tax bill contains sledgehammer hit back foreign digital taxes\n",
            "Sentiment: {'label': 'Positive', 'score': 0.9702239632606506}\n",
            "--------------------------------------------------------------------------------\n",
            "Original Headline: TTD Q1: Upgrading My Price Target Amid Stellar Earnings\n",
            "Processed Headline: ttd q upgrading price target amid stellar earnings\n",
            "Sentiment: {'label': 'Negative', 'score': 0.7762458324432373}\n",
            "--------------------------------------------------------------------------------\n",
            "Original Headline: Amid Trump's Movie Tariffs, Google Launches '100 Zeros' To Influence Hollywood And Promote Tech Culture To Gen Z\n",
            "Processed Headline: amid trumps movie tariffs google launches zeros influence hollywood promote tech culture gen z\n",
            "Sentiment: {'label': 'Positive', 'score': 0.9862415790557861}\n",
            "--------------------------------------------------------------------------------\n",
            "Original Headline: Charles Schwab Alumnus Owns AMD, NVDA Stock\n",
            "Processed Headline: charles schwab alumnus owns amd nvda stock\n",
            "Sentiment: {'label': 'Positive', 'score': 0.9977439641952515}\n",
            "--------------------------------------------------------------------------------\n",
            "Original Headline: Is This the End for Alphabet Stock?\n",
            "Processed Headline: end alphabet stock\n",
            "Sentiment: {'label': 'Positive', 'score': 0.9979947805404663}\n",
            "--------------------------------------------------------------------------------\n",
            "Original Headline: Will Apple’s Blow Finish Google?\n",
            "Processed Headline: apples blow finish google\n",
            "Sentiment: {'label': 'Positive', 'score': 0.9831289649009705}\n",
            "--------------------------------------------------------------------------------\n",
            "Original Headline: Alphabet's Value Could Skyrocket To $3.7 Trillion With Google's 'Big Bang Breakup' Over 'Isolated Spin-Offs,' Says Analyst\n",
            "Processed Headline: alphabets value could skyrocket trillion googles big bang breakup isolated spinoffs says analyst\n",
            "Sentiment: {'label': 'Positive', 'score': 0.9962028861045837}\n",
            "--------------------------------------------------------------------------------\n",
            "Original Headline: Reddit stock slides as investors weigh Google Search traffic, user growth concerns\n",
            "Processed Headline: reddit stock slides investors weigh google search traffic user growth concerns\n",
            "Sentiment: {'label': 'Positive', 'score': 0.9156215786933899}\n",
            "--------------------------------------------------------------------------------\n",
            "Original Headline: Google needs 'big bang breakup' that would value its businesses at $3.7 trillion as AI threatens Search: Analyst\n",
            "Processed Headline: google needs big bang breakup would value businesses trillion ai threatens search analyst\n",
            "Sentiment: {'label': 'Positive', 'score': 0.985831618309021}\n",
            "--------------------------------------------------------------------------------\n",
            "Original Headline: Removed From Best Ideas List by Investment Bank\n",
            "Processed Headline: removed best ideas list investment bank\n",
            "Sentiment: {'label': 'Positive', 'score': 0.9871479868888855}\n",
            "--------------------------------------------------------------------------------\n",
            "Original Headline: Alphabet's Stock Just Did Something It Has Only Done 3 Other Times in History. Each Time the Stock Is at Least 47% Higher a Year Later\n",
            "Processed Headline: alphabets stock something done times history time stock least higher year later\n",
            "Sentiment: {'label': 'Positive', 'score': 0.9749945998191833}\n",
            "--------------------------------------------------------------------------------\n",
            "Original Headline: Do Strong Earnings Results and a Dividend Hike Make Alphabet a Growth Stock to Buy Right Now?\n",
            "Processed Headline: strong earnings results dividend hike make alphabet growth stock buy right\n",
            "Sentiment: {'label': 'Negative', 'score': 0.6989371180534363}\n",
            "--------------------------------------------------------------------------------\n",
            "        Date  Sentiment\n",
            "0 2025-04-30        0.0\n",
            "1 2025-05-01        0.0\n",
            "2 2025-05-02        0.0\n",
            "3 2025-05-04        0.0\n",
            "4 2025-05-05        0.0\n"
          ]
        }
      ]
    },
    {
      "cell_type": "markdown",
      "source": [
        "#Technical Analysis"
      ],
      "metadata": {
        "id": "TpBmPCkUMSRT"
      }
    },
    {
      "cell_type": "markdown",
      "source": [
        "##Dataset"
      ],
      "metadata": {
        "id": "9nh1JdBwOL9Q"
      }
    },
    {
      "cell_type": "code",
      "source": [
        "import yfinance as yf\n",
        "\n",
        "# Fetch historical stock data\n",
        "ticker = 'GOOG'\n",
        "stock_data = yf.download(ticker, start='2025-4-30', end='2025-5-30', interval='1d')\n",
        "\n",
        "# Prepare data for technical analysis (use 'Close' prices)\n",
        "stock_prices_df = stock_data[['Close']].dropna()  # Keep only 'Close' prices and remove any missing values\n",
        "\n",
        "# Convert 'Close' prices to a DataFrame with columns ['Date', 'Price']\n",
        "stock_prices_df.reset_index(inplace=True)\n",
        "stock_prices_df.rename(columns={'Close': 'Price'}, inplace=True)  # Rename 'Close' to 'Price'\n",
        "# Display the result\n",
        "print(stock_prices_df.tail())"
      ],
      "metadata": {
        "colab": {
          "base_uri": "https://localhost:8080/"
        },
        "id": "wagfweMs0dNZ",
        "outputId": "f3504743-005d-4dd9-b050-af2dd0156942"
      },
      "execution_count": null,
      "outputs": [
        {
          "output_type": "stream",
          "name": "stderr",
          "text": [
            "\r[*********************100%***********************]  1 of 1 completed"
          ]
        },
        {
          "output_type": "stream",
          "name": "stdout",
          "text": [
            "Price        Date       Price\n",
            "Ticker                   GOOG\n",
            "16     2025-05-08  155.750000\n",
            "17     2025-05-09  154.380005\n",
            "18     2025-05-12  159.580002\n",
            "19     2025-05-13  160.889999\n",
            "20     2025-05-14  166.809998\n"
          ]
        },
        {
          "output_type": "stream",
          "name": "stderr",
          "text": [
            "\n"
          ]
        }
      ]
    },
    {
      "cell_type": "markdown",
      "source": [
        "##Model Training"
      ],
      "metadata": {
        "id": "LfSwr9WLOEx6"
      }
    },
    {
      "cell_type": "code",
      "source": [
        "from pmdarima import auto_arima\n",
        "\n",
        "# Fit ARIMA model on stock prices\n",
        "arima_model = auto_arima(stock_prices_df['Price'], seasonal=False, trace=True, suppress_warnings=True)\n",
        "\n",
        "# Predict next day's stock price\n",
        "n_days = 1\n",
        "arima_forecast = arima_model.predict(n_periods=n_days)\n",
        "\n",
        "print(f\"ARIMA Prediction for next day: {arima_forecast}\")"
      ],
      "metadata": {
        "colab": {
          "base_uri": "https://localhost:8080/"
        },
        "id": "yZav8f-t0hW5",
        "outputId": "f8d14ffd-c35f-4cbe-fd25-a8496e147160"
      },
      "execution_count": null,
      "outputs": [
        {
          "output_type": "stream",
          "name": "stderr",
          "text": [
            "/usr/local/lib/python3.11/dist-packages/sklearn/utils/deprecation.py:151: FutureWarning: 'force_all_finite' was renamed to 'ensure_all_finite' in 1.6 and will be removed in 1.8.\n",
            "  warnings.warn(\n",
            "/usr/local/lib/python3.11/dist-packages/sklearn/utils/deprecation.py:151: FutureWarning: 'force_all_finite' was renamed to 'ensure_all_finite' in 1.6 and will be removed in 1.8.\n",
            "  warnings.warn(\n",
            "/usr/local/lib/python3.11/dist-packages/sklearn/utils/deprecation.py:151: FutureWarning: 'force_all_finite' was renamed to 'ensure_all_finite' in 1.6 and will be removed in 1.8.\n",
            "  warnings.warn(\n",
            "/usr/local/lib/python3.11/dist-packages/sklearn/utils/deprecation.py:151: FutureWarning: 'force_all_finite' was renamed to 'ensure_all_finite' in 1.6 and will be removed in 1.8.\n",
            "  warnings.warn(\n",
            "/usr/local/lib/python3.11/dist-packages/sklearn/utils/deprecation.py:151: FutureWarning: 'force_all_finite' was renamed to 'ensure_all_finite' in 1.6 and will be removed in 1.8.\n",
            "  warnings.warn(\n",
            "/usr/local/lib/python3.11/dist-packages/sklearn/utils/deprecation.py:151: FutureWarning: 'force_all_finite' was renamed to 'ensure_all_finite' in 1.6 and will be removed in 1.8.\n",
            "  warnings.warn(\n",
            "/usr/local/lib/python3.11/dist-packages/sklearn/utils/deprecation.py:151: FutureWarning: 'force_all_finite' was renamed to 'ensure_all_finite' in 1.6 and will be removed in 1.8.\n",
            "  warnings.warn(\n",
            "/usr/local/lib/python3.11/dist-packages/sklearn/utils/deprecation.py:151: FutureWarning: 'force_all_finite' was renamed to 'ensure_all_finite' in 1.6 and will be removed in 1.8.\n",
            "  warnings.warn(\n",
            "/usr/local/lib/python3.11/dist-packages/sklearn/utils/deprecation.py:151: FutureWarning: 'force_all_finite' was renamed to 'ensure_all_finite' in 1.6 and will be removed in 1.8.\n",
            "  warnings.warn(\n"
          ]
        },
        {
          "output_type": "stream",
          "name": "stdout",
          "text": [
            "Performing stepwise search to minimize aic\n",
            " ARIMA(2,0,2)(0,0,0)[0]             : AIC=131.436, Time=0.13 sec\n",
            " ARIMA(0,0,0)(0,0,0)[0]             : AIC=274.644, Time=0.01 sec\n",
            " ARIMA(1,0,0)(0,0,0)[0]             : AIC=inf, Time=0.05 sec\n",
            " ARIMA(0,0,1)(0,0,0)[0]             : AIC=inf, Time=0.03 sec\n",
            " ARIMA(1,0,2)(0,0,0)[0]             : AIC=130.852, Time=0.07 sec\n",
            " ARIMA(0,0,2)(0,0,0)[0]             : AIC=inf, Time=0.07 sec\n"
          ]
        },
        {
          "output_type": "stream",
          "name": "stderr",
          "text": [
            "/usr/local/lib/python3.11/dist-packages/sklearn/utils/deprecation.py:151: FutureWarning: 'force_all_finite' was renamed to 'ensure_all_finite' in 1.6 and will be removed in 1.8.\n",
            "  warnings.warn(\n",
            "/usr/local/lib/python3.11/dist-packages/sklearn/utils/deprecation.py:151: FutureWarning: 'force_all_finite' was renamed to 'ensure_all_finite' in 1.6 and will be removed in 1.8.\n",
            "  warnings.warn(\n",
            "/usr/local/lib/python3.11/dist-packages/sklearn/utils/deprecation.py:151: FutureWarning: 'force_all_finite' was renamed to 'ensure_all_finite' in 1.6 and will be removed in 1.8.\n",
            "  warnings.warn(\n"
          ]
        },
        {
          "output_type": "stream",
          "name": "stdout",
          "text": [
            " ARIMA(1,0,1)(0,0,0)[0]             : AIC=131.358, Time=0.06 sec\n",
            " ARIMA(1,0,3)(0,0,0)[0]             : AIC=129.693, Time=0.12 sec\n"
          ]
        },
        {
          "output_type": "stream",
          "name": "stderr",
          "text": [
            "/usr/local/lib/python3.11/dist-packages/sklearn/utils/deprecation.py:151: FutureWarning: 'force_all_finite' was renamed to 'ensure_all_finite' in 1.6 and will be removed in 1.8.\n",
            "  warnings.warn(\n",
            "/usr/local/lib/python3.11/dist-packages/sklearn/utils/deprecation.py:151: FutureWarning: 'force_all_finite' was renamed to 'ensure_all_finite' in 1.6 and will be removed in 1.8.\n",
            "  warnings.warn(\n"
          ]
        },
        {
          "output_type": "stream",
          "name": "stdout",
          "text": [
            " ARIMA(0,0,3)(0,0,0)[0]             : AIC=inf, Time=0.27 sec\n"
          ]
        },
        {
          "output_type": "stream",
          "name": "stderr",
          "text": [
            "/usr/local/lib/python3.11/dist-packages/sklearn/utils/deprecation.py:151: FutureWarning: 'force_all_finite' was renamed to 'ensure_all_finite' in 1.6 and will be removed in 1.8.\n",
            "  warnings.warn(\n"
          ]
        },
        {
          "output_type": "stream",
          "name": "stdout",
          "text": [
            " ARIMA(2,0,3)(0,0,0)[0]             : AIC=131.847, Time=0.45 sec\n"
          ]
        },
        {
          "output_type": "stream",
          "name": "stderr",
          "text": [
            "/usr/local/lib/python3.11/dist-packages/sklearn/utils/deprecation.py:151: FutureWarning: 'force_all_finite' was renamed to 'ensure_all_finite' in 1.6 and will be removed in 1.8.\n",
            "  warnings.warn(\n"
          ]
        },
        {
          "output_type": "stream",
          "name": "stdout",
          "text": [
            " ARIMA(1,0,4)(0,0,0)[0]             : AIC=131.521, Time=1.21 sec\n"
          ]
        },
        {
          "output_type": "stream",
          "name": "stderr",
          "text": [
            "/usr/local/lib/python3.11/dist-packages/sklearn/utils/deprecation.py:151: FutureWarning: 'force_all_finite' was renamed to 'ensure_all_finite' in 1.6 and will be removed in 1.8.\n",
            "  warnings.warn(\n"
          ]
        },
        {
          "output_type": "stream",
          "name": "stdout",
          "text": [
            " ARIMA(0,0,4)(0,0,0)[0]             : AIC=inf, Time=0.57 sec\n"
          ]
        },
        {
          "output_type": "stream",
          "name": "stderr",
          "text": [
            "/usr/local/lib/python3.11/dist-packages/sklearn/utils/deprecation.py:151: FutureWarning: 'force_all_finite' was renamed to 'ensure_all_finite' in 1.6 and will be removed in 1.8.\n",
            "  warnings.warn(\n"
          ]
        },
        {
          "output_type": "stream",
          "name": "stdout",
          "text": [
            " ARIMA(2,0,4)(0,0,0)[0]             : AIC=133.421, Time=1.58 sec\n"
          ]
        },
        {
          "output_type": "stream",
          "name": "stderr",
          "text": [
            "/usr/local/lib/python3.11/dist-packages/sklearn/utils/deprecation.py:151: FutureWarning: 'force_all_finite' was renamed to 'ensure_all_finite' in 1.6 and will be removed in 1.8.\n",
            "  warnings.warn(\n"
          ]
        },
        {
          "output_type": "stream",
          "name": "stdout",
          "text": [
            " ARIMA(1,0,3)(0,0,0)[0] intercept   : AIC=121.629, Time=0.58 sec\n",
            " ARIMA(0,0,3)(0,0,0)[0] intercept   : AIC=119.660, Time=0.20 sec\n"
          ]
        },
        {
          "output_type": "stream",
          "name": "stderr",
          "text": [
            "/usr/local/lib/python3.11/dist-packages/sklearn/utils/deprecation.py:151: FutureWarning: 'force_all_finite' was renamed to 'ensure_all_finite' in 1.6 and will be removed in 1.8.\n",
            "  warnings.warn(\n",
            "/usr/local/lib/python3.11/dist-packages/sklearn/utils/deprecation.py:151: FutureWarning: 'force_all_finite' was renamed to 'ensure_all_finite' in 1.6 and will be removed in 1.8.\n",
            "  warnings.warn(\n"
          ]
        },
        {
          "output_type": "stream",
          "name": "stdout",
          "text": [
            " ARIMA(0,0,2)(0,0,0)[0] intercept   : AIC=117.764, Time=0.04 sec\n",
            " ARIMA(0,0,1)(0,0,0)[0] intercept   : AIC=124.239, Time=0.03 sec\n",
            " ARIMA(1,0,2)(0,0,0)[0] intercept   : AIC=119.547, Time=0.12 sec\n"
          ]
        },
        {
          "output_type": "stream",
          "name": "stderr",
          "text": [
            "/usr/local/lib/python3.11/dist-packages/sklearn/utils/deprecation.py:151: FutureWarning: 'force_all_finite' was renamed to 'ensure_all_finite' in 1.6 and will be removed in 1.8.\n",
            "  warnings.warn(\n",
            "/usr/local/lib/python3.11/dist-packages/sklearn/utils/deprecation.py:151: FutureWarning: 'force_all_finite' was renamed to 'ensure_all_finite' in 1.6 and will be removed in 1.8.\n",
            "  warnings.warn(\n",
            "/usr/local/lib/python3.11/dist-packages/sklearn/utils/deprecation.py:151: FutureWarning: 'force_all_finite' was renamed to 'ensure_all_finite' in 1.6 and will be removed in 1.8.\n",
            "  warnings.warn(\n"
          ]
        },
        {
          "output_type": "stream",
          "name": "stdout",
          "text": [
            " ARIMA(1,0,1)(0,0,0)[0] intercept   : AIC=122.158, Time=0.07 sec\n",
            "\n",
            "Best model:  ARIMA(0,0,2)(0,0,0)[0] intercept\n",
            "Total fit time: 5.669 seconds\n",
            "ARIMA Prediction for next day: 21    165.906946\n",
            "dtype: float64\n"
          ]
        },
        {
          "output_type": "stream",
          "name": "stderr",
          "text": [
            "/usr/local/lib/python3.11/dist-packages/sklearn/utils/deprecation.py:151: FutureWarning: 'force_all_finite' was renamed to 'ensure_all_finite' in 1.6 and will be removed in 1.8.\n",
            "  warnings.warn(\n"
          ]
        }
      ]
    },
    {
      "cell_type": "markdown",
      "source": [
        "#Merging outputs of both models"
      ],
      "metadata": {
        "id": "n4pPiGzXMZcH"
      }
    },
    {
      "cell_type": "code",
      "source": [
        "import pandas as pd\n",
        "import numpy as np\n",
        "from sklearn.preprocessing import MinMaxScaler\n",
        "\n",
        "# Assuming `stock_prices_df` is a DataFrame with columns ['Date', 'Price'] and `sentiment_df` has columns ['Date', 'Sentiment']\n",
        "# Ensure both Date columns are in the same format (convert to naive datetime or to UTC)\n",
        "stock_prices_df['Date'] = pd.to_datetime(stock_prices_df['Date']).dt.tz_localize(None)  # Remove timezone info (naive datetime)\n",
        "sentiment_df['Date'] = pd.to_datetime(sentiment_df['Date']).dt.tz_localize(None)  # Remove timezone info (naive datetime)\n",
        "#convert multiindex stock_prices to unindex\n",
        "stock_prices_df.columns = ['_'.join(filter(None, col)).strip() for col in stock_prices_df.columns.values]\n",
        "stock_prices_df.rename(columns={'Date': 'Date', 'Price_GOOG': 'Price'}, inplace=True)\n",
        "# Merge stock prices and sentiment data based on the 'Date' column\n",
        "merged_data = pd.merge(stock_prices_df, sentiment_df, on='Date')\n",
        "\n",
        "# Check the date ranges in both DataFrames\n",
        "print(f\"Stock Prices Date Range: {stock_prices_df['Date'].min()} to {stock_prices_df['Date'].max()}\")\n",
        "print(f\"Sentiment Data Date Range: {sentiment_df['Date'].min()} to {sentiment_df['Date'].max()}\")\n",
        "\n",
        "# Check the number of matching rows after the merge\n",
        "merged_data = pd.merge(stock_prices_df, sentiment_df, on='Date', how='inner')\n",
        "print(f\"Number of matching rows after merge: {len(merged_data)}\")\n",
        "\n",
        "# Scale the stock prices\n",
        "scaler = MinMaxScaler(feature_range=(0, 1))\n",
        "merged_data['Scaled_Price'] = scaler.fit_transform(merged_data['Price'].values.reshape(-1, 1))\n",
        "\n",
        "# Create a dataset with both scaled stock prices and sentiment data\n",
        "def create_dataset_with_sentiment(merged_data, time_step=60):\n",
        "    X, y = [], []\n",
        "    stock_data = merged_data['Scaled_Price'].values\n",
        "    sentiment_data = merged_data['Sentiment'].values\n",
        "\n",
        "    for i in range(len(stock_data) - time_step - 1):\n",
        "        stock_window = stock_data[i:(i + time_step)]  # Past stock prices\n",
        "        sentiment_window = sentiment_data[i:(i + time_step)]  # Sentiment during the same period\n",
        "\n",
        "        combined = np.column_stack((stock_window, sentiment_window))  # Combine stock prices and sentiment as 2D features\n",
        "        X.append(combined)\n",
        "        y.append(stock_data[i + time_step])  # Next stock price as the target\n",
        "\n",
        "    return np.array(X), np.array(y)\n",
        "\n",
        "# Set the time step for prediction\n",
        "time_step = 6\n",
        "\n",
        "# Create the datasets with stock prices and sentiment\n",
        "X, y = create_dataset_with_sentiment(merged_data, time_step)\n",
        "\n",
        "# Reshape X for LSTM input (samples, time steps, features)\n",
        "X = X.reshape(X.shape[0], time_step, 2)  # 2 features: stock prices and sentiment\n",
        "\n",
        "# X and y are now ready for LSTM training\n",
        "\n"
      ],
      "metadata": {
        "colab": {
          "base_uri": "https://localhost:8080/"
        },
        "id": "yzCjNKyb0tGL",
        "outputId": "a620ed05-1f3c-424e-af28-827a4f310f0a"
      },
      "execution_count": null,
      "outputs": [
        {
          "output_type": "stream",
          "name": "stdout",
          "text": [
            "Stock Prices Date Range: 2025-04-15 00:00:00 to 2025-05-14 00:00:00\n",
            "Sentiment Data Date Range: 2025-04-30 00:00:00 to 2025-05-30 00:00:00\n",
            "Number of matching rows after merge: 11\n"
          ]
        }
      ]
    },
    {
      "cell_type": "code",
      "source": [
        "import numpy as np\n",
        "import tensorflow as tf\n",
        "from tensorflow.keras.models import Sequential\n",
        "from tensorflow.keras.layers import LSTM, Dense\n",
        "\n",
        "def build_lstm_model(time_step):\n",
        "    model = Sequential()\n",
        "    model.add(LSTM(units=50, return_sequences=True, input_shape=(time_step, 2)))  # 2 features: stock prices and sentiment\n",
        "    model.add(LSTM(units=50, return_sequences=False))\n",
        "    model.add(Dense(units=25))\n",
        "    model.add(Dense(units=1))  # Output layer (predicting next stock price)\n",
        "\n",
        "    model.compile(optimizer='adam', loss='mean_squared_error')\n",
        "    return model\n",
        "\n",
        "# Build and train the model\n",
        "model = build_lstm_model(time_step)\n",
        "model.fit(X, y, epochs=20, batch_size=60)"
      ],
      "metadata": {
        "colab": {
          "base_uri": "https://localhost:8080/"
        },
        "id": "E7yPtIkR03b2",
        "outputId": "890ea097-c6b8-4123-e490-f9207e28fc39"
      },
      "execution_count": null,
      "outputs": [
        {
          "output_type": "stream",
          "name": "stdout",
          "text": [
            "Epoch 1/20\n"
          ]
        },
        {
          "output_type": "stream",
          "name": "stderr",
          "text": [
            "/usr/local/lib/python3.11/dist-packages/keras/src/layers/rnn/rnn.py:200: UserWarning: Do not pass an `input_shape`/`input_dim` argument to a layer. When using Sequential models, prefer using an `Input(shape)` object as the first layer in the model instead.\n",
            "  super().__init__(**kwargs)\n"
          ]
        },
        {
          "output_type": "stream",
          "name": "stdout",
          "text": [
            "\u001b[1m1/1\u001b[0m \u001b[32m━━━━━━━━━━━━━━━━━━━━\u001b[0m\u001b[37m\u001b[0m \u001b[1m4s\u001b[0m 4s/step - loss: 0.1479\n",
            "Epoch 2/20\n",
            "\u001b[1m1/1\u001b[0m \u001b[32m━━━━━━━━━━━━━━━━━━━━\u001b[0m\u001b[37m\u001b[0m \u001b[1m0s\u001b[0m 59ms/step - loss: 0.1214\n",
            "Epoch 3/20\n",
            "\u001b[1m1/1\u001b[0m \u001b[32m━━━━━━━━━━━━━━━━━━━━\u001b[0m\u001b[37m\u001b[0m \u001b[1m0s\u001b[0m 64ms/step - loss: 0.0990\n",
            "Epoch 4/20\n",
            "\u001b[1m1/1\u001b[0m \u001b[32m━━━━━━━━━━━━━━━━━━━━\u001b[0m\u001b[37m\u001b[0m \u001b[1m0s\u001b[0m 60ms/step - loss: 0.0806\n",
            "Epoch 5/20\n",
            "\u001b[1m1/1\u001b[0m \u001b[32m━━━━━━━━━━━━━━━━━━━━\u001b[0m\u001b[37m\u001b[0m \u001b[1m0s\u001b[0m 54ms/step - loss: 0.0662\n",
            "Epoch 6/20\n",
            "\u001b[1m1/1\u001b[0m \u001b[32m━━━━━━━━━━━━━━━━━━━━\u001b[0m\u001b[37m\u001b[0m \u001b[1m0s\u001b[0m 54ms/step - loss: 0.0562\n",
            "Epoch 7/20\n",
            "\u001b[1m1/1\u001b[0m \u001b[32m━━━━━━━━━━━━━━━━━━━━\u001b[0m\u001b[37m\u001b[0m \u001b[1m0s\u001b[0m 55ms/step - loss: 0.0510\n",
            "Epoch 8/20\n",
            "\u001b[1m1/1\u001b[0m \u001b[32m━━━━━━━━━━━━━━━━━━━━\u001b[0m\u001b[37m\u001b[0m \u001b[1m0s\u001b[0m 58ms/step - loss: 0.0508\n",
            "Epoch 9/20\n",
            "\u001b[1m1/1\u001b[0m \u001b[32m━━━━━━━━━━━━━━━━━━━━\u001b[0m\u001b[37m\u001b[0m \u001b[1m0s\u001b[0m 55ms/step - loss: 0.0543\n",
            "Epoch 10/20\n",
            "\u001b[1m1/1\u001b[0m \u001b[32m━━━━━━━━━━━━━━━━━━━━\u001b[0m\u001b[37m\u001b[0m \u001b[1m0s\u001b[0m 55ms/step - loss: 0.0588\n",
            "Epoch 11/20\n",
            "\u001b[1m1/1\u001b[0m \u001b[32m━━━━━━━━━━━━━━━━━━━━\u001b[0m\u001b[37m\u001b[0m \u001b[1m0s\u001b[0m 60ms/step - loss: 0.0613\n",
            "Epoch 12/20\n",
            "\u001b[1m1/1\u001b[0m \u001b[32m━━━━━━━━━━━━━━━━━━━━\u001b[0m\u001b[37m\u001b[0m \u001b[1m0s\u001b[0m 52ms/step - loss: 0.0611\n",
            "Epoch 13/20\n",
            "\u001b[1m1/1\u001b[0m \u001b[32m━━━━━━━━━━━━━━━━━━━━\u001b[0m\u001b[37m\u001b[0m \u001b[1m0s\u001b[0m 53ms/step - loss: 0.0588\n",
            "Epoch 14/20\n",
            "\u001b[1m1/1\u001b[0m \u001b[32m━━━━━━━━━━━━━━━━━━━━\u001b[0m\u001b[37m\u001b[0m \u001b[1m0s\u001b[0m 55ms/step - loss: 0.0557\n",
            "Epoch 15/20\n",
            "\u001b[1m1/1\u001b[0m \u001b[32m━━━━━━━━━━━━━━━━━━━━\u001b[0m\u001b[37m\u001b[0m \u001b[1m0s\u001b[0m 58ms/step - loss: 0.0526\n",
            "Epoch 16/20\n",
            "\u001b[1m1/1\u001b[0m \u001b[32m━━━━━━━━━━━━━━━━━━━━\u001b[0m\u001b[37m\u001b[0m \u001b[1m0s\u001b[0m 53ms/step - loss: 0.0503\n",
            "Epoch 17/20\n",
            "\u001b[1m1/1\u001b[0m \u001b[32m━━━━━━━━━━━━━━━━━━━━\u001b[0m\u001b[37m\u001b[0m \u001b[1m0s\u001b[0m 53ms/step - loss: 0.0488\n",
            "Epoch 18/20\n",
            "\u001b[1m1/1\u001b[0m \u001b[32m━━━━━━━━━━━━━━━━━━━━\u001b[0m\u001b[37m\u001b[0m \u001b[1m0s\u001b[0m 63ms/step - loss: 0.0481\n",
            "Epoch 19/20\n",
            "\u001b[1m1/1\u001b[0m \u001b[32m━━━━━━━━━━━━━━━━━━━━\u001b[0m\u001b[37m\u001b[0m \u001b[1m0s\u001b[0m 74ms/step - loss: 0.0480\n",
            "Epoch 20/20\n",
            "\u001b[1m1/1\u001b[0m \u001b[32m━━━━━━━━━━━━━━━━━━━━\u001b[0m\u001b[37m\u001b[0m \u001b[1m0s\u001b[0m 54ms/step - loss: 0.0482\n"
          ]
        },
        {
          "output_type": "execute_result",
          "data": {
            "text/plain": [
              "<keras.src.callbacks.history.History at 0x7e2b942d1190>"
            ]
          },
          "metadata": {},
          "execution_count": 26
        }
      ]
    },
    {
      "cell_type": "code",
      "source": [
        "def predict_future_prices(model, merged_data, time_step, future_days):\n",
        "    # Get the last 'time_step' days of stock prices and sentiment data\n",
        "    recent_stock_prices = merged_data['Scaled_Price'].values[-time_step:]\n",
        "    recent_sentiment = merged_data['Sentiment'].values[-time_step:]\n",
        "\n",
        "    # Combine them into a single input array\n",
        "    recent_data = np.column_stack((recent_stock_prices, recent_sentiment)).reshape(1, time_step, 2)\n",
        "\n",
        "    # Predict future prices day by day\n",
        "    future_predictions = []\n",
        "\n",
        "    for _ in range(future_days):\n",
        "        # Predict the next stock price\n",
        "        next_price = model.predict(recent_data)\n",
        "        future_predictions.append(next_price[0][0])\n",
        "\n",
        "        # Prepare the new data point for the next prediction\n",
        "        next_data = np.array([[next_price[0][0], recent_sentiment[-1]]])  # Assuming sentiment remains constant\n",
        "\n",
        "        # Shift window by 1 and add new data\n",
        "        recent_data = np.concatenate((recent_data[:, 1:, :], next_data.reshape(1, 1, 2)), axis=1)\n",
        "\n",
        "    return future_predictions\n",
        "\n",
        "# Predict stock prices for the next 10 days\n",
        "future_days = 20\n",
        "predicted_future_prices = predict_future_prices(model, merged_data, time_step, future_days)\n",
        "\n",
        "# Show predicted stock prices (in scaled format)\n",
        "print(predicted_future_prices)\n"
      ],
      "metadata": {
        "colab": {
          "base_uri": "https://localhost:8080/"
        },
        "id": "m0sfHELn0-Vy",
        "outputId": "7553d1e2-a3d5-44e7-ab63-476cefd8386c"
      },
      "execution_count": null,
      "outputs": [
        {
          "output_type": "stream",
          "name": "stdout",
          "text": [
            "\u001b[1m1/1\u001b[0m \u001b[32m━━━━━━━━━━━━━━━━━━━━\u001b[0m\u001b[37m\u001b[0m \u001b[1m0s\u001b[0m 482ms/step\n",
            "\u001b[1m1/1\u001b[0m \u001b[32m━━━━━━━━━━━━━━━━━━━━\u001b[0m\u001b[37m\u001b[0m \u001b[1m0s\u001b[0m 63ms/step\n",
            "\u001b[1m1/1\u001b[0m \u001b[32m━━━━━━━━━━━━━━━━━━━━\u001b[0m\u001b[37m\u001b[0m \u001b[1m0s\u001b[0m 62ms/step\n",
            "\u001b[1m1/1\u001b[0m \u001b[32m━━━━━━━━━━━━━━━━━━━━\u001b[0m\u001b[37m\u001b[0m \u001b[1m0s\u001b[0m 57ms/step\n",
            "\u001b[1m1/1\u001b[0m \u001b[32m━━━━━━━━━━━━━━━━━━━━\u001b[0m\u001b[37m\u001b[0m \u001b[1m0s\u001b[0m 61ms/step\n",
            "\u001b[1m1/1\u001b[0m \u001b[32m━━━━━━━━━━━━━━━━━━━━\u001b[0m\u001b[37m\u001b[0m \u001b[1m0s\u001b[0m 66ms/step\n",
            "\u001b[1m1/1\u001b[0m \u001b[32m━━━━━━━━━━━━━━━━━━━━\u001b[0m\u001b[37m\u001b[0m \u001b[1m0s\u001b[0m 56ms/step\n",
            "\u001b[1m1/1\u001b[0m \u001b[32m━━━━━━━━━━━━━━━━━━━━\u001b[0m\u001b[37m\u001b[0m \u001b[1m0s\u001b[0m 68ms/step\n",
            "\u001b[1m1/1\u001b[0m \u001b[32m━━━━━━━━━━━━━━━━━━━━\u001b[0m\u001b[37m\u001b[0m \u001b[1m0s\u001b[0m 53ms/step\n",
            "\u001b[1m1/1\u001b[0m \u001b[32m━━━━━━━━━━━━━━━━━━━━\u001b[0m\u001b[37m\u001b[0m \u001b[1m0s\u001b[0m 55ms/step\n",
            "\u001b[1m1/1\u001b[0m \u001b[32m━━━━━━━━━━━━━━━━━━━━\u001b[0m\u001b[37m\u001b[0m \u001b[1m0s\u001b[0m 54ms/step\n",
            "\u001b[1m1/1\u001b[0m \u001b[32m━━━━━━━━━━━━━━━━━━━━\u001b[0m\u001b[37m\u001b[0m \u001b[1m0s\u001b[0m 55ms/step\n",
            "\u001b[1m1/1\u001b[0m \u001b[32m━━━━━━━━━━━━━━━━━━━━\u001b[0m\u001b[37m\u001b[0m \u001b[1m0s\u001b[0m 52ms/step\n",
            "\u001b[1m1/1\u001b[0m \u001b[32m━━━━━━━━━━━━━━━━━━━━\u001b[0m\u001b[37m\u001b[0m \u001b[1m0s\u001b[0m 85ms/step\n",
            "\u001b[1m1/1\u001b[0m \u001b[32m━━━━━━━━━━━━━━━━━━━━\u001b[0m\u001b[37m\u001b[0m \u001b[1m0s\u001b[0m 63ms/step\n",
            "\u001b[1m1/1\u001b[0m \u001b[32m━━━━━━━━━━━━━━━━━━━━\u001b[0m\u001b[37m\u001b[0m \u001b[1m0s\u001b[0m 59ms/step\n",
            "\u001b[1m1/1\u001b[0m \u001b[32m━━━━━━━━━━━━━━━━━━━━\u001b[0m\u001b[37m\u001b[0m \u001b[1m0s\u001b[0m 60ms/step\n",
            "\u001b[1m1/1\u001b[0m \u001b[32m━━━━━━━━━━━━━━━━━━━━\u001b[0m\u001b[37m\u001b[0m \u001b[1m0s\u001b[0m 63ms/step\n",
            "\u001b[1m1/1\u001b[0m \u001b[32m━━━━━━━━━━━━━━━━━━━━\u001b[0m\u001b[37m\u001b[0m \u001b[1m0s\u001b[0m 55ms/step\n",
            "\u001b[1m1/1\u001b[0m \u001b[32m━━━━━━━━━━━━━━━━━━━━\u001b[0m\u001b[37m\u001b[0m \u001b[1m0s\u001b[0m 43ms/step\n",
            "[0.21879977, 0.2452466, 0.2556467, 0.26606694, 0.2557335, 0.23936905, 0.20231974, 0.20291299, 0.2014662, 0.19902486, 0.19579625, 0.19292392, 0.19076294, 0.19031532, 0.18975152, 0.18920392, 0.18874165, 0.18841434, 0.18820983, 0.18809643]\n"
          ]
        }
      ]
    },
    {
      "cell_type": "markdown",
      "source": [
        "#Output"
      ],
      "metadata": {
        "id": "SKeHvcJ6NXik"
      }
    },
    {
      "cell_type": "code",
      "source": [
        "# Inverse transform the predicted prices\n",
        "predicted_future_prices = scaler.inverse_transform(np.array(predicted_future_prices).reshape(-1, 1))\n",
        "\n",
        "# Display the final predicted stock prices\n",
        "print(\"Predicted stock prices for the next 10 days:\")\n",
        "for i, price in enumerate(predicted_future_prices, 1):\n",
        "    print(f\"Day {i}: {price[0]:.2f}\")"
      ],
      "metadata": {
        "colab": {
          "base_uri": "https://localhost:8080/"
        },
        "id": "6mal20Fw1DBA",
        "outputId": "f4eed00a-ce0a-4089-baf0-b36df2c224c9"
      },
      "execution_count": null,
      "outputs": [
        {
          "output_type": "stream",
          "name": "stdout",
          "text": [
            "Predicted stock prices for the next 10 days:\n",
            "Day 1: 155.87\n",
            "Day 2: 156.24\n",
            "Day 3: 156.38\n",
            "Day 4: 156.53\n",
            "Day 5: 156.38\n",
            "Day 6: 156.15\n",
            "Day 7: 155.63\n",
            "Day 8: 155.64\n",
            "Day 9: 155.62\n",
            "Day 10: 155.59\n",
            "Day 11: 155.54\n",
            "Day 12: 155.50\n",
            "Day 13: 155.47\n",
            "Day 14: 155.47\n",
            "Day 15: 155.46\n",
            "Day 16: 155.45\n",
            "Day 17: 155.44\n",
            "Day 18: 155.44\n",
            "Day 19: 155.44\n",
            "Day 20: 155.44\n"
          ]
        }
      ]
    },
    {
      "cell_type": "code",
      "source": [
        "import matplotlib.pyplot as plt\n",
        "# Prepare data for plotting\n",
        "days = range(1, 21)  # Days from 1 to 10\n",
        "print(f\"the prices after {stock_prices_df.max()}\")\n",
        "# Create the plot\n",
        "plt.figure(figsize=(20, 6))\n",
        "plt.plot(days, predicted_future_prices, marker='o', linestyle='-', color='b', label='Predicted Stock Prices')\n",
        "plt.title('Predicted Stock Prices for the Next 20 Days')\n",
        "plt.xlabel('Days')\n",
        "plt.ylabel('Stock Price')\n",
        "plt.xticks(days)  # Show x-ticks for each day\n",
        "plt.grid()\n",
        "plt.legend()\n",
        "plt.show()"
      ],
      "metadata": {
        "colab": {
          "base_uri": "https://localhost:8080/",
          "height": 400
        },
        "id": "dSgALuUJ1FBs",
        "outputId": "878e5e0b-7e12-4927-cf46-5b30f80fc79b"
      },
      "execution_count": null,
      "outputs": [
        {
          "output_type": "stream",
          "name": "stdout",
          "text": [
            "the prices after Date     2025-05-14 00:00:00\n",
            "Price             166.809998\n",
            "dtype: object\n"
          ]
        },
        {
          "output_type": "display_data",
          "data": {
            "text/plain": [
              "<Figure size 2000x600 with 1 Axes>"
            ],
            "image/png": "[encoded data removed]"
          },
          "metadata": {}
        }
      ]
    }
  ],
  "metadata": {
    "colab": {
      "provenance": [],
      "mount_file_id": "1srF7fag9TUwm8A6QlNyVd4-zSW0IfdCm",
      "authorship_tag": "ABX9TyNk/5qSuOr92QmKnWBTMgK9",
      "include_colab_link": true
    },
    "kernelspec": {
      "display_name": "Python 3",
      "name": "python3"
    },
    "language_info": {
      "name": "python"
    },
    "widgets": {
      "application/vnd.jupyter.widget-state+json": {
        "ce1e0f2d989d46c5a733da2802109cf9": {
          "model_module": "@jupyter-widgets/controls",
          "model_name": "HBoxModel",
          "model_module_version": "1.5.0",
          "state": {
            "_dom_classes": [],
            "_model_module": "@jupyter-widgets/controls",
            "_model_module_version": "1.5.0",
            "_model_name": "HBoxModel",
            "_view_count": null,
            "_view_module": "@jupyter-widgets/controls",
            "_view_module_version": "1.5.0",
            "_view_name": "HBoxView",
            "box_style": "",
            "children": [
              "IPY_MODEL_4c41251c49f2419784e180863ff65ab2",
              "IPY_MODEL_078cf2022d404c829998e56d65403d46",
              "IPY_MODEL_d9d8f36c4b9e4111ae6ec7836a02ef0d"
            ],
            "layout": "IPY_MODEL_271efb4414494fd3813e4f323ca41f57"
          }
        },
        "4c41251c49f2419784e180863ff65ab2": {
          "model_module": "@jupyter-widgets/controls",
          "model_name": "HTMLModel",
          "model_module_version": "1.5.0",
          "state": {
            "_dom_classes": [],
            "_model_module": "@jupyter-widgets/controls",
            "_model_module_version": "1.5.0",
            "_model_name": "HTMLModel",
            "_view_count": null,
            "_view_module": "@jupyter-widgets/controls",
            "_view_module_version": "1.5.0",
            "_view_name": "HTMLView",
            "description": "",
            "description_tooltip": null,
            "layout": "IPY_MODEL_b1e4b40b7e6b4eec98cd01e75775bc48",
            "placeholder": "​",
            "style": "IPY_MODEL_6a9315a60a894143bbf88d69d6fe90f2",
            "value": "Map: 100%"
          }
        },
        "078cf2022d404c829998e56d65403d46": {
          "model_module": "@jupyter-widgets/controls",
          "model_name": "FloatProgressModel",
          "model_module_version": "1.5.0",
          "state": {
            "_dom_classes": [],
            "_model_module": "@jupyter-widgets/controls",
            "_model_module_version": "1.5.0",
            "_model_name": "FloatProgressModel",
            "_view_count": null,
            "_view_module": "@jupyter-widgets/controls",
            "_view_module_version": "1.5.0",
            "_view_name": "ProgressView",
            "bar_style": "success",
            "description": "",
            "description_tooltip": null,
            "layout": "IPY_MODEL_034c938ec2d44d76bcd4b6b9cfe67ceb",
            "max": 4845,
            "min": 0,
            "orientation": "horizontal",
            "style": "IPY_MODEL_6a3a3c07112e4f4989b056ac3a2080fb",
            "value": 4845
          }
        },
        "d9d8f36c4b9e4111ae6ec7836a02ef0d": {
          "model_module": "@jupyter-widgets/controls",
          "model_name": "HTMLModel",
          "model_module_version": "1.5.0",
          "state": {
            "_dom_classes": [],
            "_model_module": "@jupyter-widgets/controls",
            "_model_module_version": "1.5.0",
            "_model_name": "HTMLModel",
            "_view_count": null,
            "_view_module": "@jupyter-widgets/controls",
            "_view_module_version": "1.5.0",
            "_view_name": "HTMLView",
            "description": "",
            "description_tooltip": null,
            "layout": "IPY_MODEL_a878e33dd6b64954838328da8c0c1d95",
            "placeholder": "​",
            "style": "IPY_MODEL_2b6f9a023a234a5fbafb1f5eef0bb2d7",
            "value": " 4845/4845 [00:00&lt;00:00, 9678.68 examples/s]"
          }
        },
        "271efb4414494fd3813e4f323ca41f57": {
          "model_module": "@jupyter-widgets/base",
          "model_name": "LayoutModel",
          "model_module_version": "1.2.0",
          "state": {
            "_model_module": "@jupyter-widgets/base",
            "_model_module_version": "1.2.0",
            "_model_name": "LayoutModel",
            "_view_count": null,
            "_view_module": "@jupyter-widgets/base",
            "_view_module_version": "1.2.0",
            "_view_name": "LayoutView",
            "align_content": null,
            "align_items": null,
            "align_self": null,
            "border": null,
            "bottom": null,
            "display": null,
            "flex": null,
            "flex_flow": null,
            "grid_area": null,
            "grid_auto_columns": null,
            "grid_auto_flow": null,
            "grid_auto_rows": null,
            "grid_column": null,
            "grid_gap": null,
            "grid_row": null,
            "grid_template_areas": null,
            "grid_template_columns": null,
            "grid_template_rows": null,
            "height": null,
            "justify_content": null,
            "justify_items": null,
            "left": null,
            "margin": null,
            "max_height": null,
            "max_width": null,
            "min_height": null,
            "min_width": null,
            "object_fit": null,
            "object_position": null,
            "order": null,
            "overflow": null,
            "overflow_x": null,
            "overflow_y": null,
            "padding": null,
            "right": null,
            "top": null,
            "visibility": null,
            "width": null
          }
        },
        "b1e4b40b7e6b4eec98cd01e75775bc48": {
          "model_module": "@jupyter-widgets/base",
          "model_name": "LayoutModel",
          "model_module_version": "1.2.0",
          "state": {
            "_model_module": "@jupyter-widgets/base",
            "_model_module_version": "1.2.0",
            "_model_name": "LayoutModel",
            "_view_count": null,
            "_view_module": "@jupyter-widgets/base",
            "_view_module_version": "1.2.0",
            "_view_name": "LayoutView",
            "align_content": null,
            "align_items": null,
            "align_self": null,
            "border": null,
            "bottom": null,
            "display": null,
            "flex": null,
            "flex_flow": null,
            "grid_area": null,
            "grid_auto_columns": null,
            "grid_auto_flow": null,
            "grid_auto_rows": null,
            "grid_column": null,
            "grid_gap": null,
            "grid_row": null,
            "grid_template_areas": null,
            "grid_template_columns": null,
            "grid_template_rows": null,
            "height": null,
            "justify_content": null,
            "justify_items": null,
            "left": null,
            "margin": null,
            "max_height": null,
            "max_width": null,
            "min_height": null,
            "min_width": null,
            "object_fit": null,
            "object_position": null,
            "order": null,
            "overflow": null,
            "overflow_x": null,
            "overflow_y": null,
            "padding": null,
            "right": null,
            "top": null,
            "visibility": null,
            "width": null
          }
        },
        "6a9315a60a894143bbf88d69d6fe90f2": {
          "model_module": "@jupyter-widgets/controls",
          "model_name": "DescriptionStyleModel",
          "model_module_version": "1.5.0",
          "state": {
            "_model_module": "@jupyter-widgets/controls",
            "_model_module_version": "1.5.0",
            "_model_name": "DescriptionStyleModel",
            "_view_count": null,
            "_view_module": "@jupyter-widgets/base",
            "_view_module_version": "1.2.0",
            "_view_name": "StyleView",
            "description_width": ""
          }
        },
        "034c938ec2d44d76bcd4b6b9cfe67ceb": {
          "model_module": "@jupyter-widgets/base",
          "model_name": "LayoutModel",
          "model_module_version": "1.2.0",
          "state": {
            "_model_module": "@jupyter-widgets/base",
            "_model_module_version": "1.2.0",
            "_model_name": "LayoutModel",
            "_view_count": null,
            "_view_module": "@jupyter-widgets/base",
            "_view_module_version": "1.2.0",
            "_view_name": "LayoutView",
            "align_content": null,
            "align_items": null,
            "align_self": null,
            "border": null,
            "bottom": null,
            "display": null,
            "flex": null,
            "flex_flow": null,
            "grid_area": null,
            "grid_auto_columns": null,
            "grid_auto_flow": null,
            "grid_auto_rows": null,
            "grid_column": null,
            "grid_gap": null,
            "grid_row": null,
            "grid_template_areas": null,
            "grid_template_columns": null,
            "grid_template_rows": null,
            "height": null,
            "justify_content": null,
            "justify_items": null,
            "left": null,
            "margin": null,
            "max_height": null,
            "max_width": null,
            "min_height": null,
            "min_width": null,
            "object_fit": null,
            "object_position": null,
            "order": null,
            "overflow": null,
            "overflow_x": null,
            "overflow_y": null,
            "padding": null,
            "right": null,
            "top": null,
            "visibility": null,
            "width": null
          }
        },
        "6a3a3c07112e4f4989b056ac3a2080fb": {
          "model_module": "@jupyter-widgets/controls",
          "model_name": "ProgressStyleModel",
          "model_module_version": "1.5.0",
          "state": {
            "_model_module": "@jupyter-widgets/controls",
            "_model_module_version": "1.5.0",
            "_model_name": "ProgressStyleModel",
            "_view_count": null,
            "_view_module": "@jupyter-widgets/base",
            "_view_module_version": "1.2.0",
            "_view_name": "StyleView",
            "bar_color": null,
            "description_width": ""
          }
        },
        "a878e33dd6b64954838328da8c0c1d95": {
          "model_module": "@jupyter-widgets/base",
          "model_name": "LayoutModel",
          "model_module_version": "1.2.0",
          "state": {
            "_model_module": "@jupyter-widgets/base",
            "_model_module_version": "1.2.0",
            "_model_name": "LayoutModel",
            "_view_count": null,
            "_view_module": "@jupyter-widgets/base",
            "_view_module_version": "1.2.0",
            "_view_name": "LayoutView",
            "align_content": null,
            "align_items": null,
            "align_self": null,
            "border": null,
            "bottom": null,
            "display": null,
            "flex": null,
            "flex_flow": null,
            "grid_area": null,
            "grid_auto_columns": null,
            "grid_auto_flow": null,
            "grid_auto_rows": null,
            "grid_column": null,
            "grid_gap": null,
            "grid_row": null,
            "grid_template_areas": null,
            "grid_template_columns": null,
            "grid_template_rows": null,
            "height": null,
            "justify_content": null,
            "justify_items": null,
            "left": null,
            "margin": null,
            "max_height": null,
            "max_width": null,
            "min_height": null,
            "min_width": null,
            "object_fit": null,
            "object_position": null,
            "order": null,
            "overflow": null,
            "overflow_x": null,
            "overflow_y": null,
            "padding": null,
            "right": null,
            "top": null,
            "visibility": null,
            "width": null
          }
        },
        "2b6f9a023a234a5fbafb1f5eef0bb2d7": {
          "model_module": "@jupyter-widgets/controls",
          "model_name": "DescriptionStyleModel",
          "model_module_version": "1.5.0",
          "state": {
            "_model_module": "@jupyter-widgets/controls",
            "_model_module_version": "1.5.0",
            "_model_name": "DescriptionStyleModel",
            "_view_count": null,
            "_view_module": "@jupyter-widgets/base",
            "_view_module_version": "1.2.0",
            "_view_name": "StyleView",
            "description_width": ""
          }
        },
        "71c4a0ab02294c758056ceaab704cf6d": {
          "model_module": "@jupyter-widgets/controls",
          "model_name": "HBoxModel",
          "model_module_version": "1.5.0",
          "state": {
            "_dom_classes": [],
            "_model_module": "@jupyter-widgets/controls",
            "_model_module_version": "1.5.0",
            "_model_name": "HBoxModel",
            "_view_count": null,
            "_view_module": "@jupyter-widgets/controls",
            "_view_module_version": "1.5.0",
            "_view_name": "HBoxView",
            "box_style": "",
            "children": [
              "IPY_MODEL_2318beaa535f4f6d82d39e003c0b6dfb",
              "IPY_MODEL_86e0b888bad04fa9b3ff2b88c9153b8e",
              "IPY_MODEL_13a819cca62c4ca1b48f2b7f77d8e36c"
            ],
            "layout": "IPY_MODEL_3ef34cb98f554c4f99f354b85d687d22"
          }
        },
        "2318beaa535f4f6d82d39e003c0b6dfb": {
          "model_module": "@jupyter-widgets/controls",
          "model_name": "HTMLModel",
          "model_module_version": "1.5.0",
          "state": {
            "_dom_classes": [],
            "_model_module": "@jupyter-widgets/controls",
            "_model_module_version": "1.5.0",
            "_model_name": "HTMLModel",
            "_view_count": null,
            "_view_module": "@jupyter-widgets/controls",
            "_view_module_version": "1.5.0",
            "_view_name": "HTMLView",
            "description": "",
            "description_tooltip": null,
            "layout": "IPY_MODEL_1027c54a71334412b2630895d27014ac",
            "placeholder": "​",
            "style": "IPY_MODEL_476c01bfe5094aafbb920328491bd4aa",
            "value": "Map: 100%"
          }
        },
        "86e0b888bad04fa9b3ff2b88c9153b8e": {
          "model_module": "@jupyter-widgets/controls",
          "model_name": "FloatProgressModel",
          "model_module_version": "1.5.0",
          "state": {
            "_dom_classes": [],
            "_model_module": "@jupyter-widgets/controls",
            "_model_module_version": "1.5.0",
            "_model_name": "FloatProgressModel",
            "_view_count": null,
            "_view_module": "@jupyter-widgets/controls",
            "_view_module_version": "1.5.0",
            "_view_name": "ProgressView",
            "bar_style": "success",
            "description": "",
            "description_tooltip": null,
            "layout": "IPY_MODEL_e4b1ed57e6c04c2bab1d27a7f8b08c17",
            "max": 3876,
            "min": 0,
            "orientation": "horizontal",
            "style": "IPY_MODEL_8971b7eec4f94c9a9250f79bc13a69cc",
            "value": 3876
          }
        },
        "13a819cca62c4ca1b48f2b7f77d8e36c": {
          "model_module": "@jupyter-widgets/controls",
          "model_name": "HTMLModel",
          "model_module_version": "1.5.0",
          "state": {
            "_dom_classes": [],
            "_model_module": "@jupyter-widgets/controls",
            "_model_module_version": "1.5.0",
            "_model_name": "HTMLModel",
            "_view_count": null,
            "_view_module": "@jupyter-widgets/controls",
            "_view_module_version": "1.5.0",
            "_view_name": "HTMLView",
            "description": "",
            "description_tooltip": null,
            "layout": "IPY_MODEL_2671460f0fab47acadfd221506e0aa62",
            "placeholder": "​",
            "style": "IPY_MODEL_6d1e3416bc7b4d8bb15757b83ec37d7f",
            "value": " 3876/3876 [00:02&lt;00:00, 1558.57 examples/s]"
          }
        },
        "3ef34cb98f554c4f99f354b85d687d22": {
          "model_module": "@jupyter-widgets/base",
          "model_name": "LayoutModel",
          "model_module_version": "1.2.0",
          "state": {
            "_model_module": "@jupyter-widgets/base",
            "_model_module_version": "1.2.0",
            "_model_name": "LayoutModel",
            "_view_count": null,
            "_view_module": "@jupyter-widgets/base",
            "_view_module_version": "1.2.0",
            "_view_name": "LayoutView",
            "align_content": null,
            "align_items": null,
            "align_self": null,
            "border": null,
            "bottom": null,
            "display": null,
            "flex": null,
            "flex_flow": null,
            "grid_area": null,
            "grid_auto_columns": null,
            "grid_auto_flow": null,
            "grid_auto_rows": null,
            "grid_column": null,
            "grid_gap": null,
            "grid_row": null,
            "grid_template_areas": null,
            "grid_template_columns": null,
            "grid_template_rows": null,
            "height": null,
            "justify_content": null,
            "justify_items": null,
            "left": null,
            "margin": null,
            "max_height": null,
            "max_width": null,
            "min_height": null,
            "min_width": null,
            "object_fit": null,
            "object_position": null,
            "order": null,
            "overflow": null,
            "overflow_x": null,
            "overflow_y": null,
            "padding": null,
            "right": null,
            "top": null,
            "visibility": null,
            "width": null
          }
        },
        "1027c54a71334412b2630895d27014ac": {
          "model_module": "@jupyter-widgets/base",
          "model_name": "LayoutModel",
          "model_module_version": "1.2.0",
          "state": {
            "_model_module": "@jupyter-widgets/base",
            "_model_module_version": "1.2.0",
            "_model_name": "LayoutModel",
            "_view_count": null,
            "_view_module": "@jupyter-widgets/base",
            "_view_module_version": "1.2.0",
            "_view_name": "LayoutView",
            "align_content": null,
            "align_items": null,
            "align_self": null,
            "border": null,
            "bottom": null,
            "display": null,
            "flex": null,
            "flex_flow": null,
            "grid_area": null,
            "grid_auto_columns": null,
            "grid_auto_flow": null,
            "grid_auto_rows": null,
            "grid_column": null,
            "grid_gap": null,
            "grid_row": null,
            "grid_template_areas": null,
            "grid_template_columns": null,
            "grid_template_rows": null,
            "height": null,
            "justify_content": null,
            "justify_items": null,
            "left": null,
            "margin": null,
            "max_height": null,
            "max_width": null,
            "min_height": null,
            "min_width": null,
            "object_fit": null,
            "object_position": null,
            "order": null,
            "overflow": null,
            "overflow_x": null,
            "overflow_y": null,
            "padding": null,
            "right": null,
            "top": null,
            "visibility": null,
            "width": null
          }
        },
        "476c01bfe5094aafbb920328491bd4aa": {
          "model_module": "@jupyter-widgets/controls",
          "model_name": "DescriptionStyleModel",
          "model_module_version": "1.5.0",
          "state": {
            "_model_module": "@jupyter-widgets/controls",
            "_model_module_version": "1.5.0",
            "_model_name": "DescriptionStyleModel",
            "_view_count": null,
            "_view_module": "@jupyter-widgets/base",
            "_view_module_version": "1.2.0",
            "_view_name": "StyleView",
            "description_width": ""
          }
        },
        "e4b1ed57e6c04c2bab1d27a7f8b08c17": {
          "model_module": "@jupyter-widgets/base",
          "model_name": "LayoutModel",
          "model_module_version": "1.2.0",
          "state": {
            "_model_module": "@jupyter-widgets/base",
            "_model_module_version": "1.2.0",
            "_model_name": "LayoutModel",
            "_view_count": null,
            "_view_module": "@jupyter-widgets/base",
            "_view_module_version": "1.2.0",
            "_view_name": "LayoutView",
            "align_content": null,
            "align_items": null,
            "align_self": null,
            "border": null,
            "bottom": null,
            "display": null,
            "flex": null,
            "flex_flow": null,
            "grid_area": null,
            "grid_auto_columns": null,
            "grid_auto_flow": null,
            "grid_auto_rows": null,
            "grid_column": null,
            "grid_gap": null,
            "grid_row": null,
            "grid_template_areas": null,
            "grid_template_columns": null,
            "grid_template_rows": null,
            "height": null,
            "justify_content": null,
            "justify_items": null,
            "left": null,
            "margin": null,
            "max_height": null,
            "max_width": null,
            "min_height": null,
            "min_width": null,
            "object_fit": null,
            "object_position": null,
            "order": null,
            "overflow": null,
            "overflow_x": null,
            "overflow_y": null,
            "padding": null,
            "right": null,
            "top": null,
            "visibility": null,
            "width": null
          }
        },
        "8971b7eec4f94c9a9250f79bc13a69cc": {
          "model_module": "@jupyter-widgets/controls",
          "model_name": "ProgressStyleModel",
          "model_module_version": "1.5.0",
          "state": {
            "_model_module": "@jupyter-widgets/controls",
            "_model_module_version": "1.5.0",
            "_model_name": "ProgressStyleModel",
            "_view_count": null,
            "_view_module": "@jupyter-widgets/base",
            "_view_module_version": "1.2.0",
            "_view_name": "StyleView",
            "bar_color": null,
            "description_width": ""
          }
        },
        "2671460f0fab47acadfd221506e0aa62": {
          "model_module": "@jupyter-widgets/base",
          "model_name": "LayoutModel",
          "model_module_version": "1.2.0",
          "state": {
            "_model_module": "@jupyter-widgets/base",
            "_model_module_version": "1.2.0",
            "_model_name": "LayoutModel",
            "_view_count": null,
            "_view_module": "@jupyter-widgets/base",
            "_view_module_version": "1.2.0",
            "_view_name": "LayoutView",
            "align_content": null,
            "align_items": null,
            "align_self": null,
            "border": null,
            "bottom": null,
            "display": null,
            "flex": null,
            "flex_flow": null,
            "grid_area": null,
            "grid_auto_columns": null,
            "grid_auto_flow": null,
            "grid_auto_rows": null,
            "grid_column": null,
            "grid_gap": null,
            "grid_row": null,
            "grid_template_areas": null,
            "grid_template_columns": null,
            "grid_template_rows": null,
            "height": null,
            "justify_content": null,
            "justify_items": null,
            "left": null,
            "margin": null,
            "max_height": null,
            "max_width": null,
            "min_height": null,
            "min_width": null,
            "object_fit": null,
            "object_position": null,
            "order": null,
            "overflow": null,
            "overflow_x": null,
            "overflow_y": null,
            "padding": null,
            "right": null,
            "top": null,
            "visibility": null,
            "width": null
          }
        },
        "6d1e3416bc7b4d8bb15757b83ec37d7f": {
          "model_module": "@jupyter-widgets/controls",
          "model_name": "DescriptionStyleModel",
          "model_module_version": "1.5.0",
          "state": {
            "_model_module": "@jupyter-widgets/controls",
            "_model_module_version": "1.5.0",
            "_model_name": "DescriptionStyleModel",
            "_view_count": null,
            "_view_module": "@jupyter-widgets/base",
            "_view_module_version": "1.2.0",
            "_view_name": "StyleView",
            "description_width": ""
          }
        },
        "7c126e1fbc3742f1a4a38212a0b23728": {
          "model_module": "@jupyter-widgets/controls",
          "model_name": "HBoxModel",
          "model_module_version": "1.5.0",
          "state": {
            "_dom_classes": [],
            "_model_module": "@jupyter-widgets/controls",
            "_model_module_version": "1.5.0",
            "_model_name": "HBoxModel",
            "_view_count": null,
            "_view_module": "@jupyter-widgets/controls",
            "_view_module_version": "1.5.0",
            "_view_name": "HBoxView",
            "box_style": "",
            "children": [
              "IPY_MODEL_5d9b131220e84f4d885d8d9fbd4be19e",
              "IPY_MODEL_9900da48d0bc4e5f81af0f82c6fd7994",
              "IPY_MODEL_09ad6cbcecf243fabcc52374b81aade7"
            ],
            "layout": "IPY_MODEL_b1d820e50a1c43818e2b022593dce594"
          }
        },
        "5d9b131220e84f4d885d8d9fbd4be19e": {
          "model_module": "@jupyter-widgets/controls",
          "model_name": "HTMLModel",
          "model_module_version": "1.5.0",
          "state": {
            "_dom_classes": [],
            "_model_module": "@jupyter-widgets/controls",
            "_model_module_version": "1.5.0",
            "_model_name": "HTMLModel",
            "_view_count": null,
            "_view_module": "@jupyter-widgets/controls",
            "_view_module_version": "1.5.0",
            "_view_name": "HTMLView",
            "description": "",
            "description_tooltip": null,
            "layout": "IPY_MODEL_907efeccf035408a8f7c5784f70f1d7b",
            "placeholder": "​",
            "style": "IPY_MODEL_4822a46390c94aff9627daf79ffb4817",
            "value": "Map: 100%"
          }
        },
        "9900da48d0bc4e5f81af0f82c6fd7994": {
          "model_module": "@jupyter-widgets/controls",
          "model_name": "FloatProgressModel",
          "model_module_version": "1.5.0",
          "state": {
            "_dom_classes": [],
            "_model_module": "@jupyter-widgets/controls",
            "_model_module_version": "1.5.0",
            "_model_name": "FloatProgressModel",
            "_view_count": null,
            "_view_module": "@jupyter-widgets/controls",
            "_view_module_version": "1.5.0",
            "_view_name": "ProgressView",
            "bar_style": "success",
            "description": "",
            "description_tooltip": null,
            "layout": "IPY_MODEL_95f30d9dcf1c4c8b92766b232e4fb1eb",
            "max": 969,
            "min": 0,
            "orientation": "horizontal",
            "style": "IPY_MODEL_02a56be89e32446293301f9d59472118",
            "value": 969
          }
        },
        "09ad6cbcecf243fabcc52374b81aade7": {
          "model_module": "@jupyter-widgets/controls",
          "model_name": "HTMLModel",
          "model_module_version": "1.5.0",
          "state": {
            "_dom_classes": [],
            "_model_module": "@jupyter-widgets/controls",
            "_model_module_version": "1.5.0",
            "_model_name": "HTMLModel",
            "_view_count": null,
            "_view_module": "@jupyter-widgets/controls",
            "_view_module_version": "1.5.0",
            "_view_name": "HTMLView",
            "description": "",
            "description_tooltip": null,
            "layout": "IPY_MODEL_e1f1fb8d17644a36a468fd37bfa2ce39",
            "placeholder": "​",
            "style": "IPY_MODEL_b0fc5e63e5de42e398270afc6784250e",
            "value": " 969/969 [00:00&lt;00:00, 1876.93 examples/s]"
          }
        },
        "b1d820e50a1c43818e2b022593dce594": {
          "model_module": "@jupyter-widgets/base",
          "model_name": "LayoutModel",
          "model_module_version": "1.2.0",
          "state": {
            "_model_module": "@jupyter-widgets/base",
            "_model_module_version": "1.2.0",
            "_model_name": "LayoutModel",
            "_view_count": null,
            "_view_module": "@jupyter-widgets/base",
            "_view_module_version": "1.2.0",
            "_view_name": "LayoutView",
            "align_content": null,
            "align_items": null,
            "align_self": null,
            "border": null,
            "bottom": null,
            "display": null,
            "flex": null,
            "flex_flow": null,
            "grid_area": null,
            "grid_auto_columns": null,
            "grid_auto_flow": null,
            "grid_auto_rows": null,
            "grid_column": null,
            "grid_gap": null,
            "grid_row": null,
            "grid_template_areas": null,
            "grid_template_columns": null,
            "grid_template_rows": null,
            "height": null,
            "justify_content": null,
            "justify_items": null,
            "left": null,
            "margin": null,
            "max_height": null,
            "max_width": null,
            "min_height": null,
            "min_width": null,
            "object_fit": null,
            "object_position": null,
            "order": null,
            "overflow": null,
            "overflow_x": null,
            "overflow_y": null,
            "padding": null,
            "right": null,
            "top": null,
            "visibility": null,
            "width": null
          }
        },
        "907efeccf035408a8f7c5784f70f1d7b": {
          "model_module": "@jupyter-widgets/base",
          "model_name": "LayoutModel",
          "model_module_version": "1.2.0",
          "state": {
            "_model_module": "@jupyter-widgets/base",
            "_model_module_version": "1.2.0",
            "_model_name": "LayoutModel",
            "_view_count": null,
            "_view_module": "@jupyter-widgets/base",
            "_view_module_version": "1.2.0",
            "_view_name": "LayoutView",
            "align_content": null,
            "align_items": null,
            "align_self": null,
            "border": null,
            "bottom": null,
            "display": null,
            "flex": null,
            "flex_flow": null,
            "grid_area": null,
            "grid_auto_columns": null,
            "grid_auto_flow": null,
            "grid_auto_rows": null,
            "grid_column": null,
            "grid_gap": null,
            "grid_row": null,
            "grid_template_areas": null,
            "grid_template_columns": null,
            "grid_template_rows": null,
            "height": null,
            "justify_content": null,
            "justify_items": null,
            "left": null,
            "margin": null,
            "max_height": null,
            "max_width": null,
            "min_height": null,
            "min_width": null,
            "object_fit": null,
            "object_position": null,
            "order": null,
            "overflow": null,
            "overflow_x": null,
            "overflow_y": null,
            "padding": null,
            "right": null,
            "top": null,
            "visibility": null,
            "width": null
          }
        },
        "4822a46390c94aff9627daf79ffb4817": {
          "model_module": "@jupyter-widgets/controls",
          "model_name": "DescriptionStyleModel",
          "model_module_version": "1.5.0",
          "state": {
            "_model_module": "@jupyter-widgets/controls",
            "_model_module_version": "1.5.0",
            "_model_name": "DescriptionStyleModel",
            "_view_count": null,
            "_view_module": "@jupyter-widgets/base",
            "_view_module_version": "1.2.0",
            "_view_name": "StyleView",
            "description_width": ""
          }
        },
        "95f30d9dcf1c4c8b92766b232e4fb1eb": {
          "model_module": "@jupyter-widgets/base",
          "model_name": "LayoutModel",
          "model_module_version": "1.2.0",
          "state": {
            "_model_module": "@jupyter-widgets/base",
            "_model_module_version": "1.2.0",
            "_model_name": "LayoutModel",
            "_view_count": null,
            "_view_module": "@jupyter-widgets/base",
            "_view_module_version": "1.2.0",
            "_view_name": "LayoutView",
            "align_content": null,
            "align_items": null,
            "align_self": null,
            "border": null,
            "bottom": null,
            "display": null,
            "flex": null,
            "flex_flow": null,
            "grid_area": null,
            "grid_auto_columns": null,
            "grid_auto_flow": null,
            "grid_auto_rows": null,
            "grid_column": null,
            "grid_gap": null,
            "grid_row": null,
            "grid_template_areas": null,
            "grid_template_columns": null,
            "grid_template_rows": null,
            "height": null,
            "justify_content": null,
            "justify_items": null,
            "left": null,
            "margin": null,
            "max_height": null,
            "max_width": null,
            "min_height": null,
            "min_width": null,
            "object_fit": null,
            "object_position": null,
            "order": null,
            "overflow": null,
            "overflow_x": null,
            "overflow_y": null,
            "padding": null,
            "right": null,
            "top": null,
            "visibility": null,
            "width": null
          }
        },
        "02a56be89e32446293301f9d59472118": {
          "model_module": "@jupyter-widgets/controls",
          "model_name": "ProgressStyleModel",
          "model_module_version": "1.5.0",
          "state": {
            "_model_module": "@jupyter-widgets/controls",
            "_model_module_version": "1.5.0",
            "_model_name": "ProgressStyleModel",
            "_view_count": null,
            "_view_module": "@jupyter-widgets/base",
            "_view_module_version": "1.2.0",
            "_view_name": "StyleView",
            "bar_color": null,
            "description_width": ""
          }
        },
        "e1f1fb8d17644a36a468fd37bfa2ce39": {
          "model_module": "@jupyter-widgets/base",
          "model_name": "LayoutModel",
          "model_module_version": "1.2.0",
          "state": {
            "_model_module": "@jupyter-widgets/base",
            "_model_module_version": "1.2.0",
            "_model_name": "LayoutModel",
            "_view_count": null,
            "_view_module": "@jupyter-widgets/base",
            "_view_module_version": "1.2.0",
            "_view_name": "LayoutView",
            "align_content": null,
            "align_items": null,
            "align_self": null,
            "border": null,
            "bottom": null,
            "display": null,
            "flex": null,
            "flex_flow": null,
            "grid_area": null,
            "grid_auto_columns": null,
            "grid_auto_flow": null,
            "grid_auto_rows": null,
            "grid_column": null,
            "grid_gap": null,
            "grid_row": null,
            "grid_template_areas": null,
            "grid_template_columns": null,
            "grid_template_rows": null,
            "height": null,
            "justify_content": null,
            "justify_items": null,
            "left": null,
            "margin": null,
            "max_height": null,
            "max_width": null,
            "min_height": null,
            "min_width": null,
            "object_fit": null,
            "object_position": null,
            "order": null,
            "overflow": null,
            "overflow_x": null,
            "overflow_y": null,
            "padding": null,
            "right": null,
            "top": null,
            "visibility": null,
            "width": null
          }
        },
        "b0fc5e63e5de42e398270afc6784250e": {
          "model_module": "@jupyter-widgets/controls",
          "model_name": "DescriptionStyleModel",
          "model_module_version": "1.5.0",
          "state": {
            "_model_module": "@jupyter-widgets/controls",
            "_model_module_version": "1.5.0",
            "_model_name": "DescriptionStyleModel",
            "_view_count": null,
            "_view_module": "@jupyter-widgets/base",
            "_view_module_version": "1.2.0",
            "_view_name": "StyleView",
            "description_width": ""
          }
        },
        "f7f6fed6b3904edcb71dab428d8b80b1": {
          "model_module": "@jupyter-widgets/controls",
          "model_name": "HBoxModel",
          "model_module_version": "1.5.0",
          "state": {
            "_dom_classes": [],
            "_model_module": "@jupyter-widgets/controls",
            "_model_module_version": "1.5.0",
            "_model_name": "HBoxModel",
            "_view_count": null,
            "_view_module": "@jupyter-widgets/controls",
            "_view_module_version": "1.5.0",
            "_view_name": "HBoxView",
            "box_style": "",
            "children": [
              "IPY_MODEL_5aba10dbb22a45a099d382c801031608",
              "IPY_MODEL_1844779e8c7441468447497bf0406048",
              "IPY_MODEL_fac4c993d66944278ddda8a884649ab2"
            ],
            "layout": "IPY_MODEL_877021ac6a4546c5b80e3d9b9e08bcf7"
          }
        },
        "5aba10dbb22a45a099d382c801031608": {
          "model_module": "@jupyter-widgets/controls",
          "model_name": "HTMLModel",
          "model_module_version": "1.5.0",
          "state": {
            "_dom_classes": [],
            "_model_module": "@jupyter-widgets/controls",
            "_model_module_version": "1.5.0",
            "_model_name": "HTMLModel",
            "_view_count": null,
            "_view_module": "@jupyter-widgets/controls",
            "_view_module_version": "1.5.0",
            "_view_name": "HTMLView",
            "description": "",
            "description_tooltip": null,
            "layout": "IPY_MODEL_f9aa7f5a8346412a87e6583dd31185aa",
            "placeholder": "​",
            "style": "IPY_MODEL_843ec77eb41b47c48635e44fdbb99b59",
            "value": "tf_model.h5: 100%"
          }
        },
        "1844779e8c7441468447497bf0406048": {
          "model_module": "@jupyter-widgets/controls",
          "model_name": "FloatProgressModel",
          "model_module_version": "1.5.0",
          "state": {
            "_dom_classes": [],
            "_model_module": "@jupyter-widgets/controls",
            "_model_module_version": "1.5.0",
            "_model_name": "FloatProgressModel",
            "_view_count": null,
            "_view_module": "@jupyter-widgets/controls",
            "_view_module_version": "1.5.0",
            "_view_name": "ProgressView",
            "bar_style": "success",
            "description": "",
            "description_tooltip": null,
            "layout": "IPY_MODEL_954587acd84740a6b55aa3fa5f79a3b3",
            "max": 439304476,
            "min": 0,
            "orientation": "horizontal",
            "style": "IPY_MODEL_d1a02a22ff174bf58cae06cdd25dfe39",
            "value": 439304476
          }
        },
        "fac4c993d66944278ddda8a884649ab2": {
          "model_module": "@jupyter-widgets/controls",
          "model_name": "HTMLModel",
          "model_module_version": "1.5.0",
          "state": {
            "_dom_classes": [],
            "_model_module": "@jupyter-widgets/controls",
            "_model_module_version": "1.5.0",
            "_model_name": "HTMLModel",
            "_view_count": null,
            "_view_module": "@jupyter-widgets/controls",
            "_view_module_version": "1.5.0",
            "_view_name": "HTMLView",
            "description": "",
            "description_tooltip": null,
            "layout": "IPY_MODEL_2097d717ec504a59ba3bcea26d76bb2d",
            "placeholder": "​",
            "style": "IPY_MODEL_b2916a6f5dc94f3098047be53e277008",
            "value": " 439M/439M [00:03&lt;00:00, 151MB/s]"
          }
        },
        "877021ac6a4546c5b80e3d9b9e08bcf7": {
          "model_module": "@jupyter-widgets/base",
          "model_name": "LayoutModel",
          "model_module_version": "1.2.0",
          "state": {
            "_model_module": "@jupyter-widgets/base",
            "_model_module_version": "1.2.0",
            "_model_name": "LayoutModel",
            "_view_count": null,
            "_view_module": "@jupyter-widgets/base",
            "_view_module_version": "1.2.0",
            "_view_name": "LayoutView",
            "align_content": null,
            "align_items": null,
            "align_self": null,
            "border": null,
            "bottom": null,
            "display": null,
            "flex": null,
            "flex_flow": null,
            "grid_area": null,
            "grid_auto_columns": null,
            "grid_auto_flow": null,
            "grid_auto_rows": null,
            "grid_column": null,
            "grid_gap": null,
            "grid_row": null,
            "grid_template_areas": null,
            "grid_template_columns": null,
            "grid_template_rows": null,
            "height": null,
            "justify_content": null,
            "justify_items": null,
            "left": null,
            "margin": null,
            "max_height": null,
            "max_width": null,
            "min_height": null,
            "min_width": null,
            "object_fit": null,
            "object_position": null,
            "order": null,
            "overflow": null,
            "overflow_x": null,
            "overflow_y": null,
            "padding": null,
            "right": null,
            "top": null,
            "visibility": null,
            "width": null
          }
        },
        "f9aa7f5a8346412a87e6583dd31185aa": {
          "model_module": "@jupyter-widgets/base",
          "model_name": "LayoutModel",
          "model_module_version": "1.2.0",
          "state": {
            "_model_module": "@jupyter-widgets/base",
            "_model_module_version": "1.2.0",
            "_model_name": "LayoutModel",
            "_view_count": null,
            "_view_module": "@jupyter-widgets/base",
            "_view_module_version": "1.2.0",
            "_view_name": "LayoutView",
            "align_content": null,
            "align_items": null,
            "align_self": null,
            "border": null,
            "bottom": null,
            "display": null,
            "flex": null,
            "flex_flow": null,
            "grid_area": null,
            "grid_auto_columns": null,
            "grid_auto_flow": null,
            "grid_auto_rows": null,
            "grid_column": null,
            "grid_gap": null,
            "grid_row": null,
            "grid_template_areas": null,
            "grid_template_columns": null,
            "grid_template_rows": null,
            "height": null,
            "justify_content": null,
            "justify_items": null,
            "left": null,
            "margin": null,
            "max_height": null,
            "max_width": null,
            "min_height": null,
            "min_width": null,
            "object_fit": null,
            "object_position": null,
            "order": null,
            "overflow": null,
            "overflow_x": null,
            "overflow_y": null,
            "padding": null,
            "right": null,
            "top": null,
            "visibility": null,
            "width": null
          }
        },
        "843ec77eb41b47c48635e44fdbb99b59": {
          "model_module": "@jupyter-widgets/controls",
          "model_name": "DescriptionStyleModel",
          "model_module_version": "1.5.0",
          "state": {
            "_model_module": "@jupyter-widgets/controls",
            "_model_module_version": "1.5.0",
            "_model_name": "DescriptionStyleModel",
            "_view_count": null,
            "_view_module": "@jupyter-widgets/base",
            "_view_module_version": "1.2.0",
            "_view_name": "StyleView",
            "description_width": ""
          }
        },
        "954587acd84740a6b55aa3fa5f79a3b3": {
          "model_module": "@jupyter-widgets/base",
          "model_name": "LayoutModel",
          "model_module_version": "1.2.0",
          "state": {
            "_model_module": "@jupyter-widgets/base",
            "_model_module_version": "1.2.0",
            "_model_name": "LayoutModel",
            "_view_count": null,
            "_view_module": "@jupyter-widgets/base",
            "_view_module_version": "1.2.0",
            "_view_name": "LayoutView",
            "align_content": null,
            "align_items": null,
            "align_self": null,
            "border": null,
            "bottom": null,
            "display": null,
            "flex": null,
            "flex_flow": null,
            "grid_area": null,
            "grid_auto_columns": null,
            "grid_auto_flow": null,
            "grid_auto_rows": null,
            "grid_column": null,
            "grid_gap": null,
            "grid_row": null,
            "grid_template_areas": null,
            "grid_template_columns": null,
            "grid_template_rows": null,
            "height": null,
            "justify_content": null,
            "justify_items": null,
            "left": null,
            "margin": null,
            "max_height": null,
            "max_width": null,
            "min_height": null,
            "min_width": null,
            "object_fit": null,
            "object_position": null,
            "order": null,
            "overflow": null,
            "overflow_x": null,
            "overflow_y": null,
            "padding": null,
            "right": null,
            "top": null,
            "visibility": null,
            "width": null
          }
        },
        "d1a02a22ff174bf58cae06cdd25dfe39": {
          "model_module": "@jupyter-widgets/controls",
          "model_name": "ProgressStyleModel",
          "model_module_version": "1.5.0",
          "state": {
            "_model_module": "@jupyter-widgets/controls",
            "_model_module_version": "1.5.0",
            "_model_name": "ProgressStyleModel",
            "_view_count": null,
            "_view_module": "@jupyter-widgets/base",
            "_view_module_version": "1.2.0",
            "_view_name": "StyleView",
            "bar_color": null,
            "description_width": ""
          }
        },
        "2097d717ec504a59ba3bcea26d76bb2d": {
          "model_module": "@jupyter-widgets/base",
          "model_name": "LayoutModel",
          "model_module_version": "1.2.0",
          "state": {
            "_model_module": "@jupyter-widgets/base",
            "_model_module_version": "1.2.0",
            "_model_name": "LayoutModel",
            "_view_count": null,
            "_view_module": "@jupyter-widgets/base",
            "_view_module_version": "1.2.0",
            "_view_name": "LayoutView",
            "align_content": null,
            "align_items": null,
            "align_self": null,
            "border": null,
            "bottom": null,
            "display": null,
            "flex": null,
            "flex_flow": null,
            "grid_area": null,
            "grid_auto_columns": null,
            "grid_auto_flow": null,
            "grid_auto_rows": null,
            "grid_column": null,
            "grid_gap": null,
            "grid_row": null,
            "grid_template_areas": null,
            "grid_template_columns": null,
            "grid_template_rows": null,
            "height": null,
            "justify_content": null,
            "justify_items": null,
            "left": null,
            "margin": null,
            "max_height": null,
            "max_width": null,
            "min_height": null,
            "min_width": null,
            "object_fit": null,
            "object_position": null,
            "order": null,
            "overflow": null,
            "overflow_x": null,
            "overflow_y": null,
            "padding": null,
            "right": null,
            "top": null,
            "visibility": null,
            "width": null
          }
        },
        "b2916a6f5dc94f3098047be53e277008": {
          "model_module": "@jupyter-widgets/controls",
          "model_name": "DescriptionStyleModel",
          "model_module_version": "1.5.0",
          "state": {
            "_model_module": "@jupyter-widgets/controls",
            "_model_module_version": "1.5.0",
            "_model_name": "DescriptionStyleModel",
            "_view_count": null,
            "_view_module": "@jupyter-widgets/base",
            "_view_module_version": "1.2.0",
            "_view_name": "StyleView",
            "description_width": ""
          }
        }
      }
    }
  },
  "nbformat": 4,
  "nbformat_minor": 0
}